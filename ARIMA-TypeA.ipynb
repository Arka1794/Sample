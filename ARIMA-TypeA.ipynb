{
 "cells": [
  {
   "cell_type": "code",
   "execution_count": 1,
   "metadata": {},
   "outputs": [],
   "source": [
    "#reading the files\n",
    "import pandas as pd\n",
    "import matplotlib.pyplot as plt\n",
    "%matplotlib inline"
   ]
  },
  {
   "cell_type": "code",
   "execution_count": 2,
   "metadata": {},
   "outputs": [],
   "source": [
    "features = pd.read_csv(\"Features data set.csv\")\n",
    "sales = pd.read_csv(\"sales data-set.csv\")\n",
    "stores = pd.read_csv(\"stores data-set.csv\")"
   ]
  },
  {
   "cell_type": "code",
   "execution_count": 3,
   "metadata": {},
   "outputs": [],
   "source": [
    "data = pd.merge(sales , features, on = ['Store','Date', 'IsHoliday'] , how = 'left')\n",
    "data = pd.merge(data , stores , on = ['Store'] , how = 'left')"
   ]
  },
  {
   "cell_type": "code",
   "execution_count": 4,
   "metadata": {},
   "outputs": [
    {
     "data": {
      "text/html": [
       "<div>\n",
       "<style scoped>\n",
       "    .dataframe tbody tr th:only-of-type {\n",
       "        vertical-align: middle;\n",
       "    }\n",
       "\n",
       "    .dataframe tbody tr th {\n",
       "        vertical-align: top;\n",
       "    }\n",
       "\n",
       "    .dataframe thead th {\n",
       "        text-align: right;\n",
       "    }\n",
       "</style>\n",
       "<table border=\"1\" class=\"dataframe\">\n",
       "  <thead>\n",
       "    <tr style=\"text-align: right;\">\n",
       "      <th></th>\n",
       "      <th>Store</th>\n",
       "      <th>Dept</th>\n",
       "      <th>Date</th>\n",
       "      <th>Weekly_Sales</th>\n",
       "      <th>IsHoliday</th>\n",
       "      <th>Temperature</th>\n",
       "      <th>Fuel_Price</th>\n",
       "      <th>MarkDown1</th>\n",
       "      <th>MarkDown2</th>\n",
       "      <th>MarkDown3</th>\n",
       "      <th>MarkDown4</th>\n",
       "      <th>MarkDown5</th>\n",
       "      <th>CPI</th>\n",
       "      <th>Unemployment</th>\n",
       "      <th>Type</th>\n",
       "      <th>Size</th>\n",
       "    </tr>\n",
       "  </thead>\n",
       "  <tbody>\n",
       "    <tr>\n",
       "      <th>0</th>\n",
       "      <td>1</td>\n",
       "      <td>1</td>\n",
       "      <td>05/02/2010</td>\n",
       "      <td>24924.50</td>\n",
       "      <td>False</td>\n",
       "      <td>42.31</td>\n",
       "      <td>2.572</td>\n",
       "      <td>NaN</td>\n",
       "      <td>NaN</td>\n",
       "      <td>NaN</td>\n",
       "      <td>NaN</td>\n",
       "      <td>NaN</td>\n",
       "      <td>211.096358</td>\n",
       "      <td>8.106</td>\n",
       "      <td>A</td>\n",
       "      <td>151315</td>\n",
       "    </tr>\n",
       "    <tr>\n",
       "      <th>1</th>\n",
       "      <td>1</td>\n",
       "      <td>1</td>\n",
       "      <td>12/02/2010</td>\n",
       "      <td>46039.49</td>\n",
       "      <td>True</td>\n",
       "      <td>38.51</td>\n",
       "      <td>2.548</td>\n",
       "      <td>NaN</td>\n",
       "      <td>NaN</td>\n",
       "      <td>NaN</td>\n",
       "      <td>NaN</td>\n",
       "      <td>NaN</td>\n",
       "      <td>211.242170</td>\n",
       "      <td>8.106</td>\n",
       "      <td>A</td>\n",
       "      <td>151315</td>\n",
       "    </tr>\n",
       "    <tr>\n",
       "      <th>2</th>\n",
       "      <td>1</td>\n",
       "      <td>1</td>\n",
       "      <td>19/02/2010</td>\n",
       "      <td>41595.55</td>\n",
       "      <td>False</td>\n",
       "      <td>39.93</td>\n",
       "      <td>2.514</td>\n",
       "      <td>NaN</td>\n",
       "      <td>NaN</td>\n",
       "      <td>NaN</td>\n",
       "      <td>NaN</td>\n",
       "      <td>NaN</td>\n",
       "      <td>211.289143</td>\n",
       "      <td>8.106</td>\n",
       "      <td>A</td>\n",
       "      <td>151315</td>\n",
       "    </tr>\n",
       "    <tr>\n",
       "      <th>3</th>\n",
       "      <td>1</td>\n",
       "      <td>1</td>\n",
       "      <td>26/02/2010</td>\n",
       "      <td>19403.54</td>\n",
       "      <td>False</td>\n",
       "      <td>46.63</td>\n",
       "      <td>2.561</td>\n",
       "      <td>NaN</td>\n",
       "      <td>NaN</td>\n",
       "      <td>NaN</td>\n",
       "      <td>NaN</td>\n",
       "      <td>NaN</td>\n",
       "      <td>211.319643</td>\n",
       "      <td>8.106</td>\n",
       "      <td>A</td>\n",
       "      <td>151315</td>\n",
       "    </tr>\n",
       "    <tr>\n",
       "      <th>4</th>\n",
       "      <td>1</td>\n",
       "      <td>1</td>\n",
       "      <td>05/03/2010</td>\n",
       "      <td>21827.90</td>\n",
       "      <td>False</td>\n",
       "      <td>46.50</td>\n",
       "      <td>2.625</td>\n",
       "      <td>NaN</td>\n",
       "      <td>NaN</td>\n",
       "      <td>NaN</td>\n",
       "      <td>NaN</td>\n",
       "      <td>NaN</td>\n",
       "      <td>211.350143</td>\n",
       "      <td>8.106</td>\n",
       "      <td>A</td>\n",
       "      <td>151315</td>\n",
       "    </tr>\n",
       "  </tbody>\n",
       "</table>\n",
       "</div>"
      ],
      "text/plain": [
       "   Store  Dept        Date  Weekly_Sales  IsHoliday  Temperature  Fuel_Price  \\\n",
       "0      1     1  05/02/2010      24924.50      False        42.31       2.572   \n",
       "1      1     1  12/02/2010      46039.49       True        38.51       2.548   \n",
       "2      1     1  19/02/2010      41595.55      False        39.93       2.514   \n",
       "3      1     1  26/02/2010      19403.54      False        46.63       2.561   \n",
       "4      1     1  05/03/2010      21827.90      False        46.50       2.625   \n",
       "\n",
       "   MarkDown1  MarkDown2  MarkDown3  MarkDown4  MarkDown5         CPI  \\\n",
       "0        NaN        NaN        NaN        NaN        NaN  211.096358   \n",
       "1        NaN        NaN        NaN        NaN        NaN  211.242170   \n",
       "2        NaN        NaN        NaN        NaN        NaN  211.289143   \n",
       "3        NaN        NaN        NaN        NaN        NaN  211.319643   \n",
       "4        NaN        NaN        NaN        NaN        NaN  211.350143   \n",
       "\n",
       "   Unemployment Type    Size  \n",
       "0         8.106    A  151315  \n",
       "1         8.106    A  151315  \n",
       "2         8.106    A  151315  \n",
       "3         8.106    A  151315  \n",
       "4         8.106    A  151315  "
      ]
     },
     "execution_count": 4,
     "metadata": {},
     "output_type": "execute_result"
    }
   ],
   "source": [
    "data.head()"
   ]
  },
  {
   "cell_type": "code",
   "execution_count": 5,
   "metadata": {},
   "outputs": [],
   "source": [
    "#from dplython import (DplyFrame, X, diamonds, select, sift, sample_n,\n",
    "   # sample_frac, head, arrange, mutate, group_by, summarize, DelayFunction)"
   ]
  },
  {
   "cell_type": "code",
   "execution_count": 6,
   "metadata": {},
   "outputs": [],
   "source": [
    "#dividing into hierarchies\n",
    "Type_A= data[data[\"Type\"]=='A']"
   ]
  },
  {
   "cell_type": "code",
   "execution_count": 7,
   "metadata": {},
   "outputs": [
    {
     "data": {
      "text/html": [
       "<div>\n",
       "<style scoped>\n",
       "    .dataframe tbody tr th:only-of-type {\n",
       "        vertical-align: middle;\n",
       "    }\n",
       "\n",
       "    .dataframe tbody tr th {\n",
       "        vertical-align: top;\n",
       "    }\n",
       "\n",
       "    .dataframe thead th {\n",
       "        text-align: right;\n",
       "    }\n",
       "</style>\n",
       "<table border=\"1\" class=\"dataframe\">\n",
       "  <thead>\n",
       "    <tr style=\"text-align: right;\">\n",
       "      <th></th>\n",
       "      <th>Store</th>\n",
       "      <th>Dept</th>\n",
       "      <th>Date</th>\n",
       "      <th>Weekly_Sales</th>\n",
       "      <th>IsHoliday</th>\n",
       "      <th>Temperature</th>\n",
       "      <th>Fuel_Price</th>\n",
       "      <th>MarkDown1</th>\n",
       "      <th>MarkDown2</th>\n",
       "      <th>MarkDown3</th>\n",
       "      <th>MarkDown4</th>\n",
       "      <th>MarkDown5</th>\n",
       "      <th>CPI</th>\n",
       "      <th>Unemployment</th>\n",
       "      <th>Type</th>\n",
       "      <th>Size</th>\n",
       "    </tr>\n",
       "  </thead>\n",
       "  <tbody>\n",
       "    <tr>\n",
       "      <th>0</th>\n",
       "      <td>1</td>\n",
       "      <td>1</td>\n",
       "      <td>05/02/2010</td>\n",
       "      <td>24924.50</td>\n",
       "      <td>False</td>\n",
       "      <td>42.31</td>\n",
       "      <td>2.572</td>\n",
       "      <td>NaN</td>\n",
       "      <td>NaN</td>\n",
       "      <td>NaN</td>\n",
       "      <td>NaN</td>\n",
       "      <td>NaN</td>\n",
       "      <td>211.096358</td>\n",
       "      <td>8.106</td>\n",
       "      <td>A</td>\n",
       "      <td>151315</td>\n",
       "    </tr>\n",
       "    <tr>\n",
       "      <th>1</th>\n",
       "      <td>1</td>\n",
       "      <td>1</td>\n",
       "      <td>12/02/2010</td>\n",
       "      <td>46039.49</td>\n",
       "      <td>True</td>\n",
       "      <td>38.51</td>\n",
       "      <td>2.548</td>\n",
       "      <td>NaN</td>\n",
       "      <td>NaN</td>\n",
       "      <td>NaN</td>\n",
       "      <td>NaN</td>\n",
       "      <td>NaN</td>\n",
       "      <td>211.242170</td>\n",
       "      <td>8.106</td>\n",
       "      <td>A</td>\n",
       "      <td>151315</td>\n",
       "    </tr>\n",
       "    <tr>\n",
       "      <th>2</th>\n",
       "      <td>1</td>\n",
       "      <td>1</td>\n",
       "      <td>19/02/2010</td>\n",
       "      <td>41595.55</td>\n",
       "      <td>False</td>\n",
       "      <td>39.93</td>\n",
       "      <td>2.514</td>\n",
       "      <td>NaN</td>\n",
       "      <td>NaN</td>\n",
       "      <td>NaN</td>\n",
       "      <td>NaN</td>\n",
       "      <td>NaN</td>\n",
       "      <td>211.289143</td>\n",
       "      <td>8.106</td>\n",
       "      <td>A</td>\n",
       "      <td>151315</td>\n",
       "    </tr>\n",
       "    <tr>\n",
       "      <th>3</th>\n",
       "      <td>1</td>\n",
       "      <td>1</td>\n",
       "      <td>26/02/2010</td>\n",
       "      <td>19403.54</td>\n",
       "      <td>False</td>\n",
       "      <td>46.63</td>\n",
       "      <td>2.561</td>\n",
       "      <td>NaN</td>\n",
       "      <td>NaN</td>\n",
       "      <td>NaN</td>\n",
       "      <td>NaN</td>\n",
       "      <td>NaN</td>\n",
       "      <td>211.319643</td>\n",
       "      <td>8.106</td>\n",
       "      <td>A</td>\n",
       "      <td>151315</td>\n",
       "    </tr>\n",
       "    <tr>\n",
       "      <th>4</th>\n",
       "      <td>1</td>\n",
       "      <td>1</td>\n",
       "      <td>05/03/2010</td>\n",
       "      <td>21827.90</td>\n",
       "      <td>False</td>\n",
       "      <td>46.50</td>\n",
       "      <td>2.625</td>\n",
       "      <td>NaN</td>\n",
       "      <td>NaN</td>\n",
       "      <td>NaN</td>\n",
       "      <td>NaN</td>\n",
       "      <td>NaN</td>\n",
       "      <td>211.350143</td>\n",
       "      <td>8.106</td>\n",
       "      <td>A</td>\n",
       "      <td>151315</td>\n",
       "    </tr>\n",
       "  </tbody>\n",
       "</table>\n",
       "</div>"
      ],
      "text/plain": [
       "   Store  Dept        Date  Weekly_Sales  IsHoliday  Temperature  Fuel_Price  \\\n",
       "0      1     1  05/02/2010      24924.50      False        42.31       2.572   \n",
       "1      1     1  12/02/2010      46039.49       True        38.51       2.548   \n",
       "2      1     1  19/02/2010      41595.55      False        39.93       2.514   \n",
       "3      1     1  26/02/2010      19403.54      False        46.63       2.561   \n",
       "4      1     1  05/03/2010      21827.90      False        46.50       2.625   \n",
       "\n",
       "   MarkDown1  MarkDown2  MarkDown3  MarkDown4  MarkDown5         CPI  \\\n",
       "0        NaN        NaN        NaN        NaN        NaN  211.096358   \n",
       "1        NaN        NaN        NaN        NaN        NaN  211.242170   \n",
       "2        NaN        NaN        NaN        NaN        NaN  211.289143   \n",
       "3        NaN        NaN        NaN        NaN        NaN  211.319643   \n",
       "4        NaN        NaN        NaN        NaN        NaN  211.350143   \n",
       "\n",
       "   Unemployment Type    Size  \n",
       "0         8.106    A  151315  \n",
       "1         8.106    A  151315  \n",
       "2         8.106    A  151315  \n",
       "3         8.106    A  151315  \n",
       "4         8.106    A  151315  "
      ]
     },
     "execution_count": 7,
     "metadata": {},
     "output_type": "execute_result"
    }
   ],
   "source": [
    "Type_A.head()"
   ]
  },
  {
   "cell_type": "code",
   "execution_count": 8,
   "metadata": {},
   "outputs": [
    {
     "data": {
      "text/plain": [
       "array([ 1,  2,  4,  6,  8, 11, 13, 14, 19, 20, 24, 26, 27, 28, 31, 32, 33,\n",
       "       34, 36, 39, 40, 41])"
      ]
     },
     "execution_count": 8,
     "metadata": {},
     "output_type": "execute_result"
    }
   ],
   "source": [
    "Type_A.Store.unique()"
   ]
  },
  {
   "cell_type": "code",
   "execution_count": 9,
   "metadata": {},
   "outputs": [
    {
     "data": {
      "text/html": [
       "<div>\n",
       "<style scoped>\n",
       "    .dataframe tbody tr th:only-of-type {\n",
       "        vertical-align: middle;\n",
       "    }\n",
       "\n",
       "    .dataframe tbody tr th {\n",
       "        vertical-align: top;\n",
       "    }\n",
       "\n",
       "    .dataframe thead th {\n",
       "        text-align: right;\n",
       "    }\n",
       "</style>\n",
       "<table border=\"1\" class=\"dataframe\">\n",
       "  <thead>\n",
       "    <tr style=\"text-align: right;\">\n",
       "      <th></th>\n",
       "      <th>Date</th>\n",
       "      <th>Weekly_Sales</th>\n",
       "    </tr>\n",
       "  </thead>\n",
       "  <tbody>\n",
       "    <tr>\n",
       "      <th>0</th>\n",
       "      <td>05/02/2010</td>\n",
       "      <td>24924.50</td>\n",
       "    </tr>\n",
       "    <tr>\n",
       "      <th>1</th>\n",
       "      <td>12/02/2010</td>\n",
       "      <td>46039.49</td>\n",
       "    </tr>\n",
       "    <tr>\n",
       "      <th>2</th>\n",
       "      <td>19/02/2010</td>\n",
       "      <td>41595.55</td>\n",
       "    </tr>\n",
       "    <tr>\n",
       "      <th>3</th>\n",
       "      <td>26/02/2010</td>\n",
       "      <td>19403.54</td>\n",
       "    </tr>\n",
       "    <tr>\n",
       "      <th>4</th>\n",
       "      <td>05/03/2010</td>\n",
       "      <td>21827.90</td>\n",
       "    </tr>\n",
       "  </tbody>\n",
       "</table>\n",
       "</div>"
      ],
      "text/plain": [
       "         Date  Weekly_Sales\n",
       "0  05/02/2010      24924.50\n",
       "1  12/02/2010      46039.49\n",
       "2  19/02/2010      41595.55\n",
       "3  26/02/2010      19403.54\n",
       "4  05/03/2010      21827.90"
      ]
     },
     "execution_count": 9,
     "metadata": {},
     "output_type": "execute_result"
    }
   ],
   "source": [
    "#Type A\n",
    "Type_A1=Type_A.drop([\"Dept\",\"Store\",\"IsHoliday\",\"Temperature\",\"Fuel_Price\",\"MarkDown1\",\"MarkDown2\",\"MarkDown3\",\"MarkDown4\",\"MarkDown5\",\"CPI\",\"Unemployment\",\"Size\",\"Type\",],axis=1)\n",
    "Type_A1.head()"
   ]
  },
  {
   "cell_type": "code",
   "execution_count": 10,
   "metadata": {},
   "outputs": [],
   "source": [
    "export_csv = Type_A1.to_csv (r'data_new.csv', index = None, header=True)"
   ]
  },
  {
   "cell_type": "code",
   "execution_count": 11,
   "metadata": {},
   "outputs": [
    {
     "data": {
      "text/html": [
       "<div>\n",
       "<style scoped>\n",
       "    .dataframe tbody tr th:only-of-type {\n",
       "        vertical-align: middle;\n",
       "    }\n",
       "\n",
       "    .dataframe tbody tr th {\n",
       "        vertical-align: top;\n",
       "    }\n",
       "\n",
       "    .dataframe thead th {\n",
       "        text-align: right;\n",
       "    }\n",
       "</style>\n",
       "<table border=\"1\" class=\"dataframe\">\n",
       "  <thead>\n",
       "    <tr style=\"text-align: right;\">\n",
       "      <th></th>\n",
       "      <th>Weekly_Sales</th>\n",
       "    </tr>\n",
       "    <tr>\n",
       "      <th>Date</th>\n",
       "      <th></th>\n",
       "    </tr>\n",
       "  </thead>\n",
       "  <tbody>\n",
       "    <tr>\n",
       "      <th>2010-05-02</th>\n",
       "      <td>24924.50</td>\n",
       "    </tr>\n",
       "    <tr>\n",
       "      <th>2010-12-02</th>\n",
       "      <td>46039.49</td>\n",
       "    </tr>\n",
       "    <tr>\n",
       "      <th>2010-02-19</th>\n",
       "      <td>41595.55</td>\n",
       "    </tr>\n",
       "    <tr>\n",
       "      <th>2010-02-26</th>\n",
       "      <td>19403.54</td>\n",
       "    </tr>\n",
       "    <tr>\n",
       "      <th>2010-05-03</th>\n",
       "      <td>21827.90</td>\n",
       "    </tr>\n",
       "  </tbody>\n",
       "</table>\n",
       "</div>"
      ],
      "text/plain": [
       "            Weekly_Sales\n",
       "Date                    \n",
       "2010-05-02      24924.50\n",
       "2010-12-02      46039.49\n",
       "2010-02-19      41595.55\n",
       "2010-02-26      19403.54\n",
       "2010-05-03      21827.90"
      ]
     },
     "execution_count": 11,
     "metadata": {},
     "output_type": "execute_result"
    }
   ],
   "source": [
    "# importing the data again\n",
    "F_TypeA = pd.read_csv(\"data_new.csv\",index_col = [0], parse_dates = [0])\n",
    "F_TypeA.head()"
   ]
  },
  {
   "cell_type": "code",
   "execution_count": 12,
   "metadata": {},
   "outputs": [
    {
     "data": {
      "text/plain": [
       "pandas.core.frame.DataFrame"
      ]
     },
     "execution_count": 12,
     "metadata": {},
     "output_type": "execute_result"
    }
   ],
   "source": [
    "type(F_TypeA)"
   ]
  },
  {
   "cell_type": "code",
   "execution_count": 13,
   "metadata": {},
   "outputs": [
    {
     "data": {
      "text/plain": [
       "215478"
      ]
     },
     "execution_count": 13,
     "metadata": {},
     "output_type": "execute_result"
    }
   ],
   "source": [
    "F_TypeA.size"
   ]
  },
  {
   "cell_type": "code",
   "execution_count": 14,
   "metadata": {},
   "outputs": [],
   "source": [
    "F_TypeA = F_TypeA[0:10000]"
   ]
  },
  {
   "cell_type": "code",
   "execution_count": 15,
   "metadata": {},
   "outputs": [],
   "source": [
    "series_value = F_TypeA.values"
   ]
  },
  {
   "cell_type": "code",
   "execution_count": 16,
   "metadata": {},
   "outputs": [
    {
     "data": {
      "text/plain": [
       "array([[24924.5 ],\n",
       "       [46039.49],\n",
       "       [41595.55],\n",
       "       ...,\n",
       "       [35158.35],\n",
       "       [32060.9 ],\n",
       "       [37986.05]])"
      ]
     },
     "execution_count": 16,
     "metadata": {},
     "output_type": "execute_result"
    }
   ],
   "source": [
    "series_value"
   ]
  },
  {
   "cell_type": "code",
   "execution_count": 17,
   "metadata": {},
   "outputs": [
    {
     "data": {
      "text/plain": [
       "numpy.ndarray"
      ]
     },
     "execution_count": 17,
     "metadata": {},
     "output_type": "execute_result"
    }
   ],
   "source": [
    "type(series_value)"
   ]
  },
  {
   "cell_type": "code",
   "execution_count": 18,
   "metadata": {},
   "outputs": [
    {
     "data": {
      "text/plain": [
       "10000"
      ]
     },
     "execution_count": 18,
     "metadata": {},
     "output_type": "execute_result"
    }
   ],
   "source": [
    "F_TypeA.size"
   ]
  },
  {
   "cell_type": "code",
   "execution_count": 19,
   "metadata": {},
   "outputs": [
    {
     "data": {
      "text/html": [
       "<div>\n",
       "<style scoped>\n",
       "    .dataframe tbody tr th:only-of-type {\n",
       "        vertical-align: middle;\n",
       "    }\n",
       "\n",
       "    .dataframe tbody tr th {\n",
       "        vertical-align: top;\n",
       "    }\n",
       "\n",
       "    .dataframe thead th {\n",
       "        text-align: right;\n",
       "    }\n",
       "</style>\n",
       "<table border=\"1\" class=\"dataframe\">\n",
       "  <thead>\n",
       "    <tr style=\"text-align: right;\">\n",
       "      <th></th>\n",
       "      <th>Weekly_Sales</th>\n",
       "    </tr>\n",
       "    <tr>\n",
       "      <th>Date</th>\n",
       "      <th></th>\n",
       "    </tr>\n",
       "  </thead>\n",
       "  <tbody>\n",
       "    <tr>\n",
       "      <th>2011-08-07</th>\n",
       "      <td>39544.16</td>\n",
       "    </tr>\n",
       "    <tr>\n",
       "      <th>2011-07-15</th>\n",
       "      <td>38860.63</td>\n",
       "    </tr>\n",
       "    <tr>\n",
       "      <th>2011-07-22</th>\n",
       "      <td>35158.35</td>\n",
       "    </tr>\n",
       "    <tr>\n",
       "      <th>2011-07-29</th>\n",
       "      <td>32060.90</td>\n",
       "    </tr>\n",
       "    <tr>\n",
       "      <th>2011-05-08</th>\n",
       "      <td>37986.05</td>\n",
       "    </tr>\n",
       "  </tbody>\n",
       "</table>\n",
       "</div>"
      ],
      "text/plain": [
       "            Weekly_Sales\n",
       "Date                    \n",
       "2011-08-07      39544.16\n",
       "2011-07-15      38860.63\n",
       "2011-07-22      35158.35\n",
       "2011-07-29      32060.90\n",
       "2011-05-08      37986.05"
      ]
     },
     "execution_count": 19,
     "metadata": {},
     "output_type": "execute_result"
    }
   ],
   "source": [
    "F_TypeA.tail()"
   ]
  },
  {
   "cell_type": "code",
   "execution_count": 20,
   "metadata": {},
   "outputs": [
    {
     "data": {
      "text/html": [
       "<div>\n",
       "<style scoped>\n",
       "    .dataframe tbody tr th:only-of-type {\n",
       "        vertical-align: middle;\n",
       "    }\n",
       "\n",
       "    .dataframe tbody tr th {\n",
       "        vertical-align: top;\n",
       "    }\n",
       "\n",
       "    .dataframe thead th {\n",
       "        text-align: right;\n",
       "    }\n",
       "</style>\n",
       "<table border=\"1\" class=\"dataframe\">\n",
       "  <thead>\n",
       "    <tr style=\"text-align: right;\">\n",
       "      <th></th>\n",
       "      <th>Weekly_Sales</th>\n",
       "    </tr>\n",
       "  </thead>\n",
       "  <tbody>\n",
       "    <tr>\n",
       "      <th>count</th>\n",
       "      <td>10000.000000</td>\n",
       "    </tr>\n",
       "    <tr>\n",
       "      <th>mean</th>\n",
       "      <td>21838.423076</td>\n",
       "    </tr>\n",
       "    <tr>\n",
       "      <th>std</th>\n",
       "      <td>28003.825244</td>\n",
       "    </tr>\n",
       "    <tr>\n",
       "      <th>min</th>\n",
       "      <td>-863.000000</td>\n",
       "    </tr>\n",
       "    <tr>\n",
       "      <th>25%</th>\n",
       "      <td>3418.160000</td>\n",
       "    </tr>\n",
       "    <tr>\n",
       "      <th>50%</th>\n",
       "      <td>10117.050000</td>\n",
       "    </tr>\n",
       "    <tr>\n",
       "      <th>75%</th>\n",
       "      <td>31506.697500</td>\n",
       "    </tr>\n",
       "    <tr>\n",
       "      <th>max</th>\n",
       "      <td>203670.470000</td>\n",
       "    </tr>\n",
       "  </tbody>\n",
       "</table>\n",
       "</div>"
      ],
      "text/plain": [
       "        Weekly_Sales\n",
       "count   10000.000000\n",
       "mean    21838.423076\n",
       "std     28003.825244\n",
       "min      -863.000000\n",
       "25%      3418.160000\n",
       "50%     10117.050000\n",
       "75%     31506.697500\n",
       "max    203670.470000"
      ]
     },
     "execution_count": 20,
     "metadata": {},
     "output_type": "execute_result"
    }
   ],
   "source": [
    "F_TypeA.describe()"
   ]
  },
  {
   "cell_type": "code",
   "execution_count": 21,
   "metadata": {},
   "outputs": [
    {
     "data": {
      "text/plain": [
       "<bound method DataFrame.info of             Weekly_Sales\n",
       "Date                    \n",
       "2010-05-02      24924.50\n",
       "2010-12-02      46039.49\n",
       "2010-02-19      41595.55\n",
       "2010-02-26      19403.54\n",
       "2010-05-03      21827.90\n",
       "...                  ...\n",
       "2011-08-07      39544.16\n",
       "2011-07-15      38860.63\n",
       "2011-07-22      35158.35\n",
       "2011-07-29      32060.90\n",
       "2011-05-08      37986.05\n",
       "\n",
       "[10000 rows x 1 columns]>"
      ]
     },
     "execution_count": 21,
     "metadata": {},
     "output_type": "execute_result"
    }
   ],
   "source": [
    "F_TypeA.info"
   ]
  },
  {
   "cell_type": "code",
   "execution_count": 22,
   "metadata": {},
   "outputs": [
    {
     "data": {
      "text/plain": [
       "<matplotlib.axes._subplots.AxesSubplot at 0x123f3f490>"
      ]
     },
     "execution_count": 22,
     "metadata": {},
     "output_type": "execute_result"
    },
    {
     "data": {
      "image/png": "[encoded data removed]",
      "text/plain": [
       "<Figure size 432x288 with 1 Axes>"
      ]
     },
     "metadata": {
      "needs_background": "light"
     },
     "output_type": "display_data"
    }
   ],
   "source": [
    "F_TypeA.plot()"
   ]
  },
  {
   "cell_type": "code",
   "execution_count": 23,
   "metadata": {},
   "outputs": [],
   "source": [
    "F_TypeA_mean = F_TypeA.rolling(window = 10).mean()"
   ]
  },
  {
   "cell_type": "code",
   "execution_count": 24,
   "metadata": {},
   "outputs": [],
   "source": [
    "from statsmodels.graphics.tsaplots import plot_acf"
   ]
  },
  {
   "cell_type": "code",
   "execution_count": 25,
   "metadata": {},
   "outputs": [
    {
     "data": {
      "image/png": "[encoded data removed]",
      "text/plain": [
       "<Figure size 432x288 with 1 Axes>"
      ]
     },
     "execution_count": 25,
     "metadata": {},
     "output_type": "execute_result"
    },
    {
     "data": {
      "image/png": "[encoded data removed]",
      "text/plain": [
       "<Figure size 432x288 with 1 Axes>"
      ]
     },
     "metadata": {
      "needs_background": "light"
     },
     "output_type": "display_data"
    }
   ],
   "source": [
    "plot_acf(F_TypeA)"
   ]
  },
  {
   "cell_type": "markdown",
   "metadata": {},
   "source": [
    "means mean, variance & covariance is constant over period of time"
   ]
  },
  {
   "cell_type": "markdown",
   "metadata": {},
   "source": [
    "## Converting series to stationary"
   ]
  },
  {
   "cell_type": "code",
   "execution_count": 26,
   "metadata": {},
   "outputs": [
    {
     "data": {
      "text/html": [
       "<div>\n",
       "<style scoped>\n",
       "    .dataframe tbody tr th:only-of-type {\n",
       "        vertical-align: middle;\n",
       "    }\n",
       "\n",
       "    .dataframe tbody tr th {\n",
       "        vertical-align: top;\n",
       "    }\n",
       "\n",
       "    .dataframe thead th {\n",
       "        text-align: right;\n",
       "    }\n",
       "</style>\n",
       "<table border=\"1\" class=\"dataframe\">\n",
       "  <thead>\n",
       "    <tr style=\"text-align: right;\">\n",
       "      <th></th>\n",
       "      <th>Weekly_Sales</th>\n",
       "    </tr>\n",
       "    <tr>\n",
       "      <th>Date</th>\n",
       "      <th></th>\n",
       "    </tr>\n",
       "  </thead>\n",
       "  <tbody>\n",
       "    <tr>\n",
       "      <th>2010-05-02</th>\n",
       "      <td>24924.50</td>\n",
       "    </tr>\n",
       "    <tr>\n",
       "      <th>2010-12-02</th>\n",
       "      <td>46039.49</td>\n",
       "    </tr>\n",
       "    <tr>\n",
       "      <th>2010-02-19</th>\n",
       "      <td>41595.55</td>\n",
       "    </tr>\n",
       "    <tr>\n",
       "      <th>2010-02-26</th>\n",
       "      <td>19403.54</td>\n",
       "    </tr>\n",
       "    <tr>\n",
       "      <th>2010-05-03</th>\n",
       "      <td>21827.90</td>\n",
       "    </tr>\n",
       "  </tbody>\n",
       "</table>\n",
       "</div>"
      ],
      "text/plain": [
       "            Weekly_Sales\n",
       "Date                    \n",
       "2010-05-02      24924.50\n",
       "2010-12-02      46039.49\n",
       "2010-02-19      41595.55\n",
       "2010-02-26      19403.54\n",
       "2010-05-03      21827.90"
      ]
     },
     "execution_count": 26,
     "metadata": {},
     "output_type": "execute_result"
    }
   ],
   "source": [
    "F_TypeA.head()"
   ]
  },
  {
   "cell_type": "code",
   "execution_count": 27,
   "metadata": {},
   "outputs": [
    {
     "data": {
      "text/html": [
       "<div>\n",
       "<style scoped>\n",
       "    .dataframe tbody tr th:only-of-type {\n",
       "        vertical-align: middle;\n",
       "    }\n",
       "\n",
       "    .dataframe tbody tr th {\n",
       "        vertical-align: top;\n",
       "    }\n",
       "\n",
       "    .dataframe thead th {\n",
       "        text-align: right;\n",
       "    }\n",
       "</style>\n",
       "<table border=\"1\" class=\"dataframe\">\n",
       "  <thead>\n",
       "    <tr style=\"text-align: right;\">\n",
       "      <th></th>\n",
       "      <th>Weekly_Sales</th>\n",
       "    </tr>\n",
       "    <tr>\n",
       "      <th>Date</th>\n",
       "      <th></th>\n",
       "    </tr>\n",
       "  </thead>\n",
       "  <tbody>\n",
       "    <tr>\n",
       "      <th>2010-05-02</th>\n",
       "      <td>NaN</td>\n",
       "    </tr>\n",
       "    <tr>\n",
       "      <th>2010-12-02</th>\n",
       "      <td>24924.50</td>\n",
       "    </tr>\n",
       "    <tr>\n",
       "      <th>2010-02-19</th>\n",
       "      <td>46039.49</td>\n",
       "    </tr>\n",
       "    <tr>\n",
       "      <th>2010-02-26</th>\n",
       "      <td>41595.55</td>\n",
       "    </tr>\n",
       "    <tr>\n",
       "      <th>2010-05-03</th>\n",
       "      <td>19403.54</td>\n",
       "    </tr>\n",
       "    <tr>\n",
       "      <th>...</th>\n",
       "      <td>...</td>\n",
       "    </tr>\n",
       "    <tr>\n",
       "      <th>2011-08-07</th>\n",
       "      <td>36457.02</td>\n",
       "    </tr>\n",
       "    <tr>\n",
       "      <th>2011-07-15</th>\n",
       "      <td>39544.16</td>\n",
       "    </tr>\n",
       "    <tr>\n",
       "      <th>2011-07-22</th>\n",
       "      <td>38860.63</td>\n",
       "    </tr>\n",
       "    <tr>\n",
       "      <th>2011-07-29</th>\n",
       "      <td>35158.35</td>\n",
       "    </tr>\n",
       "    <tr>\n",
       "      <th>2011-05-08</th>\n",
       "      <td>32060.90</td>\n",
       "    </tr>\n",
       "  </tbody>\n",
       "</table>\n",
       "<p>10000 rows × 1 columns</p>\n",
       "</div>"
      ],
      "text/plain": [
       "            Weekly_Sales\n",
       "Date                    \n",
       "2010-05-02           NaN\n",
       "2010-12-02      24924.50\n",
       "2010-02-19      46039.49\n",
       "2010-02-26      41595.55\n",
       "2010-05-03      19403.54\n",
       "...                  ...\n",
       "2011-08-07      36457.02\n",
       "2011-07-15      39544.16\n",
       "2011-07-22      38860.63\n",
       "2011-07-29      35158.35\n",
       "2011-05-08      32060.90\n",
       "\n",
       "[10000 rows x 1 columns]"
      ]
     },
     "execution_count": 27,
     "metadata": {},
     "output_type": "execute_result"
    }
   ],
   "source": [
    "F_TypeA.shift(1)"
   ]
  },
  {
   "cell_type": "code",
   "execution_count": 28,
   "metadata": {},
   "outputs": [],
   "source": [
    "TypeA_diff = F_TypeA.diff(periods=1)\n",
    "#integrated of order 1 (1 lag)\n",
    "#denoted by d (for difference)\n",
    "#one of the parameter of ARIMA"
   ]
  },
  {
   "cell_type": "code",
   "execution_count": 29,
   "metadata": {},
   "outputs": [
    {
     "data": {
      "text/html": [
       "<div>\n",
       "<style scoped>\n",
       "    .dataframe tbody tr th:only-of-type {\n",
       "        vertical-align: middle;\n",
       "    }\n",
       "\n",
       "    .dataframe tbody tr th {\n",
       "        vertical-align: top;\n",
       "    }\n",
       "\n",
       "    .dataframe thead th {\n",
       "        text-align: right;\n",
       "    }\n",
       "</style>\n",
       "<table border=\"1\" class=\"dataframe\">\n",
       "  <thead>\n",
       "    <tr style=\"text-align: right;\">\n",
       "      <th></th>\n",
       "      <th>Weekly_Sales</th>\n",
       "    </tr>\n",
       "    <tr>\n",
       "      <th>Date</th>\n",
       "      <th></th>\n",
       "    </tr>\n",
       "  </thead>\n",
       "  <tbody>\n",
       "    <tr>\n",
       "      <th>2010-12-02</th>\n",
       "      <td>21114.99</td>\n",
       "    </tr>\n",
       "    <tr>\n",
       "      <th>2010-02-19</th>\n",
       "      <td>-4443.94</td>\n",
       "    </tr>\n",
       "    <tr>\n",
       "      <th>2010-02-26</th>\n",
       "      <td>-22192.01</td>\n",
       "    </tr>\n",
       "    <tr>\n",
       "      <th>2010-05-03</th>\n",
       "      <td>2424.36</td>\n",
       "    </tr>\n",
       "    <tr>\n",
       "      <th>2010-12-03</th>\n",
       "      <td>-784.51</td>\n",
       "    </tr>\n",
       "  </tbody>\n",
       "</table>\n",
       "</div>"
      ],
      "text/plain": [
       "            Weekly_Sales\n",
       "Date                    \n",
       "2010-12-02      21114.99\n",
       "2010-02-19      -4443.94\n",
       "2010-02-26     -22192.01\n",
       "2010-05-03       2424.36\n",
       "2010-12-03       -784.51"
      ]
     },
     "execution_count": 29,
     "metadata": {},
     "output_type": "execute_result"
    }
   ],
   "source": [
    "#removing the NaN value\n",
    "TypeA_diff = TypeA_diff[1:]\n",
    "TypeA_diff.head()"
   ]
  },
  {
   "cell_type": "code",
   "execution_count": 30,
   "metadata": {},
   "outputs": [
    {
     "data": {
      "image/png": "[encoded data removed]",
      "text/plain": [
       "<Figure size 432x288 with 1 Axes>"
      ]
     },
     "execution_count": 30,
     "metadata": {},
     "output_type": "execute_result"
    },
    {
     "data": {
      "image/png": "[encoded data removed]",
      "text/plain": [
       "<Figure size 432x288 with 1 Axes>"
      ]
     },
     "metadata": {
      "needs_background": "light"
     },
     "output_type": "display_data"
    }
   ],
   "source": [
    "plot_acf(TypeA_diff)"
   ]
  },
  {
   "cell_type": "code",
   "execution_count": 31,
   "metadata": {},
   "outputs": [
    {
     "data": {
      "text/plain": [
       "<matplotlib.axes._subplots.AxesSubplot at 0x1286a6750>"
      ]
     },
     "execution_count": 31,
     "metadata": {},
     "output_type": "execute_result"
    },
    {
     "data": {
      "image/png": "[encoded data removed]",
      "text/plain": [
       "<Figure size 432x288 with 1 Axes>"
      ]
     },
     "metadata": {
      "needs_background": "light"
     },
     "output_type": "display_data"
    }
   ],
   "source": [
    "TypeA_diff.plot()"
   ]
  },
  {
   "cell_type": "code",
   "execution_count": 32,
   "metadata": {},
   "outputs": [],
   "source": [
    "X = F_TypeA.values\n",
    "train = X[0:9000] #9000 data as train data\n",
    "test = X[9000:] #1000 data as test data\n",
    "\n",
    "predictions = []"
   ]
  },
  {
   "cell_type": "code",
   "execution_count": 33,
   "metadata": {},
   "outputs": [
    {
     "data": {
      "text/plain": [
       "1000"
      ]
     },
     "execution_count": 33,
     "metadata": {},
     "output_type": "execute_result"
    }
   ],
   "source": [
    "test.size"
   ]
  },
  {
   "cell_type": "code",
   "execution_count": 34,
   "metadata": {},
   "outputs": [],
   "source": [
    "from statsmodels.tsa.arima_model import ARIMA\n",
    "from sklearn.metrics import mean_squared_error"
   ]
  },
  {
   "cell_type": "code",
   "execution_count": 35,
   "metadata": {},
   "outputs": [
    {
     "name": "stdout",
     "output_type": "stream",
     "text": [
      "181180.58256757655\n"
     ]
    }
   ],
   "source": [
    "#p,d,q\n",
    "model_arima = ARIMA(train,order=(3,1,1))\n",
    "model_arima_fit = model_arima.fit()\n",
    "\n",
    "#AIC value\n",
    "print(model_arima_fit.aic)"
   ]
  },
  {
   "cell_type": "code",
   "execution_count": 36,
   "metadata": {},
   "outputs": [
    {
     "data": {
      "text/plain": [
       "array([78500.55267403, 79415.44184571, 79423.02918369, 79701.67664662,\n",
       "       79255.7637645 , 79461.9549119 , 79427.59562707, 79516.82691042,\n",
       "       79423.70453483, 79476.87309623, 79465.2731759 , 79494.5330924 ,\n",
       "       79478.17964382, 79495.92458253, 79496.23053988, 79508.55921538,\n",
       "       79509.47183998, 79518.58516806, 79523.03103685, 79530.81973745,\n",
       "       79535.7406646 , 79542.68117457, 79548.38166992, 79554.98323163,\n",
       "       79560.86093395, 79567.24444515, 79573.30078648, 79579.59568646,\n",
       "       79585.7070021 , 79591.94644955, 79598.10007213, 79604.31618267,\n",
       "       79610.48553624, 79616.68758939, 79622.86723065, 79629.06313567,\n",
       "       79635.24709094, 79641.43943016, 79647.62593701, 79653.81666072,\n",
       "       79660.00432215, 79666.1941393 , 79672.3824425 , 79678.57183661,\n",
       "       79684.76044437, 79690.94960735, 79697.13837807, 79703.32743064,\n",
       "       79709.51628099, 79715.70527447, 79721.89416646, 79728.08313122,\n",
       "       79734.27204391, 79740.46099352, 79746.6499169 , 79752.83885906,\n",
       "       79759.0277878 , 79765.21672607, 79771.40565756, 79777.59459389,\n",
       "       79783.78352677, 79789.97246211, 79796.16139569, 79802.35033053,\n",
       "       79808.53926447, 79814.72819905, 79820.91713318, 79827.10606763,\n",
       "       79833.29500185, 79839.48393623, 79845.67287049, 79851.86180484,\n",
       "       79858.05073913, 79864.23967347, 79870.42860777, 79876.61754209,\n",
       "       79882.8064764 , 79888.99541072, 79895.18434503, 79901.37327935,\n",
       "       79907.56221366, 79913.75114798, 79919.94008229, 79926.12901661,\n",
       "       79932.31795092, 79938.50688524, 79944.69581955, 79950.88475387,\n",
       "       79957.07368818, 79963.2626225 , 79969.45155681, 79975.64049113,\n",
       "       79981.82942544, 79988.01835976, 79994.20729407, 80000.39622839,\n",
       "       80006.5851627 , 80012.77409702, 80018.96303133, 80025.15196564,\n",
       "       80031.34089996, 80037.52983427, 80043.71876859, 80049.9077029 ,\n",
       "       80056.09663722, 80062.28557153, 80068.47450585, 80074.66344016,\n",
       "       80080.85237448, 80087.04130879, 80093.23024311, 80099.41917742,\n",
       "       80105.60811174, 80111.79704605, 80117.98598037, 80124.17491468,\n",
       "       80130.363849  , 80136.55278331, 80142.74171763, 80148.93065194,\n",
       "       80155.11958626, 80161.30852057, 80167.49745489, 80173.6863892 ,\n",
       "       80179.87532352, 80186.06425783, 80192.25319215, 80198.44212646,\n",
       "       80204.63106077, 80210.81999509, 80217.0089294 , 80223.19786372,\n",
       "       80229.38679803, 80235.57573235, 80241.76466666, 80247.95360098,\n",
       "       80254.14253529, 80260.33146961, 80266.52040392, 80272.70933824,\n",
       "       80278.89827255, 80285.08720687, 80291.27614118, 80297.4650755 ,\n",
       "       80303.65400981, 80309.84294413, 80316.03187844, 80322.22081276,\n",
       "       80328.40974707, 80334.59868139, 80340.7876157 , 80346.97655002,\n",
       "       80353.16548433, 80359.35441865, 80365.54335296, 80371.73228728,\n",
       "       80377.92122159, 80384.11015591, 80390.29909022, 80396.48802453,\n",
       "       80402.67695885, 80408.86589316, 80415.05482748, 80421.24376179,\n",
       "       80427.43269611, 80433.62163042, 80439.81056474, 80445.99949905,\n",
       "       80452.18843337, 80458.37736768, 80464.566302  , 80470.75523631,\n",
       "       80476.94417063, 80483.13310494, 80489.32203926, 80495.51097357,\n",
       "       80501.69990789, 80507.8888422 , 80514.07777652, 80520.26671083,\n",
       "       80526.45564515, 80532.64457946, 80538.83351378, 80545.02244809,\n",
       "       80551.21138241, 80557.40031672, 80563.58925104, 80569.77818535,\n",
       "       80575.96711967, 80582.15605398, 80588.34498829, 80594.53392261,\n",
       "       80600.72285692, 80606.91179124, 80613.10072555, 80619.28965987,\n",
       "       80625.47859418, 80631.6675285 , 80637.85646281, 80644.04539713,\n",
       "       80650.23433144, 80656.42326576, 80662.61220007, 80668.80113439,\n",
       "       80674.9900687 , 80681.17900302, 80687.36793733, 80693.55687165,\n",
       "       80699.74580596, 80705.93474028, 80712.12367459, 80718.31260891,\n",
       "       80724.50154322, 80730.69047754, 80736.87941185, 80743.06834617,\n",
       "       80749.25728048, 80755.4462148 , 80761.63514911, 80767.82408342,\n",
       "       80774.01301774, 80780.20195205, 80786.39088637, 80792.57982068,\n",
       "       80798.768755  , 80804.95768931, 80811.14662363, 80817.33555794,\n",
       "       80823.52449226, 80829.71342657, 80835.90236089, 80842.0912952 ,\n",
       "       80848.28022952, 80854.46916383, 80860.65809815, 80866.84703246,\n",
       "       80873.03596678, 80879.22490109, 80885.41383541, 80891.60276972,\n",
       "       80897.79170404, 80903.98063835, 80910.16957267, 80916.35850698,\n",
       "       80922.5474413 , 80928.73637561, 80934.92530993, 80941.11424424,\n",
       "       80947.30317856, 80953.49211287, 80959.68104718, 80965.8699815 ,\n",
       "       80972.05891581, 80978.24785013, 80984.43678444, 80990.62571876,\n",
       "       80996.81465307, 81003.00358739, 81009.1925217 , 81015.38145602,\n",
       "       81021.57039033, 81027.75932465, 81033.94825896, 81040.13719328,\n",
       "       81046.32612759, 81052.51506191, 81058.70399622, 81064.89293054,\n",
       "       81071.08186485, 81077.27079917, 81083.45973348, 81089.6486678 ,\n",
       "       81095.83760211, 81102.02653643, 81108.21547074, 81114.40440506,\n",
       "       81120.59333937, 81126.78227369, 81132.971208  , 81139.16014232,\n",
       "       81145.34907663, 81151.53801094, 81157.72694526, 81163.91587957,\n",
       "       81170.10481389, 81176.2937482 , 81182.48268252, 81188.67161683,\n",
       "       81194.86055115, 81201.04948546, 81207.23841978, 81213.42735409,\n",
       "       81219.61628841, 81225.80522272, 81231.99415704, 81238.18309135,\n",
       "       81244.37202567, 81250.56095998, 81256.7498943 , 81262.93882861,\n",
       "       81269.12776293, 81275.31669724, 81281.50563156, 81287.69456587,\n",
       "       81293.88350019, 81300.0724345 , 81306.26136882, 81312.45030313,\n",
       "       81318.63923745, 81324.82817176, 81331.01710608, 81337.20604039,\n",
       "       81343.3949747 , 81349.58390902, 81355.77284333, 81361.96177765,\n",
       "       81368.15071196, 81374.33964628, 81380.52858059, 81386.71751491,\n",
       "       81392.90644922, 81399.09538354, 81405.28431785, 81411.47325217,\n",
       "       81417.66218648, 81423.8511208 , 81430.04005511, 81436.22898943,\n",
       "       81442.41792374, 81448.60685806, 81454.79579237, 81460.98472669,\n",
       "       81467.173661  , 81473.36259532, 81479.55152963, 81485.74046395,\n",
       "       81491.92939826, 81498.11833258, 81504.30726689, 81510.49620121,\n",
       "       81516.68513552, 81522.87406983, 81529.06300415, 81535.25193846,\n",
       "       81541.44087278, 81547.62980709, 81553.81874141, 81560.00767572,\n",
       "       81566.19661004, 81572.38554435, 81578.57447867, 81584.76341298,\n",
       "       81590.9523473 , 81597.14128161, 81603.33021593, 81609.51915024,\n",
       "       81615.70808456, 81621.89701887, 81628.08595319, 81634.2748875 ,\n",
       "       81640.46382182, 81646.65275613, 81652.84169045, 81659.03062476,\n",
       "       81665.21955908, 81671.40849339, 81677.59742771, 81683.78636202,\n",
       "       81689.97529634, 81696.16423065, 81702.35316497, 81708.54209928,\n",
       "       81714.73103359, 81720.91996791, 81727.10890222, 81733.29783654,\n",
       "       81739.48677085, 81745.67570517, 81751.86463948, 81758.0535738 ,\n",
       "       81764.24250811, 81770.43144243, 81776.62037674, 81782.80931106,\n",
       "       81788.99824537, 81795.18717969, 81801.376114  , 81807.56504832,\n",
       "       81813.75398263, 81819.94291695, 81826.13185126, 81832.32078558,\n",
       "       81838.50971989, 81844.69865421, 81850.88758852, 81857.07652284,\n",
       "       81863.26545715, 81869.45439147, 81875.64332578, 81881.8322601 ,\n",
       "       81888.02119441, 81894.21012873, 81900.39906304, 81906.58799735,\n",
       "       81912.77693167, 81918.96586598, 81925.1548003 , 81931.34373461,\n",
       "       81937.53266893, 81943.72160324, 81949.91053756, 81956.09947187,\n",
       "       81962.28840619, 81968.4773405 , 81974.66627482, 81980.85520913,\n",
       "       81987.04414345, 81993.23307776, 81999.42201208, 82005.61094639,\n",
       "       82011.79988071, 82017.98881502, 82024.17774934, 82030.36668365,\n",
       "       82036.55561797, 82042.74455228, 82048.9334866 , 82055.12242091,\n",
       "       82061.31135523, 82067.50028954, 82073.68922386, 82079.87815817,\n",
       "       82086.06709249, 82092.2560268 , 82098.44496111, 82104.63389543,\n",
       "       82110.82282974, 82117.01176406, 82123.20069837, 82129.38963269,\n",
       "       82135.578567  , 82141.76750132, 82147.95643563, 82154.14536995,\n",
       "       82160.33430426, 82166.52323858, 82172.71217289, 82178.90110721,\n",
       "       82185.09004152, 82191.27897584, 82197.46791015, 82203.65684447,\n",
       "       82209.84577878, 82216.0347131 , 82222.22364741, 82228.41258173,\n",
       "       82234.60151604, 82240.79045036, 82246.97938467, 82253.16831899,\n",
       "       82259.3572533 , 82265.54618762, 82271.73512193, 82277.92405624,\n",
       "       82284.11299056, 82290.30192487, 82296.49085919, 82302.6797935 ,\n",
       "       82308.86872782, 82315.05766213, 82321.24659645, 82327.43553076,\n",
       "       82333.62446508, 82339.81339939, 82346.00233371, 82352.19126802,\n",
       "       82358.38020234, 82364.56913665, 82370.75807097, 82376.94700528,\n",
       "       82383.1359396 , 82389.32487391, 82395.51380823, 82401.70274254,\n",
       "       82407.89167686, 82414.08061117, 82420.26954549, 82426.4584798 ,\n",
       "       82432.64741412, 82438.83634843, 82445.02528275, 82451.21421706,\n",
       "       82457.40315138, 82463.59208569, 82469.78102   , 82475.96995432,\n",
       "       82482.15888863, 82488.34782295, 82494.53675726, 82500.72569158,\n",
       "       82506.91462589, 82513.10356021, 82519.29249452, 82525.48142884,\n",
       "       82531.67036315, 82537.85929747, 82544.04823178, 82550.2371661 ,\n",
       "       82556.42610041, 82562.61503473, 82568.80396904, 82574.99290336,\n",
       "       82581.18183767, 82587.37077199, 82593.5597063 , 82599.74864062,\n",
       "       82605.93757493, 82612.12650925, 82618.31544356, 82624.50437788,\n",
       "       82630.69331219, 82636.88224651, 82643.07118082, 82649.26011514,\n",
       "       82655.44904945, 82661.63798376, 82667.82691808, 82674.01585239,\n",
       "       82680.20478671, 82686.39372102, 82692.58265534, 82698.77158965,\n",
       "       82704.96052397, 82711.14945828, 82717.3383926 , 82723.52732691,\n",
       "       82729.71626123, 82735.90519554, 82742.09412986, 82748.28306417,\n",
       "       82754.47199849, 82760.6609328 , 82766.84986712, 82773.03880143,\n",
       "       82779.22773575, 82785.41667006, 82791.60560438, 82797.79453869,\n",
       "       82803.98347301, 82810.17240732, 82816.36134164, 82822.55027595,\n",
       "       82828.73921027, 82834.92814458, 82841.1170789 , 82847.30601321,\n",
       "       82853.49494752, 82859.68388184, 82865.87281615, 82872.06175047,\n",
       "       82878.25068478, 82884.4396191 , 82890.62855341, 82896.81748773,\n",
       "       82903.00642204, 82909.19535636, 82915.38429067, 82921.57322499,\n",
       "       82927.7621593 , 82933.95109362, 82940.14002793, 82946.32896225,\n",
       "       82952.51789656, 82958.70683088, 82964.89576519, 82971.08469951,\n",
       "       82977.27363382, 82983.46256814, 82989.65150245, 82995.84043677,\n",
       "       83002.02937108, 83008.2183054 , 83014.40723971, 83020.59617403,\n",
       "       83026.78510834, 83032.97404265, 83039.16297697, 83045.35191128,\n",
       "       83051.5408456 , 83057.72977991, 83063.91871423, 83070.10764854,\n",
       "       83076.29658286, 83082.48551717, 83088.67445149, 83094.8633858 ,\n",
       "       83101.05232012, 83107.24125443, 83113.43018875, 83119.61912306,\n",
       "       83125.80805738, 83131.99699169, 83138.18592601, 83144.37486032,\n",
       "       83150.56379464, 83156.75272895, 83162.94166327, 83169.13059758,\n",
       "       83175.3195319 , 83181.50846621, 83187.69740053, 83193.88633484,\n",
       "       83200.07526916, 83206.26420347, 83212.45313779, 83218.6420721 ,\n",
       "       83224.83100641, 83231.01994073, 83237.20887504, 83243.39780936,\n",
       "       83249.58674367, 83255.77567799, 83261.9646123 , 83268.15354662,\n",
       "       83274.34248093, 83280.53141525, 83286.72034956, 83292.90928388,\n",
       "       83299.09821819, 83305.28715251, 83311.47608682, 83317.66502114,\n",
       "       83323.85395545, 83330.04288977, 83336.23182408, 83342.4207584 ,\n",
       "       83348.60969271, 83354.79862703, 83360.98756134, 83367.17649566,\n",
       "       83373.36542997, 83379.55436429, 83385.7432986 , 83391.93223292,\n",
       "       83398.12116723, 83404.31010155, 83410.49903586, 83416.68797017,\n",
       "       83422.87690449, 83429.0658388 , 83435.25477312, 83441.44370743,\n",
       "       83447.63264175, 83453.82157606, 83460.01051038, 83466.19944469,\n",
       "       83472.38837901, 83478.57731332, 83484.76624764, 83490.95518195,\n",
       "       83497.14411627, 83503.33305058, 83509.5219849 , 83515.71091921,\n",
       "       83521.89985353, 83528.08878784, 83534.27772216, 83540.46665647,\n",
       "       83546.65559079, 83552.8445251 , 83559.03345942, 83565.22239373,\n",
       "       83571.41132805, 83577.60026236, 83583.78919668, 83589.97813099,\n",
       "       83596.16706531, 83602.35599962, 83608.54493393, 83614.73386825,\n",
       "       83620.92280256, 83627.11173688, 83633.30067119, 83639.48960551,\n",
       "       83645.67853982, 83651.86747414, 83658.05640845, 83664.24534277,\n",
       "       83670.43427708, 83676.6232114 , 83682.81214571, 83689.00108003,\n",
       "       83695.19001434, 83701.37894866, 83707.56788297, 83713.75681729,\n",
       "       83719.9457516 , 83726.13468592, 83732.32362023, 83738.51255455,\n",
       "       83744.70148886, 83750.89042318, 83757.07935749, 83763.26829181,\n",
       "       83769.45722612, 83775.64616044, 83781.83509475, 83788.02402906,\n",
       "       83794.21296338, 83800.40189769, 83806.59083201, 83812.77976632,\n",
       "       83818.96870064, 83825.15763495, 83831.34656927, 83837.53550358,\n",
       "       83843.7244379 , 83849.91337221, 83856.10230653, 83862.29124084,\n",
       "       83868.48017516, 83874.66910947, 83880.85804379, 83887.0469781 ,\n",
       "       83893.23591242, 83899.42484673, 83905.61378105, 83911.80271536,\n",
       "       83917.99164968, 83924.18058399, 83930.36951831, 83936.55845262,\n",
       "       83942.74738694, 83948.93632125, 83955.12525557, 83961.31418988,\n",
       "       83967.5031242 , 83973.69205851, 83979.88099282, 83986.06992714,\n",
       "       83992.25886145, 83998.44779577, 84004.63673008, 84010.8256644 ,\n",
       "       84017.01459871, 84023.20353303, 84029.39246734, 84035.58140166,\n",
       "       84041.77033597, 84047.95927029, 84054.1482046 , 84060.33713892,\n",
       "       84066.52607323, 84072.71500755, 84078.90394186, 84085.09287618,\n",
       "       84091.28181049, 84097.47074481, 84103.65967912, 84109.84861344,\n",
       "       84116.03754775, 84122.22648207, 84128.41541638, 84134.6043507 ,\n",
       "       84140.79328501, 84146.98221933, 84153.17115364, 84159.36008796,\n",
       "       84165.54902227, 84171.73795658, 84177.9268909 , 84184.11582521,\n",
       "       84190.30475953, 84196.49369384, 84202.68262816, 84208.87156247,\n",
       "       84215.06049679, 84221.2494311 , 84227.43836542, 84233.62729973,\n",
       "       84239.81623405, 84246.00516836, 84252.19410268, 84258.38303699,\n",
       "       84264.57197131, 84270.76090562, 84276.94983994, 84283.13877425,\n",
       "       84289.32770857, 84295.51664288, 84301.7055772 , 84307.89451151,\n",
       "       84314.08344583, 84320.27238014, 84326.46131446, 84332.65024877,\n",
       "       84338.83918309, 84345.0281174 , 84351.21705171, 84357.40598603,\n",
       "       84363.59492034, 84369.78385466, 84375.97278897, 84382.16172329,\n",
       "       84388.3506576 , 84394.53959192, 84400.72852623, 84406.91746055,\n",
       "       84413.10639486, 84419.29532918, 84425.48426349, 84431.67319781,\n",
       "       84437.86213212, 84444.05106644, 84450.24000075, 84456.42893507,\n",
       "       84462.61786938, 84468.8068037 , 84474.99573801, 84481.18467233,\n",
       "       84487.37360664, 84493.56254096, 84499.75147527, 84505.94040959,\n",
       "       84512.1293439 , 84518.31827822, 84524.50721253, 84530.69614685,\n",
       "       84536.88508116, 84543.07401547, 84549.26294979, 84555.4518841 ,\n",
       "       84561.64081842, 84567.82975273, 84574.01868705, 84580.20762136,\n",
       "       84586.39655568, 84592.58548999, 84598.77442431, 84604.96335862,\n",
       "       84611.15229294, 84617.34122725, 84623.53016157, 84629.71909588,\n",
       "       84635.9080302 , 84642.09696451, 84648.28589883, 84654.47483314,\n",
       "       84660.66376746, 84666.85270177, 84673.04163609, 84679.2305704 ,\n",
       "       84685.41950472, 84691.60843903, 84697.79737335, 84703.98630766,\n",
       "       84710.17524198, 84716.36417629, 84722.55311061, 84728.74204492,\n",
       "       84734.93097923, 84741.11991355, 84747.30884786, 84753.49778218,\n",
       "       84759.68671649, 84765.87565081, 84772.06458512, 84778.25351944,\n",
       "       84784.44245375, 84790.63138807, 84796.82032238, 84803.0092567 ,\n",
       "       84809.19819101, 84815.38712533, 84821.57605964, 84827.76499396,\n",
       "       84833.95392827, 84840.14286259, 84846.3317969 , 84852.52073122,\n",
       "       84858.70966553, 84864.89859985, 84871.08753416, 84877.27646848,\n",
       "       84883.46540279, 84889.65433711, 84895.84327142, 84902.03220574,\n",
       "       84908.22114005, 84914.41007437, 84920.59900868, 84926.78794299,\n",
       "       84932.97687731, 84939.16581162, 84945.35474594, 84951.54368025,\n",
       "       84957.73261457, 84963.92154888, 84970.1104832 , 84976.29941751,\n",
       "       84982.48835183, 84988.67728614, 84994.86622046, 85001.05515477,\n",
       "       85007.24408909, 85013.4330234 , 85019.62195772, 85025.81089203,\n",
       "       85031.99982635, 85038.18876066, 85044.37769498, 85050.56662929,\n",
       "       85056.75556361, 85062.94449792, 85069.13343224, 85075.32236655,\n",
       "       85081.51130087, 85087.70023518, 85093.8891695 , 85100.07810381,\n",
       "       85106.26703812, 85112.45597244, 85118.64490675, 85124.83384107,\n",
       "       85131.02277538, 85137.2117097 , 85143.40064401, 85149.58957833,\n",
       "       85155.77851264, 85161.96744696, 85168.15638127, 85174.34531559,\n",
       "       85180.5342499 , 85186.72318422, 85192.91211853, 85199.10105285,\n",
       "       85205.28998716, 85211.47892148, 85217.66785579, 85223.85679011,\n",
       "       85230.04572442, 85236.23465874, 85242.42359305, 85248.61252737,\n",
       "       85254.80146168, 85260.990396  , 85267.17933031, 85273.36826463,\n",
       "       85279.55719894, 85285.74613326, 85291.93506757, 85298.12400188,\n",
       "       85304.3129362 , 85310.50187051, 85316.69080483, 85322.87973914,\n",
       "       85329.06867346, 85335.25760777, 85341.44654209, 85347.6354764 ,\n",
       "       85353.82441072, 85360.01334503, 85366.20227935, 85372.39121366,\n",
       "       85378.58014798, 85384.76908229, 85390.95801661, 85397.14695092,\n",
       "       85403.33588524, 85409.52481955, 85415.71375387, 85421.90268818,\n",
       "       85428.0916225 , 85434.28055681, 85440.46949113, 85446.65842544,\n",
       "       85452.84735976, 85459.03629407, 85465.22522839, 85471.4141627 ,\n",
       "       85477.60309702, 85483.79203133, 85489.98096564, 85496.16989996,\n",
       "       85502.35883427, 85508.54776859, 85514.7367029 , 85520.92563722,\n",
       "       85527.11457153, 85533.30350585, 85539.49244016, 85545.68137448,\n",
       "       85551.87030879, 85558.05924311, 85564.24817742, 85570.43711174,\n",
       "       85576.62604605, 85582.81498037, 85589.00391468, 85595.192849  ])"
      ]
     },
     "execution_count": 36,
     "metadata": {},
     "output_type": "execute_result"
    }
   ],
   "source": [
    "predictions = model_arima_fit.forecast(steps=1000)[0]\n",
    "predictions"
   ]
  },
  {
   "cell_type": "code",
   "execution_count": 37,
   "metadata": {},
   "outputs": [
    {
     "data": {
      "text/plain": [
       "(array([-200.,    0.,  200.,  400.,  600.,  800., 1000., 1200.]),\n",
       " <a list of 8 Text xticklabel objects>)"
      ]
     },
     "execution_count": 37,
     "metadata": {},
     "output_type": "execute_result"
    },
    {
     "data": {
      "image/png": "[encoded data removed]",
      "text/plain": [
       "<Figure size 432x288 with 1 Axes>"
      ]
     },
     "metadata": {
      "needs_background": "light"
     },
     "output_type": "display_data"
    }
   ],
   "source": [
    "plt.plot(test)\n",
    "plt.plot(predictions, color='red')\n",
    "plt.title(\"ARIMA in Type A\")\n",
    "plt.ylabel('Number of sales')\n",
    "plt.xlabel('Timeseries')\n",
    "plt.xticks(rotation=360, horizontalalignment=\"center\")"
   ]
  },
  {
   "cell_type": "code",
   "execution_count": 38,
   "metadata": {},
   "outputs": [
    {
     "data": {
      "text/plain": [
       "1341648761.3707232"
      ]
     },
     "execution_count": 38,
     "metadata": {},
     "output_type": "execute_result"
    }
   ],
   "source": [
    "mean_squared_error(test,predictions)"
   ]
  },
  {
   "cell_type": "code",
   "execution_count": 41,
   "metadata": {},
   "outputs": [
    {
     "data": {
      "text/plain": [
       "Text(0, 0.5, 'Weekly Sales')"
      ]
     },
     "execution_count": 41,
     "metadata": {},
     "output_type": "execute_result"
    },
    {
     "data": {
      "image/png": "[encoded data removed]",
      "text/plain": [
       "<Figure size 432x288 with 1 Axes>"
      ]
     },
     "metadata": {
      "needs_background": "light"
     },
     "output_type": "display_data"
    }
   ],
   "source": [
    "plt.plot(test, label=\"Actual data\")\n",
    "plt.plot(predictions, color='red', label=\"Predictions\")\n",
    "plt.legend()\n",
    "plt.title(\"ARIMA Type A\")\n",
    "plt.ylabel('Weekly Sales')"
   ]
  },
  {
   "cell_type": "code",
   "execution_count": null,
   "metadata": {},
   "outputs": [],
   "source": []
  }
 ],
 "metadata": {
  "kernelspec": {
   "display_name": "Python 3",
   "language": "python",
   "name": "python3"
  },
  "language_info": {
   "codemirror_mode": {
    "name": "ipython",
    "version": 3
   },
   "file_extension": ".py",
   "mimetype": "text/x-python",
   "name": "python",
   "nbconvert_exporter": "python",
   "pygments_lexer": "ipython3",
   "version": "3.8.5"
  }
 },
 "nbformat": 4,
 "nbformat_minor": 4
}
