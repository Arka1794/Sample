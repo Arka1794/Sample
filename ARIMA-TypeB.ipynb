{
 "cells": [
  {
   "cell_type": "code",
   "execution_count": 1,
   "metadata": {},
   "outputs": [],
   "source": [
    "#reading the files\n",
    "import pandas as pd\n",
    "import matplotlib.pyplot as plt\n",
    "%matplotlib inline"
   ]
  },
  {
   "cell_type": "code",
   "execution_count": 2,
   "metadata": {},
   "outputs": [],
   "source": [
    "features = pd.read_csv(\"Features data set.csv\")\n",
    "sales = pd.read_csv(\"sales data-set.csv\")\n",
    "stores = pd.read_csv(\"stores data-set.csv\")"
   ]
  },
  {
   "cell_type": "code",
   "execution_count": 3,
   "metadata": {},
   "outputs": [],
   "source": [
    "data = pd.merge(sales , features, on = ['Store','Date', 'IsHoliday'] , how = 'left')\n",
    "data = pd.merge(data , stores , on = ['Store'] , how = 'left')"
   ]
  },
  {
   "cell_type": "code",
   "execution_count": 4,
   "metadata": {},
   "outputs": [
    {
     "data": {
      "text/html": [
       "<div>\n",
       "<style scoped>\n",
       "    .dataframe tbody tr th:only-of-type {\n",
       "        vertical-align: middle;\n",
       "    }\n",
       "\n",
       "    .dataframe tbody tr th {\n",
       "        vertical-align: top;\n",
       "    }\n",
       "\n",
       "    .dataframe thead th {\n",
       "        text-align: right;\n",
       "    }\n",
       "</style>\n",
       "<table border=\"1\" class=\"dataframe\">\n",
       "  <thead>\n",
       "    <tr style=\"text-align: right;\">\n",
       "      <th></th>\n",
       "      <th>Store</th>\n",
       "      <th>Dept</th>\n",
       "      <th>Date</th>\n",
       "      <th>Weekly_Sales</th>\n",
       "      <th>IsHoliday</th>\n",
       "      <th>Temperature</th>\n",
       "      <th>Fuel_Price</th>\n",
       "      <th>MarkDown1</th>\n",
       "      <th>MarkDown2</th>\n",
       "      <th>MarkDown3</th>\n",
       "      <th>MarkDown4</th>\n",
       "      <th>MarkDown5</th>\n",
       "      <th>CPI</th>\n",
       "      <th>Unemployment</th>\n",
       "      <th>Type</th>\n",
       "      <th>Size</th>\n",
       "    </tr>\n",
       "  </thead>\n",
       "  <tbody>\n",
       "    <tr>\n",
       "      <th>0</th>\n",
       "      <td>1</td>\n",
       "      <td>1</td>\n",
       "      <td>05/02/2010</td>\n",
       "      <td>24924.50</td>\n",
       "      <td>False</td>\n",
       "      <td>42.31</td>\n",
       "      <td>2.572</td>\n",
       "      <td>NaN</td>\n",
       "      <td>NaN</td>\n",
       "      <td>NaN</td>\n",
       "      <td>NaN</td>\n",
       "      <td>NaN</td>\n",
       "      <td>211.096358</td>\n",
       "      <td>8.106</td>\n",
       "      <td>A</td>\n",
       "      <td>151315</td>\n",
       "    </tr>\n",
       "    <tr>\n",
       "      <th>1</th>\n",
       "      <td>1</td>\n",
       "      <td>1</td>\n",
       "      <td>12/02/2010</td>\n",
       "      <td>46039.49</td>\n",
       "      <td>True</td>\n",
       "      <td>38.51</td>\n",
       "      <td>2.548</td>\n",
       "      <td>NaN</td>\n",
       "      <td>NaN</td>\n",
       "      <td>NaN</td>\n",
       "      <td>NaN</td>\n",
       "      <td>NaN</td>\n",
       "      <td>211.242170</td>\n",
       "      <td>8.106</td>\n",
       "      <td>A</td>\n",
       "      <td>151315</td>\n",
       "    </tr>\n",
       "    <tr>\n",
       "      <th>2</th>\n",
       "      <td>1</td>\n",
       "      <td>1</td>\n",
       "      <td>19/02/2010</td>\n",
       "      <td>41595.55</td>\n",
       "      <td>False</td>\n",
       "      <td>39.93</td>\n",
       "      <td>2.514</td>\n",
       "      <td>NaN</td>\n",
       "      <td>NaN</td>\n",
       "      <td>NaN</td>\n",
       "      <td>NaN</td>\n",
       "      <td>NaN</td>\n",
       "      <td>211.289143</td>\n",
       "      <td>8.106</td>\n",
       "      <td>A</td>\n",
       "      <td>151315</td>\n",
       "    </tr>\n",
       "    <tr>\n",
       "      <th>3</th>\n",
       "      <td>1</td>\n",
       "      <td>1</td>\n",
       "      <td>26/02/2010</td>\n",
       "      <td>19403.54</td>\n",
       "      <td>False</td>\n",
       "      <td>46.63</td>\n",
       "      <td>2.561</td>\n",
       "      <td>NaN</td>\n",
       "      <td>NaN</td>\n",
       "      <td>NaN</td>\n",
       "      <td>NaN</td>\n",
       "      <td>NaN</td>\n",
       "      <td>211.319643</td>\n",
       "      <td>8.106</td>\n",
       "      <td>A</td>\n",
       "      <td>151315</td>\n",
       "    </tr>\n",
       "    <tr>\n",
       "      <th>4</th>\n",
       "      <td>1</td>\n",
       "      <td>1</td>\n",
       "      <td>05/03/2010</td>\n",
       "      <td>21827.90</td>\n",
       "      <td>False</td>\n",
       "      <td>46.50</td>\n",
       "      <td>2.625</td>\n",
       "      <td>NaN</td>\n",
       "      <td>NaN</td>\n",
       "      <td>NaN</td>\n",
       "      <td>NaN</td>\n",
       "      <td>NaN</td>\n",
       "      <td>211.350143</td>\n",
       "      <td>8.106</td>\n",
       "      <td>A</td>\n",
       "      <td>151315</td>\n",
       "    </tr>\n",
       "  </tbody>\n",
       "</table>\n",
       "</div>"
      ],
      "text/plain": [
       "   Store  Dept        Date  Weekly_Sales  IsHoliday  Temperature  Fuel_Price  \\\n",
       "0      1     1  05/02/2010      24924.50      False        42.31       2.572   \n",
       "1      1     1  12/02/2010      46039.49       True        38.51       2.548   \n",
       "2      1     1  19/02/2010      41595.55      False        39.93       2.514   \n",
       "3      1     1  26/02/2010      19403.54      False        46.63       2.561   \n",
       "4      1     1  05/03/2010      21827.90      False        46.50       2.625   \n",
       "\n",
       "   MarkDown1  MarkDown2  MarkDown3  MarkDown4  MarkDown5         CPI  \\\n",
       "0        NaN        NaN        NaN        NaN        NaN  211.096358   \n",
       "1        NaN        NaN        NaN        NaN        NaN  211.242170   \n",
       "2        NaN        NaN        NaN        NaN        NaN  211.289143   \n",
       "3        NaN        NaN        NaN        NaN        NaN  211.319643   \n",
       "4        NaN        NaN        NaN        NaN        NaN  211.350143   \n",
       "\n",
       "   Unemployment Type    Size  \n",
       "0         8.106    A  151315  \n",
       "1         8.106    A  151315  \n",
       "2         8.106    A  151315  \n",
       "3         8.106    A  151315  \n",
       "4         8.106    A  151315  "
      ]
     },
     "execution_count": 4,
     "metadata": {},
     "output_type": "execute_result"
    }
   ],
   "source": [
    "data.head()"
   ]
  },
  {
   "cell_type": "code",
   "execution_count": 5,
   "metadata": {},
   "outputs": [],
   "source": [
    "#from dplython import (DplyFrame, X, diamonds, select, sift, sample_n,\n",
    "   # sample_frac, head, arrange, mutate, group_by, summarize, DelayFunction)"
   ]
  },
  {
   "cell_type": "code",
   "execution_count": 6,
   "metadata": {},
   "outputs": [],
   "source": [
    "#dividing into hierarchies\n",
    "Type_B= data[data[\"Type\"]=='B']"
   ]
  },
  {
   "cell_type": "code",
   "execution_count": 7,
   "metadata": {},
   "outputs": [
    {
     "data": {
      "text/html": [
       "<div>\n",
       "<style scoped>\n",
       "    .dataframe tbody tr th:only-of-type {\n",
       "        vertical-align: middle;\n",
       "    }\n",
       "\n",
       "    .dataframe tbody tr th {\n",
       "        vertical-align: top;\n",
       "    }\n",
       "\n",
       "    .dataframe thead th {\n",
       "        text-align: right;\n",
       "    }\n",
       "</style>\n",
       "<table border=\"1\" class=\"dataframe\">\n",
       "  <thead>\n",
       "    <tr style=\"text-align: right;\">\n",
       "      <th></th>\n",
       "      <th>Store</th>\n",
       "      <th>Dept</th>\n",
       "      <th>Date</th>\n",
       "      <th>Weekly_Sales</th>\n",
       "      <th>IsHoliday</th>\n",
       "      <th>Temperature</th>\n",
       "      <th>Fuel_Price</th>\n",
       "      <th>MarkDown1</th>\n",
       "      <th>MarkDown2</th>\n",
       "      <th>MarkDown3</th>\n",
       "      <th>MarkDown4</th>\n",
       "      <th>MarkDown5</th>\n",
       "      <th>CPI</th>\n",
       "      <th>Unemployment</th>\n",
       "      <th>Type</th>\n",
       "      <th>Size</th>\n",
       "    </tr>\n",
       "  </thead>\n",
       "  <tbody>\n",
       "    <tr>\n",
       "      <th>20482</th>\n",
       "      <td>3</td>\n",
       "      <td>1</td>\n",
       "      <td>05/02/2010</td>\n",
       "      <td>6453.58</td>\n",
       "      <td>False</td>\n",
       "      <td>45.71</td>\n",
       "      <td>2.572</td>\n",
       "      <td>NaN</td>\n",
       "      <td>NaN</td>\n",
       "      <td>NaN</td>\n",
       "      <td>NaN</td>\n",
       "      <td>NaN</td>\n",
       "      <td>214.424881</td>\n",
       "      <td>7.368</td>\n",
       "      <td>B</td>\n",
       "      <td>37392</td>\n",
       "    </tr>\n",
       "    <tr>\n",
       "      <th>20483</th>\n",
       "      <td>3</td>\n",
       "      <td>1</td>\n",
       "      <td>12/02/2010</td>\n",
       "      <td>12748.72</td>\n",
       "      <td>True</td>\n",
       "      <td>47.93</td>\n",
       "      <td>2.548</td>\n",
       "      <td>NaN</td>\n",
       "      <td>NaN</td>\n",
       "      <td>NaN</td>\n",
       "      <td>NaN</td>\n",
       "      <td>NaN</td>\n",
       "      <td>214.574792</td>\n",
       "      <td>7.368</td>\n",
       "      <td>B</td>\n",
       "      <td>37392</td>\n",
       "    </tr>\n",
       "    <tr>\n",
       "      <th>20484</th>\n",
       "      <td>3</td>\n",
       "      <td>1</td>\n",
       "      <td>19/02/2010</td>\n",
       "      <td>8918.31</td>\n",
       "      <td>False</td>\n",
       "      <td>47.07</td>\n",
       "      <td>2.514</td>\n",
       "      <td>NaN</td>\n",
       "      <td>NaN</td>\n",
       "      <td>NaN</td>\n",
       "      <td>NaN</td>\n",
       "      <td>NaN</td>\n",
       "      <td>214.619887</td>\n",
       "      <td>7.368</td>\n",
       "      <td>B</td>\n",
       "      <td>37392</td>\n",
       "    </tr>\n",
       "    <tr>\n",
       "      <th>20485</th>\n",
       "      <td>3</td>\n",
       "      <td>1</td>\n",
       "      <td>26/02/2010</td>\n",
       "      <td>4992.00</td>\n",
       "      <td>False</td>\n",
       "      <td>52.05</td>\n",
       "      <td>2.561</td>\n",
       "      <td>NaN</td>\n",
       "      <td>NaN</td>\n",
       "      <td>NaN</td>\n",
       "      <td>NaN</td>\n",
       "      <td>NaN</td>\n",
       "      <td>214.647513</td>\n",
       "      <td>7.368</td>\n",
       "      <td>B</td>\n",
       "      <td>37392</td>\n",
       "    </tr>\n",
       "    <tr>\n",
       "      <th>20486</th>\n",
       "      <td>3</td>\n",
       "      <td>1</td>\n",
       "      <td>05/03/2010</td>\n",
       "      <td>5172.73</td>\n",
       "      <td>False</td>\n",
       "      <td>53.04</td>\n",
       "      <td>2.625</td>\n",
       "      <td>NaN</td>\n",
       "      <td>NaN</td>\n",
       "      <td>NaN</td>\n",
       "      <td>NaN</td>\n",
       "      <td>NaN</td>\n",
       "      <td>214.675139</td>\n",
       "      <td>7.368</td>\n",
       "      <td>B</td>\n",
       "      <td>37392</td>\n",
       "    </tr>\n",
       "  </tbody>\n",
       "</table>\n",
       "</div>"
      ],
      "text/plain": [
       "       Store  Dept        Date  Weekly_Sales  IsHoliday  Temperature  \\\n",
       "20482      3     1  05/02/2010       6453.58      False        45.71   \n",
       "20483      3     1  12/02/2010      12748.72       True        47.93   \n",
       "20484      3     1  19/02/2010       8918.31      False        47.07   \n",
       "20485      3     1  26/02/2010       4992.00      False        52.05   \n",
       "20486      3     1  05/03/2010       5172.73      False        53.04   \n",
       "\n",
       "       Fuel_Price  MarkDown1  MarkDown2  MarkDown3  MarkDown4  MarkDown5  \\\n",
       "20482       2.572        NaN        NaN        NaN        NaN        NaN   \n",
       "20483       2.548        NaN        NaN        NaN        NaN        NaN   \n",
       "20484       2.514        NaN        NaN        NaN        NaN        NaN   \n",
       "20485       2.561        NaN        NaN        NaN        NaN        NaN   \n",
       "20486       2.625        NaN        NaN        NaN        NaN        NaN   \n",
       "\n",
       "              CPI  Unemployment Type   Size  \n",
       "20482  214.424881         7.368    B  37392  \n",
       "20483  214.574792         7.368    B  37392  \n",
       "20484  214.619887         7.368    B  37392  \n",
       "20485  214.647513         7.368    B  37392  \n",
       "20486  214.675139         7.368    B  37392  "
      ]
     },
     "execution_count": 7,
     "metadata": {},
     "output_type": "execute_result"
    }
   ],
   "source": [
    "Type_B.head()"
   ]
  },
  {
   "cell_type": "code",
   "execution_count": 8,
   "metadata": {},
   "outputs": [
    {
     "data": {
      "text/plain": [
       "array([ 3,  5,  7,  9, 10, 12, 15, 16, 17, 18, 21, 22, 23, 25, 29, 35, 45])"
      ]
     },
     "execution_count": 8,
     "metadata": {},
     "output_type": "execute_result"
    }
   ],
   "source": [
    "Type_B.Store.unique()"
   ]
  },
  {
   "cell_type": "code",
   "execution_count": 9,
   "metadata": {},
   "outputs": [
    {
     "data": {
      "text/html": [
       "<div>\n",
       "<style scoped>\n",
       "    .dataframe tbody tr th:only-of-type {\n",
       "        vertical-align: middle;\n",
       "    }\n",
       "\n",
       "    .dataframe tbody tr th {\n",
       "        vertical-align: top;\n",
       "    }\n",
       "\n",
       "    .dataframe thead th {\n",
       "        text-align: right;\n",
       "    }\n",
       "</style>\n",
       "<table border=\"1\" class=\"dataframe\">\n",
       "  <thead>\n",
       "    <tr style=\"text-align: right;\">\n",
       "      <th></th>\n",
       "      <th>Date</th>\n",
       "      <th>Weekly_Sales</th>\n",
       "    </tr>\n",
       "  </thead>\n",
       "  <tbody>\n",
       "    <tr>\n",
       "      <th>20482</th>\n",
       "      <td>05/02/2010</td>\n",
       "      <td>6453.58</td>\n",
       "    </tr>\n",
       "    <tr>\n",
       "      <th>20483</th>\n",
       "      <td>12/02/2010</td>\n",
       "      <td>12748.72</td>\n",
       "    </tr>\n",
       "    <tr>\n",
       "      <th>20484</th>\n",
       "      <td>19/02/2010</td>\n",
       "      <td>8918.31</td>\n",
       "    </tr>\n",
       "    <tr>\n",
       "      <th>20485</th>\n",
       "      <td>26/02/2010</td>\n",
       "      <td>4992.00</td>\n",
       "    </tr>\n",
       "    <tr>\n",
       "      <th>20486</th>\n",
       "      <td>05/03/2010</td>\n",
       "      <td>5172.73</td>\n",
       "    </tr>\n",
       "  </tbody>\n",
       "</table>\n",
       "</div>"
      ],
      "text/plain": [
       "             Date  Weekly_Sales\n",
       "20482  05/02/2010       6453.58\n",
       "20483  12/02/2010      12748.72\n",
       "20484  19/02/2010       8918.31\n",
       "20485  26/02/2010       4992.00\n",
       "20486  05/03/2010       5172.73"
      ]
     },
     "execution_count": 9,
     "metadata": {},
     "output_type": "execute_result"
    }
   ],
   "source": [
    "#Type B\n",
    "Type_B1=Type_B.drop([\"Dept\",\"Store\",\"IsHoliday\",\"Temperature\",\"Fuel_Price\",\"MarkDown1\",\"MarkDown2\",\"MarkDown3\",\"MarkDown4\",\"MarkDown5\",\"CPI\",\"Unemployment\",\"Size\",\"Type\",],axis=1)\n",
    "Type_B1.head()"
   ]
  },
  {
   "cell_type": "code",
   "execution_count": 10,
   "metadata": {},
   "outputs": [],
   "source": [
    "export_csv = Type_B1.to_csv (r'data_newB.csv', index = None, header=True)"
   ]
  },
  {
   "cell_type": "code",
   "execution_count": 11,
   "metadata": {},
   "outputs": [
    {
     "data": {
      "text/html": [
       "<div>\n",
       "<style scoped>\n",
       "    .dataframe tbody tr th:only-of-type {\n",
       "        vertical-align: middle;\n",
       "    }\n",
       "\n",
       "    .dataframe tbody tr th {\n",
       "        vertical-align: top;\n",
       "    }\n",
       "\n",
       "    .dataframe thead th {\n",
       "        text-align: right;\n",
       "    }\n",
       "</style>\n",
       "<table border=\"1\" class=\"dataframe\">\n",
       "  <thead>\n",
       "    <tr style=\"text-align: right;\">\n",
       "      <th></th>\n",
       "      <th>Weekly_Sales</th>\n",
       "    </tr>\n",
       "    <tr>\n",
       "      <th>Date</th>\n",
       "      <th></th>\n",
       "    </tr>\n",
       "  </thead>\n",
       "  <tbody>\n",
       "    <tr>\n",
       "      <th>2010-05-02</th>\n",
       "      <td>6453.58</td>\n",
       "    </tr>\n",
       "    <tr>\n",
       "      <th>2010-12-02</th>\n",
       "      <td>12748.72</td>\n",
       "    </tr>\n",
       "    <tr>\n",
       "      <th>2010-02-19</th>\n",
       "      <td>8918.31</td>\n",
       "    </tr>\n",
       "    <tr>\n",
       "      <th>2010-02-26</th>\n",
       "      <td>4992.00</td>\n",
       "    </tr>\n",
       "    <tr>\n",
       "      <th>2010-05-03</th>\n",
       "      <td>5172.73</td>\n",
       "    </tr>\n",
       "  </tbody>\n",
       "</table>\n",
       "</div>"
      ],
      "text/plain": [
       "            Weekly_Sales\n",
       "Date                    \n",
       "2010-05-02       6453.58\n",
       "2010-12-02      12748.72\n",
       "2010-02-19       8918.31\n",
       "2010-02-26       4992.00\n",
       "2010-05-03       5172.73"
      ]
     },
     "execution_count": 11,
     "metadata": {},
     "output_type": "execute_result"
    }
   ],
   "source": [
    "# importing the data again\n",
    "F_TypeB = pd.read_csv(\"data_newB.csv\",index_col = [0], parse_dates = [0])\n",
    "F_TypeB.head()"
   ]
  },
  {
   "cell_type": "code",
   "execution_count": 12,
   "metadata": {},
   "outputs": [
    {
     "data": {
      "text/plain": [
       "pandas.core.frame.DataFrame"
      ]
     },
     "execution_count": 12,
     "metadata": {},
     "output_type": "execute_result"
    }
   ],
   "source": [
    "type(F_TypeB)"
   ]
  },
  {
   "cell_type": "code",
   "execution_count": 13,
   "metadata": {},
   "outputs": [
    {
     "data": {
      "text/plain": [
       "163495"
      ]
     },
     "execution_count": 13,
     "metadata": {},
     "output_type": "execute_result"
    }
   ],
   "source": [
    "F_TypeB.size"
   ]
  },
  {
   "cell_type": "code",
   "execution_count": 14,
   "metadata": {},
   "outputs": [],
   "source": [
    "F_TypeB = F_TypeB[0:10000]"
   ]
  },
  {
   "cell_type": "code",
   "execution_count": 15,
   "metadata": {},
   "outputs": [],
   "source": [
    "series_value = F_TypeB.values"
   ]
  },
  {
   "cell_type": "code",
   "execution_count": 16,
   "metadata": {},
   "outputs": [
    {
     "data": {
      "text/plain": [
       "array([[ 6453.58],\n",
       "       [12748.72],\n",
       "       [ 8918.31],\n",
       "       ...,\n",
       "       [ 4039.74],\n",
       "       [ 4690.19],\n",
       "       [ 5747.94]])"
      ]
     },
     "execution_count": 16,
     "metadata": {},
     "output_type": "execute_result"
    }
   ],
   "source": [
    "series_value"
   ]
  },
  {
   "cell_type": "code",
   "execution_count": 17,
   "metadata": {},
   "outputs": [
    {
     "data": {
      "text/plain": [
       "numpy.ndarray"
      ]
     },
     "execution_count": 17,
     "metadata": {},
     "output_type": "execute_result"
    }
   ],
   "source": [
    "type(series_value)"
   ]
  },
  {
   "cell_type": "code",
   "execution_count": 18,
   "metadata": {},
   "outputs": [
    {
     "data": {
      "text/plain": [
       "10000"
      ]
     },
     "execution_count": 18,
     "metadata": {},
     "output_type": "execute_result"
    }
   ],
   "source": [
    "F_TypeB.size"
   ]
  },
  {
   "cell_type": "code",
   "execution_count": 19,
   "metadata": {},
   "outputs": [
    {
     "data": {
      "text/html": [
       "<div>\n",
       "<style scoped>\n",
       "    .dataframe tbody tr th:only-of-type {\n",
       "        vertical-align: middle;\n",
       "    }\n",
       "\n",
       "    .dataframe tbody tr th {\n",
       "        vertical-align: top;\n",
       "    }\n",
       "\n",
       "    .dataframe thead th {\n",
       "        text-align: right;\n",
       "    }\n",
       "</style>\n",
       "<table border=\"1\" class=\"dataframe\">\n",
       "  <thead>\n",
       "    <tr style=\"text-align: right;\">\n",
       "      <th></th>\n",
       "      <th>Weekly_Sales</th>\n",
       "    </tr>\n",
       "    <tr>\n",
       "      <th>Date</th>\n",
       "      <th></th>\n",
       "    </tr>\n",
       "  </thead>\n",
       "  <tbody>\n",
       "    <tr>\n",
       "      <th>2012-01-13</th>\n",
       "      <td>3227.26</td>\n",
       "    </tr>\n",
       "    <tr>\n",
       "      <th>2012-01-20</th>\n",
       "      <td>4407.11</td>\n",
       "    </tr>\n",
       "    <tr>\n",
       "      <th>2012-01-27</th>\n",
       "      <td>4039.74</td>\n",
       "    </tr>\n",
       "    <tr>\n",
       "      <th>2012-03-02</th>\n",
       "      <td>4690.19</td>\n",
       "    </tr>\n",
       "    <tr>\n",
       "      <th>2012-10-02</th>\n",
       "      <td>5747.94</td>\n",
       "    </tr>\n",
       "  </tbody>\n",
       "</table>\n",
       "</div>"
      ],
      "text/plain": [
       "            Weekly_Sales\n",
       "Date                    \n",
       "2012-01-13       3227.26\n",
       "2012-01-20       4407.11\n",
       "2012-01-27       4039.74\n",
       "2012-03-02       4690.19\n",
       "2012-10-02       5747.94"
      ]
     },
     "execution_count": 19,
     "metadata": {},
     "output_type": "execute_result"
    }
   ],
   "source": [
    "F_TypeB.tail()"
   ]
  },
  {
   "cell_type": "code",
   "execution_count": 20,
   "metadata": {},
   "outputs": [
    {
     "data": {
      "text/html": [
       "<div>\n",
       "<style scoped>\n",
       "    .dataframe tbody tr th:only-of-type {\n",
       "        vertical-align: middle;\n",
       "    }\n",
       "\n",
       "    .dataframe tbody tr th {\n",
       "        vertical-align: top;\n",
       "    }\n",
       "\n",
       "    .dataframe thead th {\n",
       "        text-align: right;\n",
       "    }\n",
       "</style>\n",
       "<table border=\"1\" class=\"dataframe\">\n",
       "  <thead>\n",
       "    <tr style=\"text-align: right;\">\n",
       "      <th></th>\n",
       "      <th>Weekly_Sales</th>\n",
       "    </tr>\n",
       "  </thead>\n",
       "  <tbody>\n",
       "    <tr>\n",
       "      <th>count</th>\n",
       "      <td>10000.000000</td>\n",
       "    </tr>\n",
       "    <tr>\n",
       "      <th>mean</th>\n",
       "      <td>6453.737422</td>\n",
       "    </tr>\n",
       "    <tr>\n",
       "      <th>std</th>\n",
       "      <td>13617.706649</td>\n",
       "    </tr>\n",
       "    <tr>\n",
       "      <th>min</th>\n",
       "      <td>-1008.960000</td>\n",
       "    </tr>\n",
       "    <tr>\n",
       "      <th>25%</th>\n",
       "      <td>1089.875000</td>\n",
       "    </tr>\n",
       "    <tr>\n",
       "      <th>50%</th>\n",
       "      <td>3203.585000</td>\n",
       "    </tr>\n",
       "    <tr>\n",
       "      <th>75%</th>\n",
       "      <td>7746.740000</td>\n",
       "    </tr>\n",
       "    <tr>\n",
       "      <th>max</th>\n",
       "      <td>155897.940000</td>\n",
       "    </tr>\n",
       "  </tbody>\n",
       "</table>\n",
       "</div>"
      ],
      "text/plain": [
       "        Weekly_Sales\n",
       "count   10000.000000\n",
       "mean     6453.737422\n",
       "std     13617.706649\n",
       "min     -1008.960000\n",
       "25%      1089.875000\n",
       "50%      3203.585000\n",
       "75%      7746.740000\n",
       "max    155897.940000"
      ]
     },
     "execution_count": 20,
     "metadata": {},
     "output_type": "execute_result"
    }
   ],
   "source": [
    "F_TypeB.describe()"
   ]
  },
  {
   "cell_type": "code",
   "execution_count": 21,
   "metadata": {},
   "outputs": [
    {
     "data": {
      "text/plain": [
       "<bound method DataFrame.info of             Weekly_Sales\n",
       "Date                    \n",
       "2010-05-02       6453.58\n",
       "2010-12-02      12748.72\n",
       "2010-02-19       8918.31\n",
       "2010-02-26       4992.00\n",
       "2010-05-03       5172.73\n",
       "...                  ...\n",
       "2012-01-13       3227.26\n",
       "2012-01-20       4407.11\n",
       "2012-01-27       4039.74\n",
       "2012-03-02       4690.19\n",
       "2012-10-02       5747.94\n",
       "\n",
       "[10000 rows x 1 columns]>"
      ]
     },
     "execution_count": 21,
     "metadata": {},
     "output_type": "execute_result"
    }
   ],
   "source": [
    "F_TypeB.info"
   ]
  },
  {
   "cell_type": "code",
   "execution_count": 22,
   "metadata": {},
   "outputs": [
    {
     "data": {
      "text/plain": [
       "<matplotlib.axes._subplots.AxesSubplot at 0x121a70790>"
      ]
     },
     "execution_count": 22,
     "metadata": {},
     "output_type": "execute_result"
    },
    {
     "data": {
      "image/png": "[encoded data removed]",
      "text/plain": [
       "<Figure size 432x288 with 1 Axes>"
      ]
     },
     "metadata": {
      "needs_background": "light"
     },
     "output_type": "display_data"
    }
   ],
   "source": [
    "F_TypeB.plot()"
   ]
  },
  {
   "cell_type": "code",
   "execution_count": 23,
   "metadata": {},
   "outputs": [],
   "source": [
    "F_TypeB_mean = F_TypeB.rolling(window = 10).mean()"
   ]
  },
  {
   "cell_type": "code",
   "execution_count": 24,
   "metadata": {},
   "outputs": [],
   "source": [
    "from statsmodels.graphics.tsaplots import plot_acf"
   ]
  },
  {
   "cell_type": "code",
   "execution_count": 25,
   "metadata": {},
   "outputs": [
    {
     "data": {
      "image/png": "[encoded data removed]",
      "text/plain": [
       "<Figure size 432x288 with 1 Axes>"
      ]
     },
     "execution_count": 25,
     "metadata": {},
     "output_type": "execute_result"
    },
    {
     "data": {
      "image/png": "[encoded data removed]",
      "text/plain": [
       "<Figure size 432x288 with 1 Axes>"
      ]
     },
     "metadata": {
      "needs_background": "light"
     },
     "output_type": "display_data"
    }
   ],
   "source": [
    "plot_acf(F_TypeB)"
   ]
  },
  {
   "cell_type": "markdown",
   "metadata": {},
   "source": [
    "means mean, variance & covariance is constant over period of time"
   ]
  },
  {
   "cell_type": "markdown",
   "metadata": {},
   "source": [
    "## Converting series to stationary"
   ]
  },
  {
   "cell_type": "code",
   "execution_count": 26,
   "metadata": {},
   "outputs": [
    {
     "data": {
      "text/html": [
       "<div>\n",
       "<style scoped>\n",
       "    .dataframe tbody tr th:only-of-type {\n",
       "        vertical-align: middle;\n",
       "    }\n",
       "\n",
       "    .dataframe tbody tr th {\n",
       "        vertical-align: top;\n",
       "    }\n",
       "\n",
       "    .dataframe thead th {\n",
       "        text-align: right;\n",
       "    }\n",
       "</style>\n",
       "<table border=\"1\" class=\"dataframe\">\n",
       "  <thead>\n",
       "    <tr style=\"text-align: right;\">\n",
       "      <th></th>\n",
       "      <th>Weekly_Sales</th>\n",
       "    </tr>\n",
       "    <tr>\n",
       "      <th>Date</th>\n",
       "      <th></th>\n",
       "    </tr>\n",
       "  </thead>\n",
       "  <tbody>\n",
       "    <tr>\n",
       "      <th>2010-05-02</th>\n",
       "      <td>6453.58</td>\n",
       "    </tr>\n",
       "    <tr>\n",
       "      <th>2010-12-02</th>\n",
       "      <td>12748.72</td>\n",
       "    </tr>\n",
       "    <tr>\n",
       "      <th>2010-02-19</th>\n",
       "      <td>8918.31</td>\n",
       "    </tr>\n",
       "    <tr>\n",
       "      <th>2010-02-26</th>\n",
       "      <td>4992.00</td>\n",
       "    </tr>\n",
       "    <tr>\n",
       "      <th>2010-05-03</th>\n",
       "      <td>5172.73</td>\n",
       "    </tr>\n",
       "  </tbody>\n",
       "</table>\n",
       "</div>"
      ],
      "text/plain": [
       "            Weekly_Sales\n",
       "Date                    \n",
       "2010-05-02       6453.58\n",
       "2010-12-02      12748.72\n",
       "2010-02-19       8918.31\n",
       "2010-02-26       4992.00\n",
       "2010-05-03       5172.73"
      ]
     },
     "execution_count": 26,
     "metadata": {},
     "output_type": "execute_result"
    }
   ],
   "source": [
    "F_TypeB.head()"
   ]
  },
  {
   "cell_type": "code",
   "execution_count": 27,
   "metadata": {},
   "outputs": [
    {
     "data": {
      "text/html": [
       "<div>\n",
       "<style scoped>\n",
       "    .dataframe tbody tr th:only-of-type {\n",
       "        vertical-align: middle;\n",
       "    }\n",
       "\n",
       "    .dataframe tbody tr th {\n",
       "        vertical-align: top;\n",
       "    }\n",
       "\n",
       "    .dataframe thead th {\n",
       "        text-align: right;\n",
       "    }\n",
       "</style>\n",
       "<table border=\"1\" class=\"dataframe\">\n",
       "  <thead>\n",
       "    <tr style=\"text-align: right;\">\n",
       "      <th></th>\n",
       "      <th>Weekly_Sales</th>\n",
       "    </tr>\n",
       "    <tr>\n",
       "      <th>Date</th>\n",
       "      <th></th>\n",
       "    </tr>\n",
       "  </thead>\n",
       "  <tbody>\n",
       "    <tr>\n",
       "      <th>2010-05-02</th>\n",
       "      <td>NaN</td>\n",
       "    </tr>\n",
       "    <tr>\n",
       "      <th>2010-12-02</th>\n",
       "      <td>6453.58</td>\n",
       "    </tr>\n",
       "    <tr>\n",
       "      <th>2010-02-19</th>\n",
       "      <td>12748.72</td>\n",
       "    </tr>\n",
       "    <tr>\n",
       "      <th>2010-02-26</th>\n",
       "      <td>8918.31</td>\n",
       "    </tr>\n",
       "    <tr>\n",
       "      <th>2010-05-03</th>\n",
       "      <td>4992.00</td>\n",
       "    </tr>\n",
       "    <tr>\n",
       "      <th>...</th>\n",
       "      <td>...</td>\n",
       "    </tr>\n",
       "    <tr>\n",
       "      <th>2012-01-13</th>\n",
       "      <td>4408.85</td>\n",
       "    </tr>\n",
       "    <tr>\n",
       "      <th>2012-01-20</th>\n",
       "      <td>3227.26</td>\n",
       "    </tr>\n",
       "    <tr>\n",
       "      <th>2012-01-27</th>\n",
       "      <td>4407.11</td>\n",
       "    </tr>\n",
       "    <tr>\n",
       "      <th>2012-03-02</th>\n",
       "      <td>4039.74</td>\n",
       "    </tr>\n",
       "    <tr>\n",
       "      <th>2012-10-02</th>\n",
       "      <td>4690.19</td>\n",
       "    </tr>\n",
       "  </tbody>\n",
       "</table>\n",
       "<p>10000 rows × 1 columns</p>\n",
       "</div>"
      ],
      "text/plain": [
       "            Weekly_Sales\n",
       "Date                    \n",
       "2010-05-02           NaN\n",
       "2010-12-02       6453.58\n",
       "2010-02-19      12748.72\n",
       "2010-02-26       8918.31\n",
       "2010-05-03       4992.00\n",
       "...                  ...\n",
       "2012-01-13       4408.85\n",
       "2012-01-20       3227.26\n",
       "2012-01-27       4407.11\n",
       "2012-03-02       4039.74\n",
       "2012-10-02       4690.19\n",
       "\n",
       "[10000 rows x 1 columns]"
      ]
     },
     "execution_count": 27,
     "metadata": {},
     "output_type": "execute_result"
    }
   ],
   "source": [
    "F_TypeB.shift(1)"
   ]
  },
  {
   "cell_type": "code",
   "execution_count": 28,
   "metadata": {},
   "outputs": [],
   "source": [
    "TypeB_diff = F_TypeB.diff(periods=1)\n",
    "#integrated of order 1 (1 lag)\n",
    "#denoted by d (for difference)\n",
    "#one of the parameter of ARIMA"
   ]
  },
  {
   "cell_type": "code",
   "execution_count": 29,
   "metadata": {},
   "outputs": [
    {
     "data": {
      "text/html": [
       "<div>\n",
       "<style scoped>\n",
       "    .dataframe tbody tr th:only-of-type {\n",
       "        vertical-align: middle;\n",
       "    }\n",
       "\n",
       "    .dataframe tbody tr th {\n",
       "        vertical-align: top;\n",
       "    }\n",
       "\n",
       "    .dataframe thead th {\n",
       "        text-align: right;\n",
       "    }\n",
       "</style>\n",
       "<table border=\"1\" class=\"dataframe\">\n",
       "  <thead>\n",
       "    <tr style=\"text-align: right;\">\n",
       "      <th></th>\n",
       "      <th>Weekly_Sales</th>\n",
       "    </tr>\n",
       "    <tr>\n",
       "      <th>Date</th>\n",
       "      <th></th>\n",
       "    </tr>\n",
       "  </thead>\n",
       "  <tbody>\n",
       "    <tr>\n",
       "      <th>2010-12-02</th>\n",
       "      <td>6295.14</td>\n",
       "    </tr>\n",
       "    <tr>\n",
       "      <th>2010-02-19</th>\n",
       "      <td>-3830.41</td>\n",
       "    </tr>\n",
       "    <tr>\n",
       "      <th>2010-02-26</th>\n",
       "      <td>-3926.31</td>\n",
       "    </tr>\n",
       "    <tr>\n",
       "      <th>2010-05-03</th>\n",
       "      <td>180.73</td>\n",
       "    </tr>\n",
       "    <tr>\n",
       "      <th>2010-12-03</th>\n",
       "      <td>367.55</td>\n",
       "    </tr>\n",
       "  </tbody>\n",
       "</table>\n",
       "</div>"
      ],
      "text/plain": [
       "            Weekly_Sales\n",
       "Date                    \n",
       "2010-12-02       6295.14\n",
       "2010-02-19      -3830.41\n",
       "2010-02-26      -3926.31\n",
       "2010-05-03        180.73\n",
       "2010-12-03        367.55"
      ]
     },
     "execution_count": 29,
     "metadata": {},
     "output_type": "execute_result"
    }
   ],
   "source": [
    "#removing the NaN value\n",
    "TypeB_diff = TypeB_diff[1:]\n",
    "TypeB_diff.head()"
   ]
  },
  {
   "cell_type": "code",
   "execution_count": 30,
   "metadata": {},
   "outputs": [
    {
     "data": {
      "image/png": "[encoded data removed]",
      "text/plain": [
       "<Figure size 432x288 with 1 Axes>"
      ]
     },
     "execution_count": 30,
     "metadata": {},
     "output_type": "execute_result"
    },
    {
     "data": {
      "image/png": "[encoded data removed]",
      "text/plain": [
       "<Figure size 432x288 with 1 Axes>"
      ]
     },
     "metadata": {
      "needs_background": "light"
     },
     "output_type": "display_data"
    }
   ],
   "source": [
    "plot_acf(TypeB_diff)"
   ]
  },
  {
   "cell_type": "code",
   "execution_count": 31,
   "metadata": {},
   "outputs": [
    {
     "data": {
      "text/plain": [
       "<matplotlib.axes._subplots.AxesSubplot at 0x126eea950>"
      ]
     },
     "execution_count": 31,
     "metadata": {},
     "output_type": "execute_result"
    },
    {
     "data": {
      "image/png": "[encoded data removed]",
      "text/plain": [
       "<Figure size 432x288 with 1 Axes>"
      ]
     },
     "metadata": {
      "needs_background": "light"
     },
     "output_type": "display_data"
    }
   ],
   "source": [
    "TypeB_diff.plot()"
   ]
  },
  {
   "cell_type": "code",
   "execution_count": 32,
   "metadata": {},
   "outputs": [],
   "source": [
    "X = F_TypeB.values\n",
    "train = X[0:9000] #9000 data as train data\n",
    "test = X[9000:] #1000 data as test data\n",
    "\n",
    "predictions = []"
   ]
  },
  {
   "cell_type": "code",
   "execution_count": 33,
   "metadata": {},
   "outputs": [
    {
     "data": {
      "text/plain": [
       "1000"
      ]
     },
     "execution_count": 33,
     "metadata": {},
     "output_type": "execute_result"
    }
   ],
   "source": [
    "test.size"
   ]
  },
  {
   "cell_type": "code",
   "execution_count": 34,
   "metadata": {},
   "outputs": [],
   "source": [
    "from statsmodels.tsa.arima_model import ARIMA\n",
    "from sklearn.metrics import mean_squared_error"
   ]
  },
  {
   "cell_type": "code",
   "execution_count": 35,
   "metadata": {},
   "outputs": [
    {
     "name": "stdout",
     "output_type": "stream",
     "text": [
      "171448.18701704306\n"
     ]
    }
   ],
   "source": [
    "#p,d,q\n",
    "model_arima = ARIMA(train,order=(3,1,1))\n",
    "model_arima_fit = model_arima.fit()\n",
    "\n",
    "#AIC value\n",
    "print(model_arima_fit.aic)"
   ]
  },
  {
   "cell_type": "code",
   "execution_count": 36,
   "metadata": {},
   "outputs": [
    {
     "data": {
      "text/plain": [
       "array([ 5.59777375e+02,  5.60486801e+02,  5.43256404e+02,  5.54474992e+02,\n",
       "        5.51870367e+02,  5.51735278e+02,  5.49286280e+02,  5.49815112e+02,\n",
       "        5.48943548e+02,  5.48381217e+02,  5.47535122e+02,  5.47000701e+02,\n",
       "        5.46322945e+02,  5.45683053e+02,  5.45009483e+02,  5.44368558e+02,\n",
       "        5.43712815e+02,  5.43061624e+02,  5.42406525e+02,  5.41754850e+02,\n",
       "        5.41101628e+02,  5.40448946e+02,  5.39795817e+02,  5.39143048e+02,\n",
       "        5.38490117e+02,  5.37837248e+02,  5.37184329e+02,  5.36531448e+02,\n",
       "        5.35878550e+02,  5.35225659e+02,  5.34572763e+02,  5.33919870e+02,\n",
       "        5.33266976e+02,  5.32614082e+02,  5.31961188e+02,  5.31308294e+02,\n",
       "        5.30655400e+02,  5.30002506e+02,  5.29349612e+02,  5.28696718e+02,\n",
       "        5.28043824e+02,  5.27390930e+02,  5.26738036e+02,  5.26085142e+02,\n",
       "        5.25432248e+02,  5.24779354e+02,  5.24126461e+02,  5.23473567e+02,\n",
       "        5.22820673e+02,  5.22167779e+02,  5.21514885e+02,  5.20861991e+02,\n",
       "        5.20209097e+02,  5.19556203e+02,  5.18903309e+02,  5.18250415e+02,\n",
       "        5.17597521e+02,  5.16944627e+02,  5.16291733e+02,  5.15638839e+02,\n",
       "        5.14985945e+02,  5.14333051e+02,  5.13680157e+02,  5.13027263e+02,\n",
       "        5.12374370e+02,  5.11721476e+02,  5.11068582e+02,  5.10415688e+02,\n",
       "        5.09762794e+02,  5.09109900e+02,  5.08457006e+02,  5.07804112e+02,\n",
       "        5.07151218e+02,  5.06498324e+02,  5.05845430e+02,  5.05192536e+02,\n",
       "        5.04539642e+02,  5.03886748e+02,  5.03233854e+02,  5.02580960e+02,\n",
       "        5.01928066e+02,  5.01275173e+02,  5.00622279e+02,  4.99969385e+02,\n",
       "        4.99316491e+02,  4.98663597e+02,  4.98010703e+02,  4.97357809e+02,\n",
       "        4.96704915e+02,  4.96052021e+02,  4.95399127e+02,  4.94746233e+02,\n",
       "        4.94093339e+02,  4.93440445e+02,  4.92787551e+02,  4.92134657e+02,\n",
       "        4.91481763e+02,  4.90828869e+02,  4.90175975e+02,  4.89523082e+02,\n",
       "        4.88870188e+02,  4.88217294e+02,  4.87564400e+02,  4.86911506e+02,\n",
       "        4.86258612e+02,  4.85605718e+02,  4.84952824e+02,  4.84299930e+02,\n",
       "        4.83647036e+02,  4.82994142e+02,  4.82341248e+02,  4.81688354e+02,\n",
       "        4.81035460e+02,  4.80382566e+02,  4.79729672e+02,  4.79076778e+02,\n",
       "        4.78423884e+02,  4.77770991e+02,  4.77118097e+02,  4.76465203e+02,\n",
       "        4.75812309e+02,  4.75159415e+02,  4.74506521e+02,  4.73853627e+02,\n",
       "        4.73200733e+02,  4.72547839e+02,  4.71894945e+02,  4.71242051e+02,\n",
       "        4.70589157e+02,  4.69936263e+02,  4.69283369e+02,  4.68630475e+02,\n",
       "        4.67977581e+02,  4.67324687e+02,  4.66671794e+02,  4.66018900e+02,\n",
       "        4.65366006e+02,  4.64713112e+02,  4.64060218e+02,  4.63407324e+02,\n",
       "        4.62754430e+02,  4.62101536e+02,  4.61448642e+02,  4.60795748e+02,\n",
       "        4.60142854e+02,  4.59489960e+02,  4.58837066e+02,  4.58184172e+02,\n",
       "        4.57531278e+02,  4.56878384e+02,  4.56225490e+02,  4.55572596e+02,\n",
       "        4.54919703e+02,  4.54266809e+02,  4.53613915e+02,  4.52961021e+02,\n",
       "        4.52308127e+02,  4.51655233e+02,  4.51002339e+02,  4.50349445e+02,\n",
       "        4.49696551e+02,  4.49043657e+02,  4.48390763e+02,  4.47737869e+02,\n",
       "        4.47084975e+02,  4.46432081e+02,  4.45779187e+02,  4.45126293e+02,\n",
       "        4.44473399e+02,  4.43820505e+02,  4.43167612e+02,  4.42514718e+02,\n",
       "        4.41861824e+02,  4.41208930e+02,  4.40556036e+02,  4.39903142e+02,\n",
       "        4.39250248e+02,  4.38597354e+02,  4.37944460e+02,  4.37291566e+02,\n",
       "        4.36638672e+02,  4.35985778e+02,  4.35332884e+02,  4.34679990e+02,\n",
       "        4.34027096e+02,  4.33374202e+02,  4.32721308e+02,  4.32068414e+02,\n",
       "        4.31415521e+02,  4.30762627e+02,  4.30109733e+02,  4.29456839e+02,\n",
       "        4.28803945e+02,  4.28151051e+02,  4.27498157e+02,  4.26845263e+02,\n",
       "        4.26192369e+02,  4.25539475e+02,  4.24886581e+02,  4.24233687e+02,\n",
       "        4.23580793e+02,  4.22927899e+02,  4.22275005e+02,  4.21622111e+02,\n",
       "        4.20969217e+02,  4.20316324e+02,  4.19663430e+02,  4.19010536e+02,\n",
       "        4.18357642e+02,  4.17704748e+02,  4.17051854e+02,  4.16398960e+02,\n",
       "        4.15746066e+02,  4.15093172e+02,  4.14440278e+02,  4.13787384e+02,\n",
       "        4.13134490e+02,  4.12481596e+02,  4.11828702e+02,  4.11175808e+02,\n",
       "        4.10522914e+02,  4.09870020e+02,  4.09217126e+02,  4.08564233e+02,\n",
       "        4.07911339e+02,  4.07258445e+02,  4.06605551e+02,  4.05952657e+02,\n",
       "        4.05299763e+02,  4.04646869e+02,  4.03993975e+02,  4.03341081e+02,\n",
       "        4.02688187e+02,  4.02035293e+02,  4.01382399e+02,  4.00729505e+02,\n",
       "        4.00076611e+02,  3.99423717e+02,  3.98770823e+02,  3.98117929e+02,\n",
       "        3.97465035e+02,  3.96812142e+02,  3.96159248e+02,  3.95506354e+02,\n",
       "        3.94853460e+02,  3.94200566e+02,  3.93547672e+02,  3.92894778e+02,\n",
       "        3.92241884e+02,  3.91588990e+02,  3.90936096e+02,  3.90283202e+02,\n",
       "        3.89630308e+02,  3.88977414e+02,  3.88324520e+02,  3.87671626e+02,\n",
       "        3.87018732e+02,  3.86365838e+02,  3.85712945e+02,  3.85060051e+02,\n",
       "        3.84407157e+02,  3.83754263e+02,  3.83101369e+02,  3.82448475e+02,\n",
       "        3.81795581e+02,  3.81142687e+02,  3.80489793e+02,  3.79836899e+02,\n",
       "        3.79184005e+02,  3.78531111e+02,  3.77878217e+02,  3.77225323e+02,\n",
       "        3.76572429e+02,  3.75919535e+02,  3.75266641e+02,  3.74613747e+02,\n",
       "        3.73960854e+02,  3.73307960e+02,  3.72655066e+02,  3.72002172e+02,\n",
       "        3.71349278e+02,  3.70696384e+02,  3.70043490e+02,  3.69390596e+02,\n",
       "        3.68737702e+02,  3.68084808e+02,  3.67431914e+02,  3.66779020e+02,\n",
       "        3.66126126e+02,  3.65473232e+02,  3.64820338e+02,  3.64167444e+02,\n",
       "        3.63514550e+02,  3.62861656e+02,  3.62208763e+02,  3.61555869e+02,\n",
       "        3.60902975e+02,  3.60250081e+02,  3.59597187e+02,  3.58944293e+02,\n",
       "        3.58291399e+02,  3.57638505e+02,  3.56985611e+02,  3.56332717e+02,\n",
       "        3.55679823e+02,  3.55026929e+02,  3.54374035e+02,  3.53721141e+02,\n",
       "        3.53068247e+02,  3.52415353e+02,  3.51762459e+02,  3.51109565e+02,\n",
       "        3.50456672e+02,  3.49803778e+02,  3.49150884e+02,  3.48497990e+02,\n",
       "        3.47845096e+02,  3.47192202e+02,  3.46539308e+02,  3.45886414e+02,\n",
       "        3.45233520e+02,  3.44580626e+02,  3.43927732e+02,  3.43274838e+02,\n",
       "        3.42621944e+02,  3.41969050e+02,  3.41316156e+02,  3.40663262e+02,\n",
       "        3.40010368e+02,  3.39357475e+02,  3.38704581e+02,  3.38051687e+02,\n",
       "        3.37398793e+02,  3.36745899e+02,  3.36093005e+02,  3.35440111e+02,\n",
       "        3.34787217e+02,  3.34134323e+02,  3.33481429e+02,  3.32828535e+02,\n",
       "        3.32175641e+02,  3.31522747e+02,  3.30869853e+02,  3.30216959e+02,\n",
       "        3.29564065e+02,  3.28911171e+02,  3.28258277e+02,  3.27605384e+02,\n",
       "        3.26952490e+02,  3.26299596e+02,  3.25646702e+02,  3.24993808e+02,\n",
       "        3.24340914e+02,  3.23688020e+02,  3.23035126e+02,  3.22382232e+02,\n",
       "        3.21729338e+02,  3.21076444e+02,  3.20423550e+02,  3.19770656e+02,\n",
       "        3.19117762e+02,  3.18464868e+02,  3.17811974e+02,  3.17159080e+02,\n",
       "        3.16506186e+02,  3.15853293e+02,  3.15200399e+02,  3.14547505e+02,\n",
       "        3.13894611e+02,  3.13241717e+02,  3.12588823e+02,  3.11935929e+02,\n",
       "        3.11283035e+02,  3.10630141e+02,  3.09977247e+02,  3.09324353e+02,\n",
       "        3.08671459e+02,  3.08018565e+02,  3.07365671e+02,  3.06712777e+02,\n",
       "        3.06059883e+02,  3.05406989e+02,  3.04754095e+02,  3.04101202e+02,\n",
       "        3.03448308e+02,  3.02795414e+02,  3.02142520e+02,  3.01489626e+02,\n",
       "        3.00836732e+02,  3.00183838e+02,  2.99530944e+02,  2.98878050e+02,\n",
       "        2.98225156e+02,  2.97572262e+02,  2.96919368e+02,  2.96266474e+02,\n",
       "        2.95613580e+02,  2.94960686e+02,  2.94307792e+02,  2.93654898e+02,\n",
       "        2.93002005e+02,  2.92349111e+02,  2.91696217e+02,  2.91043323e+02,\n",
       "        2.90390429e+02,  2.89737535e+02,  2.89084641e+02,  2.88431747e+02,\n",
       "        2.87778853e+02,  2.87125959e+02,  2.86473065e+02,  2.85820171e+02,\n",
       "        2.85167277e+02,  2.84514383e+02,  2.83861489e+02,  2.83208595e+02,\n",
       "        2.82555701e+02,  2.81902807e+02,  2.81249914e+02,  2.80597020e+02,\n",
       "        2.79944126e+02,  2.79291232e+02,  2.78638338e+02,  2.77985444e+02,\n",
       "        2.77332550e+02,  2.76679656e+02,  2.76026762e+02,  2.75373868e+02,\n",
       "        2.74720974e+02,  2.74068080e+02,  2.73415186e+02,  2.72762292e+02,\n",
       "        2.72109398e+02,  2.71456504e+02,  2.70803610e+02,  2.70150716e+02,\n",
       "        2.69497823e+02,  2.68844929e+02,  2.68192035e+02,  2.67539141e+02,\n",
       "        2.66886247e+02,  2.66233353e+02,  2.65580459e+02,  2.64927565e+02,\n",
       "        2.64274671e+02,  2.63621777e+02,  2.62968883e+02,  2.62315989e+02,\n",
       "        2.61663095e+02,  2.61010201e+02,  2.60357307e+02,  2.59704413e+02,\n",
       "        2.59051519e+02,  2.58398626e+02,  2.57745732e+02,  2.57092838e+02,\n",
       "        2.56439944e+02,  2.55787050e+02,  2.55134156e+02,  2.54481262e+02,\n",
       "        2.53828368e+02,  2.53175474e+02,  2.52522580e+02,  2.51869686e+02,\n",
       "        2.51216792e+02,  2.50563898e+02,  2.49911004e+02,  2.49258110e+02,\n",
       "        2.48605216e+02,  2.47952322e+02,  2.47299428e+02,  2.46646535e+02,\n",
       "        2.45993641e+02,  2.45340747e+02,  2.44687853e+02,  2.44034959e+02,\n",
       "        2.43382065e+02,  2.42729171e+02,  2.42076277e+02,  2.41423383e+02,\n",
       "        2.40770489e+02,  2.40117595e+02,  2.39464701e+02,  2.38811807e+02,\n",
       "        2.38158913e+02,  2.37506019e+02,  2.36853125e+02,  2.36200231e+02,\n",
       "        2.35547337e+02,  2.34894444e+02,  2.34241550e+02,  2.33588656e+02,\n",
       "        2.32935762e+02,  2.32282868e+02,  2.31629974e+02,  2.30977080e+02,\n",
       "        2.30324186e+02,  2.29671292e+02,  2.29018398e+02,  2.28365504e+02,\n",
       "        2.27712610e+02,  2.27059716e+02,  2.26406822e+02,  2.25753928e+02,\n",
       "        2.25101034e+02,  2.24448140e+02,  2.23795246e+02,  2.23142353e+02,\n",
       "        2.22489459e+02,  2.21836565e+02,  2.21183671e+02,  2.20530777e+02,\n",
       "        2.19877883e+02,  2.19224989e+02,  2.18572095e+02,  2.17919201e+02,\n",
       "        2.17266307e+02,  2.16613413e+02,  2.15960519e+02,  2.15307625e+02,\n",
       "        2.14654731e+02,  2.14001837e+02,  2.13348943e+02,  2.12696049e+02,\n",
       "        2.12043156e+02,  2.11390262e+02,  2.10737368e+02,  2.10084474e+02,\n",
       "        2.09431580e+02,  2.08778686e+02,  2.08125792e+02,  2.07472898e+02,\n",
       "        2.06820004e+02,  2.06167110e+02,  2.05514216e+02,  2.04861322e+02,\n",
       "        2.04208428e+02,  2.03555534e+02,  2.02902640e+02,  2.02249746e+02,\n",
       "        2.01596852e+02,  2.00943958e+02,  2.00291065e+02,  1.99638171e+02,\n",
       "        1.98985277e+02,  1.98332383e+02,  1.97679489e+02,  1.97026595e+02,\n",
       "        1.96373701e+02,  1.95720807e+02,  1.95067913e+02,  1.94415019e+02,\n",
       "        1.93762125e+02,  1.93109231e+02,  1.92456337e+02,  1.91803443e+02,\n",
       "        1.91150549e+02,  1.90497655e+02,  1.89844761e+02,  1.89191867e+02,\n",
       "        1.88538974e+02,  1.87886080e+02,  1.87233186e+02,  1.86580292e+02,\n",
       "        1.85927398e+02,  1.85274504e+02,  1.84621610e+02,  1.83968716e+02,\n",
       "        1.83315822e+02,  1.82662928e+02,  1.82010034e+02,  1.81357140e+02,\n",
       "        1.80704246e+02,  1.80051352e+02,  1.79398458e+02,  1.78745564e+02,\n",
       "        1.78092670e+02,  1.77439777e+02,  1.76786883e+02,  1.76133989e+02,\n",
       "        1.75481095e+02,  1.74828201e+02,  1.74175307e+02,  1.73522413e+02,\n",
       "        1.72869519e+02,  1.72216625e+02,  1.71563731e+02,  1.70910837e+02,\n",
       "        1.70257943e+02,  1.69605049e+02,  1.68952155e+02,  1.68299261e+02,\n",
       "        1.67646367e+02,  1.66993473e+02,  1.66340579e+02,  1.65687686e+02,\n",
       "        1.65034792e+02,  1.64381898e+02,  1.63729004e+02,  1.63076110e+02,\n",
       "        1.62423216e+02,  1.61770322e+02,  1.61117428e+02,  1.60464534e+02,\n",
       "        1.59811640e+02,  1.59158746e+02,  1.58505852e+02,  1.57852958e+02,\n",
       "        1.57200064e+02,  1.56547170e+02,  1.55894276e+02,  1.55241382e+02,\n",
       "        1.54588488e+02,  1.53935595e+02,  1.53282701e+02,  1.52629807e+02,\n",
       "        1.51976913e+02,  1.51324019e+02,  1.50671125e+02,  1.50018231e+02,\n",
       "        1.49365337e+02,  1.48712443e+02,  1.48059549e+02,  1.47406655e+02,\n",
       "        1.46753761e+02,  1.46100867e+02,  1.45447973e+02,  1.44795079e+02,\n",
       "        1.44142185e+02,  1.43489291e+02,  1.42836397e+02,  1.42183504e+02,\n",
       "        1.41530610e+02,  1.40877716e+02,  1.40224822e+02,  1.39571928e+02,\n",
       "        1.38919034e+02,  1.38266140e+02,  1.37613246e+02,  1.36960352e+02,\n",
       "        1.36307458e+02,  1.35654564e+02,  1.35001670e+02,  1.34348776e+02,\n",
       "        1.33695882e+02,  1.33042988e+02,  1.32390094e+02,  1.31737200e+02,\n",
       "        1.31084307e+02,  1.30431413e+02,  1.29778519e+02,  1.29125625e+02,\n",
       "        1.28472731e+02,  1.27819837e+02,  1.27166943e+02,  1.26514049e+02,\n",
       "        1.25861155e+02,  1.25208261e+02,  1.24555367e+02,  1.23902473e+02,\n",
       "        1.23249579e+02,  1.22596685e+02,  1.21943791e+02,  1.21290897e+02,\n",
       "        1.20638003e+02,  1.19985109e+02,  1.19332216e+02,  1.18679322e+02,\n",
       "        1.18026428e+02,  1.17373534e+02,  1.16720640e+02,  1.16067746e+02,\n",
       "        1.15414852e+02,  1.14761958e+02,  1.14109064e+02,  1.13456170e+02,\n",
       "        1.12803276e+02,  1.12150382e+02,  1.11497488e+02,  1.10844594e+02,\n",
       "        1.10191700e+02,  1.09538806e+02,  1.08885912e+02,  1.08233018e+02,\n",
       "        1.07580125e+02,  1.06927231e+02,  1.06274337e+02,  1.05621443e+02,\n",
       "        1.04968549e+02,  1.04315655e+02,  1.03662761e+02,  1.03009867e+02,\n",
       "        1.02356973e+02,  1.01704079e+02,  1.01051185e+02,  1.00398291e+02,\n",
       "        9.97453972e+01,  9.90925033e+01,  9.84396093e+01,  9.77867154e+01,\n",
       "        9.71338214e+01,  9.64809275e+01,  9.58280336e+01,  9.51751396e+01,\n",
       "        9.45222457e+01,  9.38693517e+01,  9.32164578e+01,  9.25635638e+01,\n",
       "        9.19106699e+01,  9.12577760e+01,  9.06048820e+01,  8.99519881e+01,\n",
       "        8.92990941e+01,  8.86462002e+01,  8.79933062e+01,  8.73404123e+01,\n",
       "        8.66875183e+01,  8.60346244e+01,  8.53817305e+01,  8.47288365e+01,\n",
       "        8.40759426e+01,  8.34230486e+01,  8.27701547e+01,  8.21172607e+01,\n",
       "        8.14643668e+01,  8.08114729e+01,  8.01585789e+01,  7.95056850e+01,\n",
       "        7.88527910e+01,  7.81998971e+01,  7.75470031e+01,  7.68941092e+01,\n",
       "        7.62412152e+01,  7.55883213e+01,  7.49354274e+01,  7.42825334e+01,\n",
       "        7.36296395e+01,  7.29767455e+01,  7.23238516e+01,  7.16709576e+01,\n",
       "        7.10180637e+01,  7.03651698e+01,  6.97122758e+01,  6.90593819e+01,\n",
       "        6.84064879e+01,  6.77535940e+01,  6.71007000e+01,  6.64478061e+01,\n",
       "        6.57949122e+01,  6.51420182e+01,  6.44891243e+01,  6.38362303e+01,\n",
       "        6.31833364e+01,  6.25304424e+01,  6.18775485e+01,  6.12246545e+01,\n",
       "        6.05717606e+01,  5.99188667e+01,  5.92659727e+01,  5.86130788e+01,\n",
       "        5.79601848e+01,  5.73072909e+01,  5.66543969e+01,  5.60015030e+01,\n",
       "        5.53486091e+01,  5.46957151e+01,  5.40428212e+01,  5.33899272e+01,\n",
       "        5.27370333e+01,  5.20841393e+01,  5.14312454e+01,  5.07783514e+01,\n",
       "        5.01254575e+01,  4.94725636e+01,  4.88196696e+01,  4.81667757e+01,\n",
       "        4.75138817e+01,  4.68609878e+01,  4.62080938e+01,  4.55551999e+01,\n",
       "        4.49023060e+01,  4.42494120e+01,  4.35965181e+01,  4.29436241e+01,\n",
       "        4.22907302e+01,  4.16378362e+01,  4.09849423e+01,  4.03320484e+01,\n",
       "        3.96791544e+01,  3.90262605e+01,  3.83733665e+01,  3.77204726e+01,\n",
       "        3.70675786e+01,  3.64146847e+01,  3.57617907e+01,  3.51088968e+01,\n",
       "        3.44560029e+01,  3.38031089e+01,  3.31502150e+01,  3.24973210e+01,\n",
       "        3.18444271e+01,  3.11915331e+01,  3.05386392e+01,  2.98857453e+01,\n",
       "        2.92328513e+01,  2.85799574e+01,  2.79270634e+01,  2.72741695e+01,\n",
       "        2.66212755e+01,  2.59683816e+01,  2.53154877e+01,  2.46625937e+01,\n",
       "        2.40096998e+01,  2.33568058e+01,  2.27039119e+01,  2.20510179e+01,\n",
       "        2.13981240e+01,  2.07452300e+01,  2.00923361e+01,  1.94394422e+01,\n",
       "        1.87865482e+01,  1.81336543e+01,  1.74807603e+01,  1.68278664e+01,\n",
       "        1.61749724e+01,  1.55220785e+01,  1.48691846e+01,  1.42162906e+01,\n",
       "        1.35633967e+01,  1.29105027e+01,  1.22576088e+01,  1.16047148e+01,\n",
       "        1.09518209e+01,  1.02989269e+01,  9.64603300e+00,  8.99313906e+00,\n",
       "        8.34024512e+00,  7.68735117e+00,  7.03445723e+00,  6.38156329e+00,\n",
       "        5.72866934e+00,  5.07577540e+00,  4.42288146e+00,  3.76998751e+00,\n",
       "        3.11709357e+00,  2.46419963e+00,  1.81130568e+00,  1.15841174e+00,\n",
       "        5.05517795e-01, -1.47376149e-01, -8.00270092e-01, -1.45316404e+00,\n",
       "       -2.10605798e+00, -2.75895192e+00, -3.41184587e+00, -4.06473981e+00,\n",
       "       -4.71763375e+00, -5.37052770e+00, -6.02342164e+00, -6.67631558e+00,\n",
       "       -7.32920953e+00, -7.98210347e+00, -8.63499742e+00, -9.28789136e+00,\n",
       "       -9.94078530e+00, -1.05936792e+01, -1.12465732e+01, -1.18994671e+01,\n",
       "       -1.25523611e+01, -1.32052550e+01, -1.38581490e+01, -1.45110429e+01,\n",
       "       -1.51639369e+01, -1.58168308e+01, -1.64697247e+01, -1.71226187e+01,\n",
       "       -1.77755126e+01, -1.84284066e+01, -1.90813005e+01, -1.97341945e+01,\n",
       "       -2.03870884e+01, -2.10399823e+01, -2.16928763e+01, -2.23457702e+01,\n",
       "       -2.29986642e+01, -2.36515581e+01, -2.43044521e+01, -2.49573460e+01,\n",
       "       -2.56102399e+01, -2.62631339e+01, -2.69160278e+01, -2.75689218e+01,\n",
       "       -2.82218157e+01, -2.88747097e+01, -2.95276036e+01, -3.01804976e+01,\n",
       "       -3.08333915e+01, -3.14862854e+01, -3.21391794e+01, -3.27920733e+01,\n",
       "       -3.34449673e+01, -3.40978612e+01, -3.47507552e+01, -3.54036491e+01,\n",
       "       -3.60565430e+01, -3.67094370e+01, -3.73623309e+01, -3.80152249e+01,\n",
       "       -3.86681188e+01, -3.93210128e+01, -3.99739067e+01, -4.06268007e+01,\n",
       "       -4.12796946e+01, -4.19325885e+01, -4.25854825e+01, -4.32383764e+01,\n",
       "       -4.38912704e+01, -4.45441643e+01, -4.51970583e+01, -4.58499522e+01,\n",
       "       -4.65028461e+01, -4.71557401e+01, -4.78086340e+01, -4.84615280e+01,\n",
       "       -4.91144219e+01, -4.97673159e+01, -5.04202098e+01, -5.10731037e+01,\n",
       "       -5.17259977e+01, -5.23788916e+01, -5.30317856e+01, -5.36846795e+01,\n",
       "       -5.43375735e+01, -5.49904674e+01, -5.56433614e+01, -5.62962553e+01,\n",
       "       -5.69491492e+01, -5.76020432e+01, -5.82549371e+01, -5.89078311e+01,\n",
       "       -5.95607250e+01, -6.02136190e+01, -6.08665129e+01, -6.15194068e+01,\n",
       "       -6.21723008e+01, -6.28251947e+01, -6.34780887e+01, -6.41309826e+01,\n",
       "       -6.47838766e+01, -6.54367705e+01, -6.60896644e+01, -6.67425584e+01,\n",
       "       -6.73954523e+01, -6.80483463e+01, -6.87012402e+01, -6.93541342e+01,\n",
       "       -7.00070281e+01, -7.06599221e+01, -7.13128160e+01, -7.19657099e+01,\n",
       "       -7.26186039e+01, -7.32714978e+01, -7.39243918e+01, -7.45772857e+01,\n",
       "       -7.52301797e+01, -7.58830736e+01, -7.65359675e+01, -7.71888615e+01,\n",
       "       -7.78417554e+01, -7.84946494e+01, -7.91475433e+01, -7.98004373e+01,\n",
       "       -8.04533312e+01, -8.11062252e+01, -8.17591191e+01, -8.24120130e+01,\n",
       "       -8.30649070e+01, -8.37178009e+01, -8.43706949e+01, -8.50235888e+01,\n",
       "       -8.56764828e+01, -8.63293767e+01, -8.69822706e+01, -8.76351646e+01,\n",
       "       -8.82880585e+01, -8.89409525e+01, -8.95938464e+01, -9.02467404e+01,\n",
       "       -9.08996343e+01, -9.15525282e+01, -9.22054222e+01, -9.28583161e+01,\n",
       "       -9.35112101e+01, -9.41641040e+01, -9.48169980e+01, -9.54698919e+01,\n",
       "       -9.61227859e+01, -9.67756798e+01, -9.74285737e+01, -9.80814677e+01])"
      ]
     },
     "execution_count": 36,
     "metadata": {},
     "output_type": "execute_result"
    }
   ],
   "source": [
    "predictions = model_arima_fit.forecast(steps=1000)[0]\n",
    "predictions"
   ]
  },
  {
   "cell_type": "code",
   "execution_count": 37,
   "metadata": {},
   "outputs": [
    {
     "data": {
      "text/plain": [
       "Text(0, 0.5, 'Weekly Sales')"
      ]
     },
     "execution_count": 37,
     "metadata": {},
     "output_type": "execute_result"
    },
    {
     "data": {
      "image/png": "[encoded data removed]",
      "text/plain": [
       "<Figure size 432x288 with 1 Axes>"
      ]
     },
     "metadata": {
      "needs_background": "light"
     },
     "output_type": "display_data"
    }
   ],
   "source": [
    "plt.plot(test, label=\"Actual data\")\n",
    "plt.plot(predictions, color='red', label=\"Predictions\")\n",
    "plt.legend()\n",
    "plt.title(\"ARIMA Type B\")\n",
    "plt.ylabel('Weekly Sales')"
   ]
  },
  {
   "cell_type": "code",
   "execution_count": 38,
   "metadata": {},
   "outputs": [
    {
     "data": {
      "text/plain": [
       "65106788.00490624"
      ]
     },
     "execution_count": 38,
     "metadata": {},
     "output_type": "execute_result"
    }
   ],
   "source": [
    "mean_squared_error(test,predictions)"
   ]
  },
  {
   "cell_type": "code",
   "execution_count": null,
   "metadata": {},
   "outputs": [],
   "source": []
  }
 ],
 "metadata": {
  "kernelspec": {
   "display_name": "Python 3",
   "language": "python",
   "name": "python3"
  },
  "language_info": {
   "codemirror_mode": {
    "name": "ipython",
    "version": 3
   },
   "file_extension": ".py",
   "mimetype": "text/x-python",
   "name": "python",
   "nbconvert_exporter": "python",
   "pygments_lexer": "ipython3",
   "version": "3.8.5"
  }
 },
 "nbformat": 4,
 "nbformat_minor": 4
}
