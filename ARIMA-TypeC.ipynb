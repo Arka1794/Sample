{
 "cells": [
  {
   "cell_type": "code",
   "execution_count": 1,
   "metadata": {},
   "outputs": [],
   "source": [
    "#reading the files\n",
    "import pandas as pd\n",
    "import matplotlib.pyplot as plt\n",
    "%matplotlib inline"
   ]
  },
  {
   "cell_type": "code",
   "execution_count": 2,
   "metadata": {},
   "outputs": [],
   "source": [
    "features = pd.read_csv(\"Features data set.csv\")\n",
    "sales = pd.read_csv(\"sales data-set.csv\")\n",
    "stores = pd.read_csv(\"stores data-set.csv\")"
   ]
  },
  {
   "cell_type": "code",
   "execution_count": 3,
   "metadata": {},
   "outputs": [],
   "source": [
    "data = pd.merge(sales , features, on = ['Store','Date', 'IsHoliday'] , how = 'left')\n",
    "data = pd.merge(data , stores , on = ['Store'] , how = 'left')"
   ]
  },
  {
   "cell_type": "code",
   "execution_count": 4,
   "metadata": {},
   "outputs": [
    {
     "data": {
      "text/html": [
       "<div>\n",
       "<style scoped>\n",
       "    .dataframe tbody tr th:only-of-type {\n",
       "        vertical-align: middle;\n",
       "    }\n",
       "\n",
       "    .dataframe tbody tr th {\n",
       "        vertical-align: top;\n",
       "    }\n",
       "\n",
       "    .dataframe thead th {\n",
       "        text-align: right;\n",
       "    }\n",
       "</style>\n",
       "<table border=\"1\" class=\"dataframe\">\n",
       "  <thead>\n",
       "    <tr style=\"text-align: right;\">\n",
       "      <th></th>\n",
       "      <th>Store</th>\n",
       "      <th>Dept</th>\n",
       "      <th>Date</th>\n",
       "      <th>Weekly_Sales</th>\n",
       "      <th>IsHoliday</th>\n",
       "      <th>Temperature</th>\n",
       "      <th>Fuel_Price</th>\n",
       "      <th>MarkDown1</th>\n",
       "      <th>MarkDown2</th>\n",
       "      <th>MarkDown3</th>\n",
       "      <th>MarkDown4</th>\n",
       "      <th>MarkDown5</th>\n",
       "      <th>CPI</th>\n",
       "      <th>Unemployment</th>\n",
       "      <th>Type</th>\n",
       "      <th>Size</th>\n",
       "    </tr>\n",
       "  </thead>\n",
       "  <tbody>\n",
       "    <tr>\n",
       "      <th>0</th>\n",
       "      <td>1</td>\n",
       "      <td>1</td>\n",
       "      <td>05/02/2010</td>\n",
       "      <td>24924.50</td>\n",
       "      <td>False</td>\n",
       "      <td>42.31</td>\n",
       "      <td>2.572</td>\n",
       "      <td>NaN</td>\n",
       "      <td>NaN</td>\n",
       "      <td>NaN</td>\n",
       "      <td>NaN</td>\n",
       "      <td>NaN</td>\n",
       "      <td>211.096358</td>\n",
       "      <td>8.106</td>\n",
       "      <td>A</td>\n",
       "      <td>151315</td>\n",
       "    </tr>\n",
       "    <tr>\n",
       "      <th>1</th>\n",
       "      <td>1</td>\n",
       "      <td>1</td>\n",
       "      <td>12/02/2010</td>\n",
       "      <td>46039.49</td>\n",
       "      <td>True</td>\n",
       "      <td>38.51</td>\n",
       "      <td>2.548</td>\n",
       "      <td>NaN</td>\n",
       "      <td>NaN</td>\n",
       "      <td>NaN</td>\n",
       "      <td>NaN</td>\n",
       "      <td>NaN</td>\n",
       "      <td>211.242170</td>\n",
       "      <td>8.106</td>\n",
       "      <td>A</td>\n",
       "      <td>151315</td>\n",
       "    </tr>\n",
       "    <tr>\n",
       "      <th>2</th>\n",
       "      <td>1</td>\n",
       "      <td>1</td>\n",
       "      <td>19/02/2010</td>\n",
       "      <td>41595.55</td>\n",
       "      <td>False</td>\n",
       "      <td>39.93</td>\n",
       "      <td>2.514</td>\n",
       "      <td>NaN</td>\n",
       "      <td>NaN</td>\n",
       "      <td>NaN</td>\n",
       "      <td>NaN</td>\n",
       "      <td>NaN</td>\n",
       "      <td>211.289143</td>\n",
       "      <td>8.106</td>\n",
       "      <td>A</td>\n",
       "      <td>151315</td>\n",
       "    </tr>\n",
       "    <tr>\n",
       "      <th>3</th>\n",
       "      <td>1</td>\n",
       "      <td>1</td>\n",
       "      <td>26/02/2010</td>\n",
       "      <td>19403.54</td>\n",
       "      <td>False</td>\n",
       "      <td>46.63</td>\n",
       "      <td>2.561</td>\n",
       "      <td>NaN</td>\n",
       "      <td>NaN</td>\n",
       "      <td>NaN</td>\n",
       "      <td>NaN</td>\n",
       "      <td>NaN</td>\n",
       "      <td>211.319643</td>\n",
       "      <td>8.106</td>\n",
       "      <td>A</td>\n",
       "      <td>151315</td>\n",
       "    </tr>\n",
       "    <tr>\n",
       "      <th>4</th>\n",
       "      <td>1</td>\n",
       "      <td>1</td>\n",
       "      <td>05/03/2010</td>\n",
       "      <td>21827.90</td>\n",
       "      <td>False</td>\n",
       "      <td>46.50</td>\n",
       "      <td>2.625</td>\n",
       "      <td>NaN</td>\n",
       "      <td>NaN</td>\n",
       "      <td>NaN</td>\n",
       "      <td>NaN</td>\n",
       "      <td>NaN</td>\n",
       "      <td>211.350143</td>\n",
       "      <td>8.106</td>\n",
       "      <td>A</td>\n",
       "      <td>151315</td>\n",
       "    </tr>\n",
       "  </tbody>\n",
       "</table>\n",
       "</div>"
      ],
      "text/plain": [
       "   Store  Dept        Date  Weekly_Sales  IsHoliday  Temperature  Fuel_Price  \\\n",
       "0      1     1  05/02/2010      24924.50      False        42.31       2.572   \n",
       "1      1     1  12/02/2010      46039.49       True        38.51       2.548   \n",
       "2      1     1  19/02/2010      41595.55      False        39.93       2.514   \n",
       "3      1     1  26/02/2010      19403.54      False        46.63       2.561   \n",
       "4      1     1  05/03/2010      21827.90      False        46.50       2.625   \n",
       "\n",
       "   MarkDown1  MarkDown2  MarkDown3  MarkDown4  MarkDown5         CPI  \\\n",
       "0        NaN        NaN        NaN        NaN        NaN  211.096358   \n",
       "1        NaN        NaN        NaN        NaN        NaN  211.242170   \n",
       "2        NaN        NaN        NaN        NaN        NaN  211.289143   \n",
       "3        NaN        NaN        NaN        NaN        NaN  211.319643   \n",
       "4        NaN        NaN        NaN        NaN        NaN  211.350143   \n",
       "\n",
       "   Unemployment Type    Size  \n",
       "0         8.106    A  151315  \n",
       "1         8.106    A  151315  \n",
       "2         8.106    A  151315  \n",
       "3         8.106    A  151315  \n",
       "4         8.106    A  151315  "
      ]
     },
     "execution_count": 4,
     "metadata": {},
     "output_type": "execute_result"
    }
   ],
   "source": [
    "data.head()"
   ]
  },
  {
   "cell_type": "code",
   "execution_count": 5,
   "metadata": {},
   "outputs": [],
   "source": [
    "#from dplython import (DplyFrame, X, diamonds, select, sift, sample_n,\n",
    "   # sample_frac, head, arrange, mutate, group_by, summarize, DelayFunction)"
   ]
  },
  {
   "cell_type": "code",
   "execution_count": 6,
   "metadata": {},
   "outputs": [],
   "source": [
    "#dividing into hierarchies\n",
    "Type_C= data[data[\"Type\"]=='C']"
   ]
  },
  {
   "cell_type": "code",
   "execution_count": 7,
   "metadata": {},
   "outputs": [
    {
     "data": {
      "text/html": [
       "<div>\n",
       "<style scoped>\n",
       "    .dataframe tbody tr th:only-of-type {\n",
       "        vertical-align: middle;\n",
       "    }\n",
       "\n",
       "    .dataframe tbody tr th {\n",
       "        vertical-align: top;\n",
       "    }\n",
       "\n",
       "    .dataframe thead th {\n",
       "        text-align: right;\n",
       "    }\n",
       "</style>\n",
       "<table border=\"1\" class=\"dataframe\">\n",
       "  <thead>\n",
       "    <tr style=\"text-align: right;\">\n",
       "      <th></th>\n",
       "      <th>Store</th>\n",
       "      <th>Dept</th>\n",
       "      <th>Date</th>\n",
       "      <th>Weekly_Sales</th>\n",
       "      <th>IsHoliday</th>\n",
       "      <th>Temperature</th>\n",
       "      <th>Fuel_Price</th>\n",
       "      <th>MarkDown1</th>\n",
       "      <th>MarkDown2</th>\n",
       "      <th>MarkDown3</th>\n",
       "      <th>MarkDown4</th>\n",
       "      <th>MarkDown5</th>\n",
       "      <th>CPI</th>\n",
       "      <th>Unemployment</th>\n",
       "      <th>Type</th>\n",
       "      <th>Size</th>\n",
       "    </tr>\n",
       "  </thead>\n",
       "  <tbody>\n",
       "    <tr>\n",
       "      <th>286548</th>\n",
       "      <td>30</td>\n",
       "      <td>1</td>\n",
       "      <td>05/02/2010</td>\n",
       "      <td>10158.77</td>\n",
       "      <td>False</td>\n",
       "      <td>39.05</td>\n",
       "      <td>2.572</td>\n",
       "      <td>NaN</td>\n",
       "      <td>NaN</td>\n",
       "      <td>NaN</td>\n",
       "      <td>NaN</td>\n",
       "      <td>NaN</td>\n",
       "      <td>210.752605</td>\n",
       "      <td>8.324</td>\n",
       "      <td>C</td>\n",
       "      <td>42988</td>\n",
       "    </tr>\n",
       "    <tr>\n",
       "      <th>286549</th>\n",
       "      <td>30</td>\n",
       "      <td>1</td>\n",
       "      <td>12/02/2010</td>\n",
       "      <td>14346.05</td>\n",
       "      <td>True</td>\n",
       "      <td>37.77</td>\n",
       "      <td>2.548</td>\n",
       "      <td>NaN</td>\n",
       "      <td>NaN</td>\n",
       "      <td>NaN</td>\n",
       "      <td>NaN</td>\n",
       "      <td>NaN</td>\n",
       "      <td>210.897994</td>\n",
       "      <td>8.324</td>\n",
       "      <td>C</td>\n",
       "      <td>42988</td>\n",
       "    </tr>\n",
       "    <tr>\n",
       "      <th>286550</th>\n",
       "      <td>30</td>\n",
       "      <td>1</td>\n",
       "      <td>19/02/2010</td>\n",
       "      <td>12321.18</td>\n",
       "      <td>False</td>\n",
       "      <td>39.75</td>\n",
       "      <td>2.514</td>\n",
       "      <td>NaN</td>\n",
       "      <td>NaN</td>\n",
       "      <td>NaN</td>\n",
       "      <td>NaN</td>\n",
       "      <td>NaN</td>\n",
       "      <td>210.945160</td>\n",
       "      <td>8.324</td>\n",
       "      <td>C</td>\n",
       "      <td>42988</td>\n",
       "    </tr>\n",
       "    <tr>\n",
       "      <th>286551</th>\n",
       "      <td>30</td>\n",
       "      <td>1</td>\n",
       "      <td>26/02/2010</td>\n",
       "      <td>10099.28</td>\n",
       "      <td>False</td>\n",
       "      <td>45.31</td>\n",
       "      <td>2.561</td>\n",
       "      <td>NaN</td>\n",
       "      <td>NaN</td>\n",
       "      <td>NaN</td>\n",
       "      <td>NaN</td>\n",
       "      <td>NaN</td>\n",
       "      <td>210.975957</td>\n",
       "      <td>8.324</td>\n",
       "      <td>C</td>\n",
       "      <td>42988</td>\n",
       "    </tr>\n",
       "    <tr>\n",
       "      <th>286552</th>\n",
       "      <td>30</td>\n",
       "      <td>1</td>\n",
       "      <td>05/03/2010</td>\n",
       "      <td>9719.90</td>\n",
       "      <td>False</td>\n",
       "      <td>48.61</td>\n",
       "      <td>2.625</td>\n",
       "      <td>NaN</td>\n",
       "      <td>NaN</td>\n",
       "      <td>NaN</td>\n",
       "      <td>NaN</td>\n",
       "      <td>NaN</td>\n",
       "      <td>211.006754</td>\n",
       "      <td>8.324</td>\n",
       "      <td>C</td>\n",
       "      <td>42988</td>\n",
       "    </tr>\n",
       "  </tbody>\n",
       "</table>\n",
       "</div>"
      ],
      "text/plain": [
       "        Store  Dept        Date  Weekly_Sales  IsHoliday  Temperature  \\\n",
       "286548     30     1  05/02/2010      10158.77      False        39.05   \n",
       "286549     30     1  12/02/2010      14346.05       True        37.77   \n",
       "286550     30     1  19/02/2010      12321.18      False        39.75   \n",
       "286551     30     1  26/02/2010      10099.28      False        45.31   \n",
       "286552     30     1  05/03/2010       9719.90      False        48.61   \n",
       "\n",
       "        Fuel_Price  MarkDown1  MarkDown2  MarkDown3  MarkDown4  MarkDown5  \\\n",
       "286548       2.572        NaN        NaN        NaN        NaN        NaN   \n",
       "286549       2.548        NaN        NaN        NaN        NaN        NaN   \n",
       "286550       2.514        NaN        NaN        NaN        NaN        NaN   \n",
       "286551       2.561        NaN        NaN        NaN        NaN        NaN   \n",
       "286552       2.625        NaN        NaN        NaN        NaN        NaN   \n",
       "\n",
       "               CPI  Unemployment Type   Size  \n",
       "286548  210.752605         8.324    C  42988  \n",
       "286549  210.897994         8.324    C  42988  \n",
       "286550  210.945160         8.324    C  42988  \n",
       "286551  210.975957         8.324    C  42988  \n",
       "286552  211.006754         8.324    C  42988  "
      ]
     },
     "execution_count": 7,
     "metadata": {},
     "output_type": "execute_result"
    }
   ],
   "source": [
    "Type_C.head()"
   ]
  },
  {
   "cell_type": "code",
   "execution_count": 8,
   "metadata": {},
   "outputs": [
    {
     "data": {
      "text/plain": [
       "array([30, 37, 38, 42, 43, 44])"
      ]
     },
     "execution_count": 8,
     "metadata": {},
     "output_type": "execute_result"
    }
   ],
   "source": [
    "Type_C.Store.unique()"
   ]
  },
  {
   "cell_type": "code",
   "execution_count": 9,
   "metadata": {},
   "outputs": [
    {
     "data": {
      "text/html": [
       "<div>\n",
       "<style scoped>\n",
       "    .dataframe tbody tr th:only-of-type {\n",
       "        vertical-align: middle;\n",
       "    }\n",
       "\n",
       "    .dataframe tbody tr th {\n",
       "        vertical-align: top;\n",
       "    }\n",
       "\n",
       "    .dataframe thead th {\n",
       "        text-align: right;\n",
       "    }\n",
       "</style>\n",
       "<table border=\"1\" class=\"dataframe\">\n",
       "  <thead>\n",
       "    <tr style=\"text-align: right;\">\n",
       "      <th></th>\n",
       "      <th>Date</th>\n",
       "      <th>Weekly_Sales</th>\n",
       "    </tr>\n",
       "  </thead>\n",
       "  <tbody>\n",
       "    <tr>\n",
       "      <th>286548</th>\n",
       "      <td>05/02/2010</td>\n",
       "      <td>10158.77</td>\n",
       "    </tr>\n",
       "    <tr>\n",
       "      <th>286549</th>\n",
       "      <td>12/02/2010</td>\n",
       "      <td>14346.05</td>\n",
       "    </tr>\n",
       "    <tr>\n",
       "      <th>286550</th>\n",
       "      <td>19/02/2010</td>\n",
       "      <td>12321.18</td>\n",
       "    </tr>\n",
       "    <tr>\n",
       "      <th>286551</th>\n",
       "      <td>26/02/2010</td>\n",
       "      <td>10099.28</td>\n",
       "    </tr>\n",
       "    <tr>\n",
       "      <th>286552</th>\n",
       "      <td>05/03/2010</td>\n",
       "      <td>9719.90</td>\n",
       "    </tr>\n",
       "  </tbody>\n",
       "</table>\n",
       "</div>"
      ],
      "text/plain": [
       "              Date  Weekly_Sales\n",
       "286548  05/02/2010      10158.77\n",
       "286549  12/02/2010      14346.05\n",
       "286550  19/02/2010      12321.18\n",
       "286551  26/02/2010      10099.28\n",
       "286552  05/03/2010       9719.90"
      ]
     },
     "execution_count": 9,
     "metadata": {},
     "output_type": "execute_result"
    }
   ],
   "source": [
    "#Type C\n",
    "Type_C1=Type_C.drop([\"Dept\",\"Store\",\"IsHoliday\",\"Temperature\",\"Fuel_Price\",\"MarkDown1\",\"MarkDown2\",\"MarkDown3\",\"MarkDown4\",\"MarkDown5\",\"CPI\",\"Unemployment\",\"Size\",\"Type\",],axis=1)\n",
    "Type_C1.head()"
   ]
  },
  {
   "cell_type": "code",
   "execution_count": 10,
   "metadata": {},
   "outputs": [],
   "source": [
    "export_csv = Type_C1.to_csv (r'data_newC.csv', index = None, header=True)"
   ]
  },
  {
   "cell_type": "code",
   "execution_count": 11,
   "metadata": {},
   "outputs": [
    {
     "data": {
      "text/html": [
       "<div>\n",
       "<style scoped>\n",
       "    .dataframe tbody tr th:only-of-type {\n",
       "        vertical-align: middle;\n",
       "    }\n",
       "\n",
       "    .dataframe tbody tr th {\n",
       "        vertical-align: top;\n",
       "    }\n",
       "\n",
       "    .dataframe thead th {\n",
       "        text-align: right;\n",
       "    }\n",
       "</style>\n",
       "<table border=\"1\" class=\"dataframe\">\n",
       "  <thead>\n",
       "    <tr style=\"text-align: right;\">\n",
       "      <th></th>\n",
       "      <th>Weekly_Sales</th>\n",
       "    </tr>\n",
       "    <tr>\n",
       "      <th>Date</th>\n",
       "      <th></th>\n",
       "    </tr>\n",
       "  </thead>\n",
       "  <tbody>\n",
       "    <tr>\n",
       "      <th>2010-05-02</th>\n",
       "      <td>10158.77</td>\n",
       "    </tr>\n",
       "    <tr>\n",
       "      <th>2010-12-02</th>\n",
       "      <td>14346.05</td>\n",
       "    </tr>\n",
       "    <tr>\n",
       "      <th>2010-02-19</th>\n",
       "      <td>12321.18</td>\n",
       "    </tr>\n",
       "    <tr>\n",
       "      <th>2010-02-26</th>\n",
       "      <td>10099.28</td>\n",
       "    </tr>\n",
       "    <tr>\n",
       "      <th>2010-05-03</th>\n",
       "      <td>9719.90</td>\n",
       "    </tr>\n",
       "  </tbody>\n",
       "</table>\n",
       "</div>"
      ],
      "text/plain": [
       "            Weekly_Sales\n",
       "Date                    \n",
       "2010-05-02      10158.77\n",
       "2010-12-02      14346.05\n",
       "2010-02-19      12321.18\n",
       "2010-02-26      10099.28\n",
       "2010-05-03       9719.90"
      ]
     },
     "execution_count": 11,
     "metadata": {},
     "output_type": "execute_result"
    }
   ],
   "source": [
    "# importing the data again\n",
    "F_TypeC = pd.read_csv(\"data_newC.csv\",index_col = [0], parse_dates = [0])\n",
    "F_TypeC.head()"
   ]
  },
  {
   "cell_type": "code",
   "execution_count": 12,
   "metadata": {},
   "outputs": [
    {
     "data": {
      "text/plain": [
       "pandas.core.frame.DataFrame"
      ]
     },
     "execution_count": 12,
     "metadata": {},
     "output_type": "execute_result"
    }
   ],
   "source": [
    "type(F_TypeC)"
   ]
  },
  {
   "cell_type": "code",
   "execution_count": 13,
   "metadata": {},
   "outputs": [
    {
     "data": {
      "text/plain": [
       "42597"
      ]
     },
     "execution_count": 13,
     "metadata": {},
     "output_type": "execute_result"
    }
   ],
   "source": [
    "F_TypeC.size"
   ]
  },
  {
   "cell_type": "code",
   "execution_count": 14,
   "metadata": {},
   "outputs": [],
   "source": [
    "F_TypeC = F_TypeC[0:10000]"
   ]
  },
  {
   "cell_type": "code",
   "execution_count": 15,
   "metadata": {},
   "outputs": [],
   "source": [
    "series_value = F_TypeC.values"
   ]
  },
  {
   "cell_type": "code",
   "execution_count": 16,
   "metadata": {},
   "outputs": [
    {
     "data": {
      "text/plain": [
       "array([[10158.77],\n",
       "       [14346.05],\n",
       "       [12321.18],\n",
       "       ...,\n",
       "       [  114.21],\n",
       "       [   66.3 ],\n",
       "       [   59.48]])"
      ]
     },
     "execution_count": 16,
     "metadata": {},
     "output_type": "execute_result"
    }
   ],
   "source": [
    "series_value"
   ]
  },
  {
   "cell_type": "code",
   "execution_count": 17,
   "metadata": {},
   "outputs": [
    {
     "data": {
      "text/plain": [
       "numpy.ndarray"
      ]
     },
     "execution_count": 17,
     "metadata": {},
     "output_type": "execute_result"
    }
   ],
   "source": [
    "type(series_value)"
   ]
  },
  {
   "cell_type": "code",
   "execution_count": 18,
   "metadata": {},
   "outputs": [
    {
     "data": {
      "text/plain": [
       "10000"
      ]
     },
     "execution_count": 18,
     "metadata": {},
     "output_type": "execute_result"
    }
   ],
   "source": [
    "F_TypeC.size"
   ]
  },
  {
   "cell_type": "code",
   "execution_count": 19,
   "metadata": {},
   "outputs": [
    {
     "data": {
      "text/html": [
       "<div>\n",
       "<style scoped>\n",
       "    .dataframe tbody tr th:only-of-type {\n",
       "        vertical-align: middle;\n",
       "    }\n",
       "\n",
       "    .dataframe tbody tr th {\n",
       "        vertical-align: top;\n",
       "    }\n",
       "\n",
       "    .dataframe thead th {\n",
       "        text-align: right;\n",
       "    }\n",
       "</style>\n",
       "<table border=\"1\" class=\"dataframe\">\n",
       "  <thead>\n",
       "    <tr style=\"text-align: right;\">\n",
       "      <th></th>\n",
       "      <th>Weekly_Sales</th>\n",
       "    </tr>\n",
       "    <tr>\n",
       "      <th>Date</th>\n",
       "      <th></th>\n",
       "    </tr>\n",
       "  </thead>\n",
       "  <tbody>\n",
       "    <tr>\n",
       "      <th>2012-06-07</th>\n",
       "      <td>137.71</td>\n",
       "    </tr>\n",
       "    <tr>\n",
       "      <th>2012-07-13</th>\n",
       "      <td>90.40</td>\n",
       "    </tr>\n",
       "    <tr>\n",
       "      <th>2012-07-20</th>\n",
       "      <td>114.21</td>\n",
       "    </tr>\n",
       "    <tr>\n",
       "      <th>2012-07-27</th>\n",
       "      <td>66.30</td>\n",
       "    </tr>\n",
       "    <tr>\n",
       "      <th>2012-03-08</th>\n",
       "      <td>59.48</td>\n",
       "    </tr>\n",
       "  </tbody>\n",
       "</table>\n",
       "</div>"
      ],
      "text/plain": [
       "            Weekly_Sales\n",
       "Date                    \n",
       "2012-06-07        137.71\n",
       "2012-07-13         90.40\n",
       "2012-07-20        114.21\n",
       "2012-07-27         66.30\n",
       "2012-03-08         59.48"
      ]
     },
     "execution_count": 19,
     "metadata": {},
     "output_type": "execute_result"
    }
   ],
   "source": [
    "F_TypeC.tail()"
   ]
  },
  {
   "cell_type": "code",
   "execution_count": 20,
   "metadata": {},
   "outputs": [
    {
     "data": {
      "text/html": [
       "<div>\n",
       "<style scoped>\n",
       "    .dataframe tbody tr th:only-of-type {\n",
       "        vertical-align: middle;\n",
       "    }\n",
       "\n",
       "    .dataframe tbody tr th {\n",
       "        vertical-align: top;\n",
       "    }\n",
       "\n",
       "    .dataframe thead th {\n",
       "        text-align: right;\n",
       "    }\n",
       "</style>\n",
       "<table border=\"1\" class=\"dataframe\">\n",
       "  <thead>\n",
       "    <tr style=\"text-align: right;\">\n",
       "      <th></th>\n",
       "      <th>Weekly_Sales</th>\n",
       "    </tr>\n",
       "  </thead>\n",
       "  <tbody>\n",
       "    <tr>\n",
       "      <th>count</th>\n",
       "      <td>10000.000000</td>\n",
       "    </tr>\n",
       "    <tr>\n",
       "      <th>mean</th>\n",
       "      <td>7560.962646</td>\n",
       "    </tr>\n",
       "    <tr>\n",
       "      <th>std</th>\n",
       "      <td>12795.259278</td>\n",
       "    </tr>\n",
       "    <tr>\n",
       "      <th>min</th>\n",
       "      <td>-26.610000</td>\n",
       "    </tr>\n",
       "    <tr>\n",
       "      <th>25%</th>\n",
       "      <td>117.605000</td>\n",
       "    </tr>\n",
       "    <tr>\n",
       "      <th>50%</th>\n",
       "      <td>1099.410000</td>\n",
       "    </tr>\n",
       "    <tr>\n",
       "      <th>75%</th>\n",
       "      <td>11740.062500</td>\n",
       "    </tr>\n",
       "    <tr>\n",
       "      <th>max</th>\n",
       "      <td>80457.010000</td>\n",
       "    </tr>\n",
       "  </tbody>\n",
       "</table>\n",
       "</div>"
      ],
      "text/plain": [
       "       Weekly_Sales\n",
       "count  10000.000000\n",
       "mean    7560.962646\n",
       "std    12795.259278\n",
       "min      -26.610000\n",
       "25%      117.605000\n",
       "50%     1099.410000\n",
       "75%    11740.062500\n",
       "max    80457.010000"
      ]
     },
     "execution_count": 20,
     "metadata": {},
     "output_type": "execute_result"
    }
   ],
   "source": [
    "F_TypeC.describe()"
   ]
  },
  {
   "cell_type": "code",
   "execution_count": 21,
   "metadata": {},
   "outputs": [
    {
     "data": {
      "text/plain": [
       "<bound method DataFrame.info of             Weekly_Sales\n",
       "Date                    \n",
       "2010-05-02      10158.77\n",
       "2010-12-02      14346.05\n",
       "2010-02-19      12321.18\n",
       "2010-02-26      10099.28\n",
       "2010-05-03       9719.90\n",
       "...                  ...\n",
       "2012-06-07        137.71\n",
       "2012-07-13         90.40\n",
       "2012-07-20        114.21\n",
       "2012-07-27         66.30\n",
       "2012-03-08         59.48\n",
       "\n",
       "[10000 rows x 1 columns]>"
      ]
     },
     "execution_count": 21,
     "metadata": {},
     "output_type": "execute_result"
    }
   ],
   "source": [
    "F_TypeC.info"
   ]
  },
  {
   "cell_type": "code",
   "execution_count": 22,
   "metadata": {},
   "outputs": [
    {
     "data": {
      "text/plain": [
       "<matplotlib.axes._subplots.AxesSubplot at 0x11cbd8750>"
      ]
     },
     "execution_count": 22,
     "metadata": {},
     "output_type": "execute_result"
    },
    {
     "data": {
      "image/png": "[encoded data removed]",
      "text/plain": [
       "<Figure size 432x288 with 1 Axes>"
      ]
     },
     "metadata": {
      "needs_background": "light"
     },
     "output_type": "display_data"
    }
   ],
   "source": [
    "F_TypeC.plot()"
   ]
  },
  {
   "cell_type": "code",
   "execution_count": 23,
   "metadata": {},
   "outputs": [],
   "source": [
    "F_TypeC_mean = F_TypeC.rolling(window = 10).mean()"
   ]
  },
  {
   "cell_type": "code",
   "execution_count": 24,
   "metadata": {},
   "outputs": [],
   "source": [
    "from statsmodels.graphics.tsaplots import plot_acf"
   ]
  },
  {
   "cell_type": "code",
   "execution_count": 25,
   "metadata": {},
   "outputs": [
    {
     "data": {
      "image/png": "[encoded data removed]",
      "text/plain": [
       "<Figure size 432x288 with 1 Axes>"
      ]
     },
     "execution_count": 25,
     "metadata": {},
     "output_type": "execute_result"
    },
    {
     "data": {
      "image/png": "[encoded data removed]",
      "text/plain": [
       "<Figure size 432x288 with 1 Axes>"
      ]
     },
     "metadata": {
      "needs_background": "light"
     },
     "output_type": "display_data"
    }
   ],
   "source": [
    "plot_acf(F_TypeC)"
   ]
  },
  {
   "cell_type": "markdown",
   "metadata": {},
   "source": [
    "means mean, variance & covariance is constant over period of time"
   ]
  },
  {
   "cell_type": "markdown",
   "metadata": {},
   "source": [
    "## Converting series to stationary"
   ]
  },
  {
   "cell_type": "code",
   "execution_count": 27,
   "metadata": {},
   "outputs": [
    {
     "data": {
      "text/html": [
       "<div>\n",
       "<style scoped>\n",
       "    .dataframe tbody tr th:only-of-type {\n",
       "        vertical-align: middle;\n",
       "    }\n",
       "\n",
       "    .dataframe tbody tr th {\n",
       "        vertical-align: top;\n",
       "    }\n",
       "\n",
       "    .dataframe thead th {\n",
       "        text-align: right;\n",
       "    }\n",
       "</style>\n",
       "<table border=\"1\" class=\"dataframe\">\n",
       "  <thead>\n",
       "    <tr style=\"text-align: right;\">\n",
       "      <th></th>\n",
       "      <th>Weekly_Sales</th>\n",
       "    </tr>\n",
       "    <tr>\n",
       "      <th>Date</th>\n",
       "      <th></th>\n",
       "    </tr>\n",
       "  </thead>\n",
       "  <tbody>\n",
       "    <tr>\n",
       "      <th>2010-05-02</th>\n",
       "      <td>10158.77</td>\n",
       "    </tr>\n",
       "    <tr>\n",
       "      <th>2010-12-02</th>\n",
       "      <td>14346.05</td>\n",
       "    </tr>\n",
       "    <tr>\n",
       "      <th>2010-02-19</th>\n",
       "      <td>12321.18</td>\n",
       "    </tr>\n",
       "    <tr>\n",
       "      <th>2010-02-26</th>\n",
       "      <td>10099.28</td>\n",
       "    </tr>\n",
       "    <tr>\n",
       "      <th>2010-05-03</th>\n",
       "      <td>9719.90</td>\n",
       "    </tr>\n",
       "  </tbody>\n",
       "</table>\n",
       "</div>"
      ],
      "text/plain": [
       "            Weekly_Sales\n",
       "Date                    \n",
       "2010-05-02      10158.77\n",
       "2010-12-02      14346.05\n",
       "2010-02-19      12321.18\n",
       "2010-02-26      10099.28\n",
       "2010-05-03       9719.90"
      ]
     },
     "execution_count": 27,
     "metadata": {},
     "output_type": "execute_result"
    }
   ],
   "source": [
    "F_TypeC.head()"
   ]
  },
  {
   "cell_type": "code",
   "execution_count": 28,
   "metadata": {},
   "outputs": [
    {
     "data": {
      "text/html": [
       "<div>\n",
       "<style scoped>\n",
       "    .dataframe tbody tr th:only-of-type {\n",
       "        vertical-align: middle;\n",
       "    }\n",
       "\n",
       "    .dataframe tbody tr th {\n",
       "        vertical-align: top;\n",
       "    }\n",
       "\n",
       "    .dataframe thead th {\n",
       "        text-align: right;\n",
       "    }\n",
       "</style>\n",
       "<table border=\"1\" class=\"dataframe\">\n",
       "  <thead>\n",
       "    <tr style=\"text-align: right;\">\n",
       "      <th></th>\n",
       "      <th>Weekly_Sales</th>\n",
       "    </tr>\n",
       "    <tr>\n",
       "      <th>Date</th>\n",
       "      <th></th>\n",
       "    </tr>\n",
       "  </thead>\n",
       "  <tbody>\n",
       "    <tr>\n",
       "      <th>2010-05-02</th>\n",
       "      <td>NaN</td>\n",
       "    </tr>\n",
       "    <tr>\n",
       "      <th>2010-12-02</th>\n",
       "      <td>10158.77</td>\n",
       "    </tr>\n",
       "    <tr>\n",
       "      <th>2010-02-19</th>\n",
       "      <td>14346.05</td>\n",
       "    </tr>\n",
       "    <tr>\n",
       "      <th>2010-02-26</th>\n",
       "      <td>12321.18</td>\n",
       "    </tr>\n",
       "    <tr>\n",
       "      <th>2010-05-03</th>\n",
       "      <td>10099.28</td>\n",
       "    </tr>\n",
       "    <tr>\n",
       "      <th>...</th>\n",
       "      <td>...</td>\n",
       "    </tr>\n",
       "    <tr>\n",
       "      <th>2012-06-07</th>\n",
       "      <td>149.33</td>\n",
       "    </tr>\n",
       "    <tr>\n",
       "      <th>2012-07-13</th>\n",
       "      <td>137.71</td>\n",
       "    </tr>\n",
       "    <tr>\n",
       "      <th>2012-07-20</th>\n",
       "      <td>90.40</td>\n",
       "    </tr>\n",
       "    <tr>\n",
       "      <th>2012-07-27</th>\n",
       "      <td>114.21</td>\n",
       "    </tr>\n",
       "    <tr>\n",
       "      <th>2012-03-08</th>\n",
       "      <td>66.30</td>\n",
       "    </tr>\n",
       "  </tbody>\n",
       "</table>\n",
       "<p>10000 rows × 1 columns</p>\n",
       "</div>"
      ],
      "text/plain": [
       "            Weekly_Sales\n",
       "Date                    \n",
       "2010-05-02           NaN\n",
       "2010-12-02      10158.77\n",
       "2010-02-19      14346.05\n",
       "2010-02-26      12321.18\n",
       "2010-05-03      10099.28\n",
       "...                  ...\n",
       "2012-06-07        149.33\n",
       "2012-07-13        137.71\n",
       "2012-07-20         90.40\n",
       "2012-07-27        114.21\n",
       "2012-03-08         66.30\n",
       "\n",
       "[10000 rows x 1 columns]"
      ]
     },
     "execution_count": 28,
     "metadata": {},
     "output_type": "execute_result"
    }
   ],
   "source": [
    "F_TypeC.shift(1)"
   ]
  },
  {
   "cell_type": "code",
   "execution_count": 29,
   "metadata": {},
   "outputs": [],
   "source": [
    "TypeC_diff = F_TypeC.diff(periods=1)\n",
    "#integrated of order 1 (1 lag)\n",
    "#denoted by d (for difference)\n",
    "#one of the parameter of ARIMA"
   ]
  },
  {
   "cell_type": "code",
   "execution_count": 30,
   "metadata": {},
   "outputs": [
    {
     "data": {
      "text/html": [
       "<div>\n",
       "<style scoped>\n",
       "    .dataframe tbody tr th:only-of-type {\n",
       "        vertical-align: middle;\n",
       "    }\n",
       "\n",
       "    .dataframe tbody tr th {\n",
       "        vertical-align: top;\n",
       "    }\n",
       "\n",
       "    .dataframe thead th {\n",
       "        text-align: right;\n",
       "    }\n",
       "</style>\n",
       "<table border=\"1\" class=\"dataframe\">\n",
       "  <thead>\n",
       "    <tr style=\"text-align: right;\">\n",
       "      <th></th>\n",
       "      <th>Weekly_Sales</th>\n",
       "    </tr>\n",
       "    <tr>\n",
       "      <th>Date</th>\n",
       "      <th></th>\n",
       "    </tr>\n",
       "  </thead>\n",
       "  <tbody>\n",
       "    <tr>\n",
       "      <th>2010-12-02</th>\n",
       "      <td>4187.28</td>\n",
       "    </tr>\n",
       "    <tr>\n",
       "      <th>2010-02-19</th>\n",
       "      <td>-2024.87</td>\n",
       "    </tr>\n",
       "    <tr>\n",
       "      <th>2010-02-26</th>\n",
       "      <td>-2221.90</td>\n",
       "    </tr>\n",
       "    <tr>\n",
       "      <th>2010-05-03</th>\n",
       "      <td>-379.38</td>\n",
       "    </tr>\n",
       "    <tr>\n",
       "      <th>2010-12-03</th>\n",
       "      <td>840.59</td>\n",
       "    </tr>\n",
       "  </tbody>\n",
       "</table>\n",
       "</div>"
      ],
      "text/plain": [
       "            Weekly_Sales\n",
       "Date                    \n",
       "2010-12-02       4187.28\n",
       "2010-02-19      -2024.87\n",
       "2010-02-26      -2221.90\n",
       "2010-05-03       -379.38\n",
       "2010-12-03        840.59"
      ]
     },
     "execution_count": 30,
     "metadata": {},
     "output_type": "execute_result"
    }
   ],
   "source": [
    "#removing the NaN value\n",
    "TypeC_diff = TypeC_diff[1:]\n",
    "TypeC_diff.head()"
   ]
  },
  {
   "cell_type": "code",
   "execution_count": 31,
   "metadata": {},
   "outputs": [
    {
     "data": {
      "image/png": "[encoded data removed]",
      "text/plain": [
       "<Figure size 432x288 with 1 Axes>"
      ]
     },
     "execution_count": 31,
     "metadata": {},
     "output_type": "execute_result"
    },
    {
     "data": {
      "image/png": "[encoded data removed]",
      "text/plain": [
       "<Figure size 432x288 with 1 Axes>"
      ]
     },
     "metadata": {
      "needs_background": "light"
     },
     "output_type": "display_data"
    }
   ],
   "source": [
    "plot_acf(TypeC_diff)"
   ]
  },
  {
   "cell_type": "code",
   "execution_count": 32,
   "metadata": {},
   "outputs": [
    {
     "data": {
      "text/plain": [
       "<matplotlib.axes._subplots.AxesSubplot at 0x11fec5190>"
      ]
     },
     "execution_count": 32,
     "metadata": {},
     "output_type": "execute_result"
    },
    {
     "data": {
      "image/png": "[encoded data removed]",
      "text/plain": [
       "<Figure size 432x288 with 1 Axes>"
      ]
     },
     "metadata": {
      "needs_background": "light"
     },
     "output_type": "display_data"
    }
   ],
   "source": [
    "TypeC_diff.plot()"
   ]
  },
  {
   "cell_type": "code",
   "execution_count": 33,
   "metadata": {},
   "outputs": [],
   "source": [
    "X = F_TypeC.values\n",
    "train = X[0:9000] #9000 data as train data\n",
    "test = X[9000:] #1000 data as test data\n",
    "\n",
    "predictions = []"
   ]
  },
  {
   "cell_type": "code",
   "execution_count": 34,
   "metadata": {},
   "outputs": [
    {
     "data": {
      "text/plain": [
       "1000"
      ]
     },
     "execution_count": 34,
     "metadata": {},
     "output_type": "execute_result"
    }
   ],
   "source": [
    "test.size"
   ]
  },
  {
   "cell_type": "code",
   "execution_count": 35,
   "metadata": {},
   "outputs": [],
   "source": [
    "from statsmodels.tsa.arima_model import ARIMA\n",
    "from sklearn.metrics import mean_squared_error"
   ]
  },
  {
   "cell_type": "code",
   "execution_count": 36,
   "metadata": {},
   "outputs": [
    {
     "name": "stdout",
     "output_type": "stream",
     "text": [
      "162018.7463181614\n"
     ]
    }
   ],
   "source": [
    "#p,d,q\n",
    "model_arima = ARIMA(train,order=(2,1,1))\n",
    "model_arima_fit = model_arima.fit()\n",
    "\n",
    "#AIC value\n",
    "print(model_arima_fit.aic)"
   ]
  },
  {
   "cell_type": "code",
   "execution_count": 37,
   "metadata": {},
   "outputs": [
    {
     "data": {
      "text/plain": [
       "array([17311.6211332 , 17235.90345322, 17260.29165586, 17257.79801172,\n",
       "       17259.47204177, 17260.06559496, 17260.83216899, 17261.55524498,\n",
       "       17262.28548672, 17263.01397476, 17263.74275897, 17264.47147238,\n",
       "       17265.20019801, 17265.92892078, 17266.65764406, 17267.38636722,\n",
       "       17268.1150904 , 17268.84381357, 17269.57253675, 17270.30125992,\n",
       "       17271.0299831 , 17271.75870627, 17272.48742945, 17273.21615263,\n",
       "       17273.9448758 , 17274.67359898, 17275.40232215, 17276.13104533,\n",
       "       17276.8597685 , 17277.58849168, 17278.31721486, 17279.04593803,\n",
       "       17279.77466121, 17280.50338438, 17281.23210756, 17281.96083073,\n",
       "       17282.68955391, 17283.41827709, 17284.14700026, 17284.87572344,\n",
       "       17285.60444661, 17286.33316979, 17287.06189296, 17287.79061614,\n",
       "       17288.51933932, 17289.24806249, 17289.97678567, 17290.70550884,\n",
       "       17291.43423202, 17292.16295519, 17292.89167837, 17293.62040155,\n",
       "       17294.34912472, 17295.0778479 , 17295.80657107, 17296.53529425,\n",
       "       17297.26401742, 17297.9927406 , 17298.72146378, 17299.45018695,\n",
       "       17300.17891013, 17300.9076333 , 17301.63635648, 17302.36507965,\n",
       "       17303.09380283, 17303.82252601, 17304.55124918, 17305.27997236,\n",
       "       17306.00869553, 17306.73741871, 17307.46614188, 17308.19486506,\n",
       "       17308.92358824, 17309.65231141, 17310.38103459, 17311.10975776,\n",
       "       17311.83848094, 17312.56720411, 17313.29592729, 17314.02465047,\n",
       "       17314.75337364, 17315.48209682, 17316.21081999, 17316.93954317,\n",
       "       17317.66826634, 17318.39698952, 17319.1257127 , 17319.85443587,\n",
       "       17320.58315905, 17321.31188222, 17322.0406054 , 17322.76932857,\n",
       "       17323.49805175, 17324.22677493, 17324.9554981 , 17325.68422128,\n",
       "       17326.41294445, 17327.14166763, 17327.8703908 , 17328.59911398,\n",
       "       17329.32783716, 17330.05656033, 17330.78528351, 17331.51400668,\n",
       "       17332.24272986, 17332.97145303, 17333.70017621, 17334.42889939,\n",
       "       17335.15762256, 17335.88634574, 17336.61506891, 17337.34379209,\n",
       "       17338.07251526, 17338.80123844, 17339.52996162, 17340.25868479,\n",
       "       17340.98740797, 17341.71613114, 17342.44485432, 17343.17357749,\n",
       "       17343.90230067, 17344.63102385, 17345.35974702, 17346.0884702 ,\n",
       "       17346.81719337, 17347.54591655, 17348.27463972, 17349.0033629 ,\n",
       "       17349.73208608, 17350.46080925, 17351.18953243, 17351.9182556 ,\n",
       "       17352.64697878, 17353.37570195, 17354.10442513, 17354.83314831,\n",
       "       17355.56187148, 17356.29059466, 17357.01931783, 17357.74804101,\n",
       "       17358.47676418, 17359.20548736, 17359.93421054, 17360.66293371,\n",
       "       17361.39165689, 17362.12038006, 17362.84910324, 17363.57782641,\n",
       "       17364.30654959, 17365.03527277, 17365.76399594, 17366.49271912,\n",
       "       17367.22144229, 17367.95016547, 17368.67888864, 17369.40761182,\n",
       "       17370.136335  , 17370.86505817, 17371.59378135, 17372.32250452,\n",
       "       17373.0512277 , 17373.77995087, 17374.50867405, 17375.23739723,\n",
       "       17375.9661204 , 17376.69484358, 17377.42356675, 17378.15228993,\n",
       "       17378.8810131 , 17379.60973628, 17380.33845946, 17381.06718263,\n",
       "       17381.79590581, 17382.52462898, 17383.25335216, 17383.98207533,\n",
       "       17384.71079851, 17385.43952169, 17386.16824486, 17386.89696804,\n",
       "       17387.62569121, 17388.35441439, 17389.08313756, 17389.81186074,\n",
       "       17390.54058392, 17391.26930709, 17391.99803027, 17392.72675344,\n",
       "       17393.45547662, 17394.18419979, 17394.91292297, 17395.64164615,\n",
       "       17396.37036932, 17397.0990925 , 17397.82781567, 17398.55653885,\n",
       "       17399.28526202, 17400.0139852 , 17400.74270838, 17401.47143155,\n",
       "       17402.20015473, 17402.9288779 , 17403.65760108, 17404.38632425,\n",
       "       17405.11504743, 17405.84377061, 17406.57249378, 17407.30121696,\n",
       "       17408.02994013, 17408.75866331, 17409.48738648, 17410.21610966,\n",
       "       17410.94483284, 17411.67355601, 17412.40227919, 17413.13100236,\n",
       "       17413.85972554, 17414.58844871, 17415.31717189, 17416.04589507,\n",
       "       17416.77461824, 17417.50334142, 17418.23206459, 17418.96078777,\n",
       "       17419.68951094, 17420.41823412, 17421.1469573 , 17421.87568047,\n",
       "       17422.60440365, 17423.33312682, 17424.06185   , 17424.79057317,\n",
       "       17425.51929635, 17426.24801953, 17426.9767427 , 17427.70546588,\n",
       "       17428.43418905, 17429.16291223, 17429.8916354 , 17430.62035858,\n",
       "       17431.34908176, 17432.07780493, 17432.80652811, 17433.53525128,\n",
       "       17434.26397446, 17434.99269763, 17435.72142081, 17436.45014398,\n",
       "       17437.17886716, 17437.90759034, 17438.63631351, 17439.36503669,\n",
       "       17440.09375986, 17440.82248304, 17441.55120621, 17442.27992939,\n",
       "       17443.00865257, 17443.73737574, 17444.46609892, 17445.19482209,\n",
       "       17445.92354527, 17446.65226844, 17447.38099162, 17448.1097148 ,\n",
       "       17448.83843797, 17449.56716115, 17450.29588432, 17451.0246075 ,\n",
       "       17451.75333067, 17452.48205385, 17453.21077703, 17453.9395002 ,\n",
       "       17454.66822338, 17455.39694655, 17456.12566973, 17456.8543929 ,\n",
       "       17457.58311608, 17458.31183926, 17459.04056243, 17459.76928561,\n",
       "       17460.49800878, 17461.22673196, 17461.95545513, 17462.68417831,\n",
       "       17463.41290149, 17464.14162466, 17464.87034784, 17465.59907101,\n",
       "       17466.32779419, 17467.05651736, 17467.78524054, 17468.51396372,\n",
       "       17469.24268689, 17469.97141007, 17470.70013324, 17471.42885642,\n",
       "       17472.15757959, 17472.88630277, 17473.61502595, 17474.34374912,\n",
       "       17475.0724723 , 17475.80119547, 17476.52991865, 17477.25864182,\n",
       "       17477.987365  , 17478.71608818, 17479.44481135, 17480.17353453,\n",
       "       17480.9022577 , 17481.63098088, 17482.35970405, 17483.08842723,\n",
       "       17483.81715041, 17484.54587358, 17485.27459676, 17486.00331993,\n",
       "       17486.73204311, 17487.46076628, 17488.18948946, 17488.91821264,\n",
       "       17489.64693581, 17490.37565899, 17491.10438216, 17491.83310534,\n",
       "       17492.56182851, 17493.29055169, 17494.01927487, 17494.74799804,\n",
       "       17495.47672122, 17496.20544439, 17496.93416757, 17497.66289074,\n",
       "       17498.39161392, 17499.1203371 , 17499.84906027, 17500.57778345,\n",
       "       17501.30650662, 17502.0352298 , 17502.76395297, 17503.49267615,\n",
       "       17504.22139933, 17504.9501225 , 17505.67884568, 17506.40756885,\n",
       "       17507.13629203, 17507.8650152 , 17508.59373838, 17509.32246156,\n",
       "       17510.05118473, 17510.77990791, 17511.50863108, 17512.23735426,\n",
       "       17512.96607743, 17513.69480061, 17514.42352379, 17515.15224696,\n",
       "       17515.88097014, 17516.60969331, 17517.33841649, 17518.06713966,\n",
       "       17518.79586284, 17519.52458602, 17520.25330919, 17520.98203237,\n",
       "       17521.71075554, 17522.43947872, 17523.16820189, 17523.89692507,\n",
       "       17524.62564825, 17525.35437142, 17526.0830946 , 17526.81181777,\n",
       "       17527.54054095, 17528.26926412, 17528.9979873 , 17529.72671048,\n",
       "       17530.45543365, 17531.18415683, 17531.91288   , 17532.64160318,\n",
       "       17533.37032635, 17534.09904953, 17534.82777271, 17535.55649588,\n",
       "       17536.28521906, 17537.01394223, 17537.74266541, 17538.47138858,\n",
       "       17539.20011176, 17539.92883494, 17540.65755811, 17541.38628129,\n",
       "       17542.11500446, 17542.84372764, 17543.57245081, 17544.30117399,\n",
       "       17545.02989717, 17545.75862034, 17546.48734352, 17547.21606669,\n",
       "       17547.94478987, 17548.67351304, 17549.40223622, 17550.1309594 ,\n",
       "       17550.85968257, 17551.58840575, 17552.31712892, 17553.0458521 ,\n",
       "       17553.77457527, 17554.50329845, 17555.23202163, 17555.9607448 ,\n",
       "       17556.68946798, 17557.41819115, 17558.14691433, 17558.8756375 ,\n",
       "       17559.60436068, 17560.33308386, 17561.06180703, 17561.79053021,\n",
       "       17562.51925338, 17563.24797656, 17563.97669973, 17564.70542291,\n",
       "       17565.43414609, 17566.16286926, 17566.89159244, 17567.62031561,\n",
       "       17568.34903879, 17569.07776196, 17569.80648514, 17570.53520832,\n",
       "       17571.26393149, 17571.99265467, 17572.72137784, 17573.45010102,\n",
       "       17574.17882419, 17574.90754737, 17575.63627055, 17576.36499372,\n",
       "       17577.0937169 , 17577.82244007, 17578.55116325, 17579.27988642,\n",
       "       17580.0086096 , 17580.73733278, 17581.46605595, 17582.19477913,\n",
       "       17582.9235023 , 17583.65222548, 17584.38094865, 17585.10967183,\n",
       "       17585.83839501, 17586.56711818, 17587.29584136, 17588.02456453,\n",
       "       17588.75328771, 17589.48201088, 17590.21073406, 17590.93945724,\n",
       "       17591.66818041, 17592.39690359, 17593.12562676, 17593.85434994,\n",
       "       17594.58307311, 17595.31179629, 17596.04051947, 17596.76924264,\n",
       "       17597.49796582, 17598.22668899, 17598.95541217, 17599.68413534,\n",
       "       17600.41285852, 17601.1415817 , 17601.87030487, 17602.59902805,\n",
       "       17603.32775122, 17604.0564744 , 17604.78519757, 17605.51392075,\n",
       "       17606.24264393, 17606.9713671 , 17607.70009028, 17608.42881345,\n",
       "       17609.15753663, 17609.8862598 , 17610.61498298, 17611.34370616,\n",
       "       17612.07242933, 17612.80115251, 17613.52987568, 17614.25859886,\n",
       "       17614.98732203, 17615.71604521, 17616.44476839, 17617.17349156,\n",
       "       17617.90221474, 17618.63093791, 17619.35966109, 17620.08838426,\n",
       "       17620.81710744, 17621.54583062, 17622.27455379, 17623.00327697,\n",
       "       17623.73200014, 17624.46072332, 17625.18944649, 17625.91816967,\n",
       "       17626.64689285, 17627.37561602, 17628.1043392 , 17628.83306237,\n",
       "       17629.56178555, 17630.29050872, 17631.0192319 , 17631.74795508,\n",
       "       17632.47667825, 17633.20540143, 17633.9341246 , 17634.66284778,\n",
       "       17635.39157095, 17636.12029413, 17636.84901731, 17637.57774048,\n",
       "       17638.30646366, 17639.03518683, 17639.76391001, 17640.49263318,\n",
       "       17641.22135636, 17641.95007954, 17642.67880271, 17643.40752589,\n",
       "       17644.13624906, 17644.86497224, 17645.59369541, 17646.32241859,\n",
       "       17647.05114177, 17647.77986494, 17648.50858812, 17649.23731129,\n",
       "       17649.96603447, 17650.69475764, 17651.42348082, 17652.152204  ,\n",
       "       17652.88092717, 17653.60965035, 17654.33837352, 17655.0670967 ,\n",
       "       17655.79581987, 17656.52454305, 17657.25326623, 17657.9819894 ,\n",
       "       17658.71071258, 17659.43943575, 17660.16815893, 17660.8968821 ,\n",
       "       17661.62560528, 17662.35432846, 17663.08305163, 17663.81177481,\n",
       "       17664.54049798, 17665.26922116, 17665.99794433, 17666.72666751,\n",
       "       17667.45539069, 17668.18411386, 17668.91283704, 17669.64156021,\n",
       "       17670.37028339, 17671.09900656, 17671.82772974, 17672.55645292,\n",
       "       17673.28517609, 17674.01389927, 17674.74262244, 17675.47134562,\n",
       "       17676.20006879, 17676.92879197, 17677.65751515, 17678.38623832,\n",
       "       17679.1149615 , 17679.84368467, 17680.57240785, 17681.30113102,\n",
       "       17682.0298542 , 17682.75857738, 17683.48730055, 17684.21602373,\n",
       "       17684.9447469 , 17685.67347008, 17686.40219325, 17687.13091643,\n",
       "       17687.85963961, 17688.58836278, 17689.31708596, 17690.04580913,\n",
       "       17690.77453231, 17691.50325548, 17692.23197866, 17692.96070184,\n",
       "       17693.68942501, 17694.41814819, 17695.14687136, 17695.87559454,\n",
       "       17696.60431771, 17697.33304089, 17698.06176407, 17698.79048724,\n",
       "       17699.51921042, 17700.24793359, 17700.97665677, 17701.70537994,\n",
       "       17702.43410312, 17703.1628263 , 17703.89154947, 17704.62027265,\n",
       "       17705.34899582, 17706.077719  , 17706.80644217, 17707.53516535,\n",
       "       17708.26388853, 17708.9926117 , 17709.72133488, 17710.45005805,\n",
       "       17711.17878123, 17711.9075044 , 17712.63622758, 17713.36495076,\n",
       "       17714.09367393, 17714.82239711, 17715.55112028, 17716.27984346,\n",
       "       17717.00856663, 17717.73728981, 17718.46601299, 17719.19473616,\n",
       "       17719.92345934, 17720.65218251, 17721.38090569, 17722.10962886,\n",
       "       17722.83835204, 17723.56707522, 17724.29579839, 17725.02452157,\n",
       "       17725.75324474, 17726.48196792, 17727.21069109, 17727.93941427,\n",
       "       17728.66813745, 17729.39686062, 17730.1255838 , 17730.85430697,\n",
       "       17731.58303015, 17732.31175332, 17733.0404765 , 17733.76919968,\n",
       "       17734.49792285, 17735.22664603, 17735.9553692 , 17736.68409238,\n",
       "       17737.41281555, 17738.14153873, 17738.87026191, 17739.59898508,\n",
       "       17740.32770826, 17741.05643143, 17741.78515461, 17742.51387778,\n",
       "       17743.24260096, 17743.97132413, 17744.70004731, 17745.42877049,\n",
       "       17746.15749366, 17746.88621684, 17747.61494001, 17748.34366319,\n",
       "       17749.07238636, 17749.80110954, 17750.52983272, 17751.25855589,\n",
       "       17751.98727907, 17752.71600224, 17753.44472542, 17754.17344859,\n",
       "       17754.90217177, 17755.63089495, 17756.35961812, 17757.0883413 ,\n",
       "       17757.81706447, 17758.54578765, 17759.27451082, 17760.003234  ,\n",
       "       17760.73195718, 17761.46068035, 17762.18940353, 17762.9181267 ,\n",
       "       17763.64684988, 17764.37557305, 17765.10429623, 17765.83301941,\n",
       "       17766.56174258, 17767.29046576, 17768.01918893, 17768.74791211,\n",
       "       17769.47663528, 17770.20535846, 17770.93408164, 17771.66280481,\n",
       "       17772.39152799, 17773.12025116, 17773.84897434, 17774.57769751,\n",
       "       17775.30642069, 17776.03514387, 17776.76386704, 17777.49259022,\n",
       "       17778.22131339, 17778.95003657, 17779.67875974, 17780.40748292,\n",
       "       17781.1362061 , 17781.86492927, 17782.59365245, 17783.32237562,\n",
       "       17784.0510988 , 17784.77982197, 17785.50854515, 17786.23726833,\n",
       "       17786.9659915 , 17787.69471468, 17788.42343785, 17789.15216103,\n",
       "       17789.8808842 , 17790.60960738, 17791.33833056, 17792.06705373,\n",
       "       17792.79577691, 17793.52450008, 17794.25322326, 17794.98194643,\n",
       "       17795.71066961, 17796.43939279, 17797.16811596, 17797.89683914,\n",
       "       17798.62556231, 17799.35428549, 17800.08300866, 17800.81173184,\n",
       "       17801.54045502, 17802.26917819, 17802.99790137, 17803.72662454,\n",
       "       17804.45534772, 17805.18407089, 17805.91279407, 17806.64151725,\n",
       "       17807.37024042, 17808.0989636 , 17808.82768677, 17809.55640995,\n",
       "       17810.28513312, 17811.0138563 , 17811.74257948, 17812.47130265,\n",
       "       17813.20002583, 17813.928749  , 17814.65747218, 17815.38619535,\n",
       "       17816.11491853, 17816.84364171, 17817.57236488, 17818.30108806,\n",
       "       17819.02981123, 17819.75853441, 17820.48725758, 17821.21598076,\n",
       "       17821.94470394, 17822.67342711, 17823.40215029, 17824.13087346,\n",
       "       17824.85959664, 17825.58831981, 17826.31704299, 17827.04576617,\n",
       "       17827.77448934, 17828.50321252, 17829.23193569, 17829.96065887,\n",
       "       17830.68938204, 17831.41810522, 17832.1468284 , 17832.87555157,\n",
       "       17833.60427475, 17834.33299792, 17835.0617211 , 17835.79044427,\n",
       "       17836.51916745, 17837.24789063, 17837.9766138 , 17838.70533698,\n",
       "       17839.43406015, 17840.16278333, 17840.8915065 , 17841.62022968,\n",
       "       17842.34895286, 17843.07767603, 17843.80639921, 17844.53512238,\n",
       "       17845.26384556, 17845.99256873, 17846.72129191, 17847.45001509,\n",
       "       17848.17873826, 17848.90746144, 17849.63618461, 17850.36490779,\n",
       "       17851.09363096, 17851.82235414, 17852.55107732, 17853.27980049,\n",
       "       17854.00852367, 17854.73724684, 17855.46597002, 17856.19469319,\n",
       "       17856.92341637, 17857.65213955, 17858.38086272, 17859.1095859 ,\n",
       "       17859.83830907, 17860.56703225, 17861.29575542, 17862.0244786 ,\n",
       "       17862.75320178, 17863.48192495, 17864.21064813, 17864.9393713 ,\n",
       "       17865.66809448, 17866.39681765, 17867.12554083, 17867.85426401,\n",
       "       17868.58298718, 17869.31171036, 17870.04043353, 17870.76915671,\n",
       "       17871.49787988, 17872.22660306, 17872.95532624, 17873.68404941,\n",
       "       17874.41277259, 17875.14149576, 17875.87021894, 17876.59894211,\n",
       "       17877.32766529, 17878.05638847, 17878.78511164, 17879.51383482,\n",
       "       17880.24255799, 17880.97128117, 17881.70000434, 17882.42872752,\n",
       "       17883.1574507 , 17883.88617387, 17884.61489705, 17885.34362022,\n",
       "       17886.0723434 , 17886.80106657, 17887.52978975, 17888.25851293,\n",
       "       17888.9872361 , 17889.71595928, 17890.44468245, 17891.17340563,\n",
       "       17891.9021288 , 17892.63085198, 17893.35957516, 17894.08829833,\n",
       "       17894.81702151, 17895.54574468, 17896.27446786, 17897.00319103,\n",
       "       17897.73191421, 17898.46063739, 17899.18936056, 17899.91808374,\n",
       "       17900.64680691, 17901.37553009, 17902.10425326, 17902.83297644,\n",
       "       17903.56169962, 17904.29042279, 17905.01914597, 17905.74786914,\n",
       "       17906.47659232, 17907.20531549, 17907.93403867, 17908.66276185,\n",
       "       17909.39148502, 17910.1202082 , 17910.84893137, 17911.57765455,\n",
       "       17912.30637772, 17913.0351009 , 17913.76382408, 17914.49254725,\n",
       "       17915.22127043, 17915.9499936 , 17916.67871678, 17917.40743995,\n",
       "       17918.13616313, 17918.86488631, 17919.59360948, 17920.32233266,\n",
       "       17921.05105583, 17921.77977901, 17922.50850218, 17923.23722536,\n",
       "       17923.96594854, 17924.69467171, 17925.42339489, 17926.15211806,\n",
       "       17926.88084124, 17927.60956441, 17928.33828759, 17929.06701077,\n",
       "       17929.79573394, 17930.52445712, 17931.25318029, 17931.98190347,\n",
       "       17932.71062664, 17933.43934982, 17934.168073  , 17934.89679617,\n",
       "       17935.62551935, 17936.35424252, 17937.0829657 , 17937.81168887,\n",
       "       17938.54041205, 17939.26913523, 17939.9978584 , 17940.72658158,\n",
       "       17941.45530475, 17942.18402793, 17942.9127511 , 17943.64147428,\n",
       "       17944.37019746, 17945.09892063, 17945.82764381, 17946.55636698,\n",
       "       17947.28509016, 17948.01381333, 17948.74253651, 17949.47125969,\n",
       "       17950.19998286, 17950.92870604, 17951.65742921, 17952.38615239,\n",
       "       17953.11487556, 17953.84359874, 17954.57232192, 17955.30104509,\n",
       "       17956.02976827, 17956.75849144, 17957.48721462, 17958.21593779,\n",
       "       17958.94466097, 17959.67338415, 17960.40210732, 17961.1308305 ,\n",
       "       17961.85955367, 17962.58827685, 17963.31700002, 17964.0457232 ,\n",
       "       17964.77444638, 17965.50316955, 17966.23189273, 17966.9606159 ,\n",
       "       17967.68933908, 17968.41806225, 17969.14678543, 17969.87550861,\n",
       "       17970.60423178, 17971.33295496, 17972.06167813, 17972.79040131,\n",
       "       17973.51912448, 17974.24784766, 17974.97657084, 17975.70529401,\n",
       "       17976.43401719, 17977.16274036, 17977.89146354, 17978.62018671,\n",
       "       17979.34890989, 17980.07763307, 17980.80635624, 17981.53507942,\n",
       "       17982.26380259, 17982.99252577, 17983.72124894, 17984.44997212])"
      ]
     },
     "execution_count": 37,
     "metadata": {},
     "output_type": "execute_result"
    }
   ],
   "source": [
    "predictions = model_arima_fit.forecast(steps=1000)[0]\n",
    "predictions"
   ]
  },
  {
   "cell_type": "code",
   "execution_count": 40,
   "metadata": {},
   "outputs": [
    {
     "data": {
      "text/plain": [
       "Text(0.5, 0, 'Timeseries')"
      ]
     },
     "execution_count": 40,
     "metadata": {},
     "output_type": "execute_result"
    },
    {
     "data": {
      "image/png": "[encoded data removed]",
      "text/plain": [
       "<Figure size 432x288 with 1 Axes>"
      ]
     },
     "metadata": {
      "needs_background": "light"
     },
     "output_type": "display_data"
    }
   ],
   "source": [
    "plt.plot(test)\n",
    "plt.plot(predictions, color='red')\n",
    "plt.title(\"ARIMA in Type C\")\n",
    "plt.ylabel('Number of sales')\n",
    "plt.xlabel('Timeseries')"
   ]
  },
  {
   "cell_type": "code",
   "execution_count": 39,
   "metadata": {},
   "outputs": [
    {
     "data": {
      "text/plain": [
       "278600863.4995443"
      ]
     },
     "execution_count": 39,
     "metadata": {},
     "output_type": "execute_result"
    }
   ],
   "source": [
    "mean_squared_error(test,predictions)"
   ]
  },
  {
   "cell_type": "code",
   "execution_count": null,
   "metadata": {},
   "outputs": [],
   "source": []
  }
 ],
 "metadata": {
  "kernelspec": {
   "display_name": "Python 3",
   "language": "python",
   "name": "python3"
  },
  "language_info": {
   "codemirror_mode": {
    "name": "ipython",
    "version": 3
   },
   "file_extension": ".py",
   "mimetype": "text/x-python",
   "name": "python",
   "nbconvert_exporter": "python",
   "pygments_lexer": "ipython3",
   "version": "3.8.5"
  }
 },
 "nbformat": 4,
 "nbformat_minor": 4
}
